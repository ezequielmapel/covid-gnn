{
  "cells": [
    {
      "cell_type": "markdown",
      "metadata": {
        "id": "DQKflKlwU-Da"
      },
      "source": [
        "#Dependências"
      ]
    },
    {
      "cell_type": "code",
      "execution_count": 1,
      "metadata": {
        "id": "G1QX8Qm1v2gG"
      },
      "outputs": [],
      "source": [
        "#!pip -q install torch torchvision torchaudio\n",
        "#!pip -q install torch_geometric\n",
        "#!pip -q install pyg_lib torch_scatter torch_sparse torch_cluster torch_spline_conv -f https://data.pyg.org/whl/torch-2.0.1+cpu.html"
      ]
    },
    {
      "cell_type": "code",
      "execution_count": 2,
      "metadata": {
        "id": "FgmvE0mpVD3B"
      },
      "outputs": [],
      "source": [
        "import numpy as np\n",
        "import pandas as pd\n",
        "from datetime import datetime\n",
        "\n",
        "# Tratar dados\n",
        "from sklearn.preprocessing import LabelEncoder\n",
        "from sklearn.preprocessing import OneHotEncoder\n",
        "from sklearn.metrics.pairwise import cosine_similarity\n",
        "from sklearn.metrics import accuracy_score,f1_score,roc_auc_score, precision_score, recall_score, confusion_matrix\n",
        "\n",
        "\n",
        "import re\n",
        "from imblearn.under_sampling import RandomUnderSampler\n",
        "\n",
        "# Importando CSV\n",
        "#from google.colab import drive\n",
        "\n",
        "# PyG\n",
        "import torch\n",
        "from torch_geometric.data import Data\n",
        "from torch_geometric.utils import remove_isolated_nodes\n",
        "from torch_geometric.utils import contains_isolated_nodes\n",
        "from torch_geometric.transforms import LargestConnectedComponents\n",
        "import torch_geometric.transforms as T\n",
        "import torch.nn.functional as F\n",
        "from torch import nn"
      ]
    },
    {
      "cell_type": "markdown",
      "metadata": {
        "id": "6Y8rcZmOVmsm"
      },
      "source": [
        "### Lendo CSV do Google Drive"
      ]
    },
    {
      "cell_type": "code",
      "execution_count": 3,
      "metadata": {
        "colab": {
          "base_uri": "https://localhost:8080/"
        },
        "id": "5OXOAEvgVl9t",
        "outputId": "7c8cc1be-90bd-4b35-bc00-e4b3498e35af"
      },
      "outputs": [
        {
          "name": "stderr",
          "output_type": "stream",
          "text": [
            "C:\\Users\\ezequ\\AppData\\Local\\Temp\\ipykernel_12016\\3692900595.py:4: DtypeWarning: Columns (5) have mixed types. Specify dtype option on import or set low_memory=False.\n",
            "  covid_df = pd.read_csv(filename, sep=\";\", index_col=False, encoding=\"iso-8859-1\")\n"
          ]
        }
      ],
      "source": [
        "filename = \"./data/covid_es_dados.es.gov.br.csv\"\n",
        "#drive.mount('/content/drive')\n",
        "#filename = '/content/drive/MyDrive/BSI/2023-2/PD2/Datasets/covid_es_dados.es.gov.br.csv'\n",
        "covid_df = pd.read_csv(filename, sep=\";\", index_col=False, encoding=\"iso-8859-1\")\n",
        "#covid_df = pd.read_csv(filename, sep=\";\", index_col=False, encoding=\"iso-8859-1\")"
      ]
    },
    {
      "cell_type": "code",
      "execution_count": 4,
      "metadata": {
        "colab": {
          "base_uri": "https://localhost:8080/"
        },
        "id": "YXbrGCOlb1Lo",
        "outputId": "88269849-51b3-42e6-a12a-94eca34beb99"
      },
      "outputs": [
        {
          "data": {
            "text/plain": [
              "(4897896, 45)"
            ]
          },
          "execution_count": 4,
          "metadata": {},
          "output_type": "execute_result"
        }
      ],
      "source": [
        "covid_df.shape"
      ]
    },
    {
      "cell_type": "code",
      "execution_count": 5,
      "metadata": {
        "colab": {
          "base_uri": "https://localhost:8080/",
          "height": 325
        },
        "id": "qCqczYx-wduO",
        "outputId": "f67f3027-98af-4956-bdab-0b9abb7742a6"
      },
      "outputs": [
        {
          "data": {
            "text/html": [
              "<div>\n",
              "<style scoped>\n",
              "    .dataframe tbody tr th:only-of-type {\n",
              "        vertical-align: middle;\n",
              "    }\n",
              "\n",
              "    .dataframe tbody tr th {\n",
              "        vertical-align: top;\n",
              "    }\n",
              "\n",
              "    .dataframe thead th {\n",
              "        text-align: right;\n",
              "    }\n",
              "</style>\n",
              "<table border=\"1\" class=\"dataframe\">\n",
              "  <thead>\n",
              "    <tr style=\"text-align: right;\">\n",
              "      <th></th>\n",
              "      <th>DataNotificacao</th>\n",
              "      <th>DataCadastro</th>\n",
              "      <th>DataDiagnostico</th>\n",
              "      <th>DataColeta_RT_PCR</th>\n",
              "      <th>DataColetaTesteRapido</th>\n",
              "      <th>DataColetaSorologia</th>\n",
              "      <th>DataColetaSorologiaIGG</th>\n",
              "      <th>DataEncerramento</th>\n",
              "      <th>DataObito</th>\n",
              "      <th>Classificacao</th>\n",
              "      <th>...</th>\n",
              "      <th>ViagemBrasil</th>\n",
              "      <th>ViagemInternacional</th>\n",
              "      <th>ProfissionalSaude</th>\n",
              "      <th>PossuiDeficiencia</th>\n",
              "      <th>MoradorDeRua</th>\n",
              "      <th>ResultadoRT_PCR</th>\n",
              "      <th>ResultadoTesteRapido</th>\n",
              "      <th>ResultadoSorologia</th>\n",
              "      <th>ResultadoSorologia_IGG</th>\n",
              "      <th>TipoTesteRapido</th>\n",
              "    </tr>\n",
              "  </thead>\n",
              "  <tbody>\n",
              "    <tr>\n",
              "      <th>0</th>\n",
              "      <td>2023-09-19</td>\n",
              "      <td>2023-09-19</td>\n",
              "      <td>2023-09-14</td>\n",
              "      <td>NaN</td>\n",
              "      <td>NaN</td>\n",
              "      <td>NaN</td>\n",
              "      <td>NaN</td>\n",
              "      <td>NaN</td>\n",
              "      <td>NaN</td>\n",
              "      <td>Suspeito</td>\n",
              "      <td>...</td>\n",
              "      <td>Não</td>\n",
              "      <td>Não</td>\n",
              "      <td>Não</td>\n",
              "      <td>Não</td>\n",
              "      <td>Não</td>\n",
              "      <td>Não Informado</td>\n",
              "      <td>Não Informado</td>\n",
              "      <td>Não Informado</td>\n",
              "      <td>Não Informado</td>\n",
              "      <td>Não Informado</td>\n",
              "    </tr>\n",
              "    <tr>\n",
              "      <th>1</th>\n",
              "      <td>2023-09-19</td>\n",
              "      <td>2023-09-19</td>\n",
              "      <td>2023-09-18</td>\n",
              "      <td>NaN</td>\n",
              "      <td>2023-09-19</td>\n",
              "      <td>NaN</td>\n",
              "      <td>NaN</td>\n",
              "      <td>NaN</td>\n",
              "      <td>NaN</td>\n",
              "      <td>Síndrome Gripal não Especificada</td>\n",
              "      <td>...</td>\n",
              "      <td>Não</td>\n",
              "      <td>Não</td>\n",
              "      <td>Não</td>\n",
              "      <td>Não</td>\n",
              "      <td>Não</td>\n",
              "      <td>Não Informado</td>\n",
              "      <td>Negativo</td>\n",
              "      <td>Não Informado</td>\n",
              "      <td>Não Informado</td>\n",
              "      <td>Teste rápido Antígeno</td>\n",
              "    </tr>\n",
              "    <tr>\n",
              "      <th>2</th>\n",
              "      <td>2023-09-19</td>\n",
              "      <td>2023-09-19</td>\n",
              "      <td>2023-09-17</td>\n",
              "      <td>NaN</td>\n",
              "      <td>2023-09-19</td>\n",
              "      <td>NaN</td>\n",
              "      <td>NaN</td>\n",
              "      <td>NaN</td>\n",
              "      <td>NaN</td>\n",
              "      <td>Suspeito</td>\n",
              "      <td>...</td>\n",
              "      <td>Não</td>\n",
              "      <td>Não</td>\n",
              "      <td>Não</td>\n",
              "      <td>Não</td>\n",
              "      <td>Não</td>\n",
              "      <td>Não Informado</td>\n",
              "      <td>Negativo</td>\n",
              "      <td>Não Informado</td>\n",
              "      <td>Não Informado</td>\n",
              "      <td>Teste rápido Antígeno</td>\n",
              "    </tr>\n",
              "    <tr>\n",
              "      <th>3</th>\n",
              "      <td>2023-09-19</td>\n",
              "      <td>2023-09-19</td>\n",
              "      <td>2023-09-16</td>\n",
              "      <td>NaN</td>\n",
              "      <td>NaN</td>\n",
              "      <td>NaN</td>\n",
              "      <td>NaN</td>\n",
              "      <td>NaN</td>\n",
              "      <td>NaN</td>\n",
              "      <td>Suspeito</td>\n",
              "      <td>...</td>\n",
              "      <td>Não</td>\n",
              "      <td>Não</td>\n",
              "      <td>Não</td>\n",
              "      <td>Não</td>\n",
              "      <td>Não</td>\n",
              "      <td>Não Informado</td>\n",
              "      <td>Não Informado</td>\n",
              "      <td>Não Informado</td>\n",
              "      <td>Não Informado</td>\n",
              "      <td>Não Informado</td>\n",
              "    </tr>\n",
              "    <tr>\n",
              "      <th>4</th>\n",
              "      <td>2023-09-19</td>\n",
              "      <td>2023-09-19</td>\n",
              "      <td>2023-09-17</td>\n",
              "      <td>NaN</td>\n",
              "      <td>2023-09-19</td>\n",
              "      <td>NaN</td>\n",
              "      <td>NaN</td>\n",
              "      <td>NaN</td>\n",
              "      <td>NaN</td>\n",
              "      <td>Suspeito</td>\n",
              "      <td>...</td>\n",
              "      <td>Não</td>\n",
              "      <td>Não</td>\n",
              "      <td>Não</td>\n",
              "      <td>Não</td>\n",
              "      <td>Não</td>\n",
              "      <td>Não Informado</td>\n",
              "      <td>Negativo</td>\n",
              "      <td>Não Informado</td>\n",
              "      <td>Não Informado</td>\n",
              "      <td>Teste rápido Antígeno</td>\n",
              "    </tr>\n",
              "  </tbody>\n",
              "</table>\n",
              "<p>5 rows × 45 columns</p>\n",
              "</div>"
            ],
            "text/plain": [
              "  DataNotificacao DataCadastro DataDiagnostico DataColeta_RT_PCR  \\\n",
              "0      2023-09-19   2023-09-19      2023-09-14               NaN   \n",
              "1      2023-09-19   2023-09-19      2023-09-18               NaN   \n",
              "2      2023-09-19   2023-09-19      2023-09-17               NaN   \n",
              "3      2023-09-19   2023-09-19      2023-09-16               NaN   \n",
              "4      2023-09-19   2023-09-19      2023-09-17               NaN   \n",
              "\n",
              "  DataColetaTesteRapido DataColetaSorologia DataColetaSorologiaIGG  \\\n",
              "0                   NaN                 NaN                    NaN   \n",
              "1            2023-09-19                 NaN                    NaN   \n",
              "2            2023-09-19                 NaN                    NaN   \n",
              "3                   NaN                 NaN                    NaN   \n",
              "4            2023-09-19                 NaN                    NaN   \n",
              "\n",
              "  DataEncerramento DataObito                     Classificacao  ...  \\\n",
              "0              NaN       NaN                          Suspeito  ...   \n",
              "1              NaN       NaN  Síndrome Gripal não Especificada  ...   \n",
              "2              NaN       NaN                          Suspeito  ...   \n",
              "3              NaN       NaN                          Suspeito  ...   \n",
              "4              NaN       NaN                          Suspeito  ...   \n",
              "\n",
              "  ViagemBrasil ViagemInternacional ProfissionalSaude PossuiDeficiencia  \\\n",
              "0          Não                 Não               Não               Não   \n",
              "1          Não                 Não               Não               Não   \n",
              "2          Não                 Não               Não               Não   \n",
              "3          Não                 Não               Não               Não   \n",
              "4          Não                 Não               Não               Não   \n",
              "\n",
              "  MoradorDeRua ResultadoRT_PCR ResultadoTesteRapido ResultadoSorologia  \\\n",
              "0          Não   Não Informado        Não Informado      Não Informado   \n",
              "1          Não   Não Informado             Negativo      Não Informado   \n",
              "2          Não   Não Informado             Negativo      Não Informado   \n",
              "3          Não   Não Informado        Não Informado      Não Informado   \n",
              "4          Não   Não Informado             Negativo      Não Informado   \n",
              "\n",
              "  ResultadoSorologia_IGG        TipoTesteRapido  \n",
              "0          Não Informado          Não Informado  \n",
              "1          Não Informado  Teste rápido Antígeno  \n",
              "2          Não Informado  Teste rápido Antígeno  \n",
              "3          Não Informado          Não Informado  \n",
              "4          Não Informado  Teste rápido Antígeno  \n",
              "\n",
              "[5 rows x 45 columns]"
            ]
          },
          "execution_count": 5,
          "metadata": {},
          "output_type": "execute_result"
        }
      ],
      "source": [
        "covid_df.head()"
      ]
    },
    {
      "cell_type": "code",
      "execution_count": 6,
      "metadata": {
        "colab": {
          "base_uri": "https://localhost:8080/",
          "height": 242
        },
        "id": "XwfEwtrYbzl-",
        "outputId": "303a06ef-0969-498a-8218-70d6bd46c413"
      },
      "outputs": [
        {
          "data": {
            "text/html": [
              "<div>\n",
              "<style scoped>\n",
              "    .dataframe tbody tr th:only-of-type {\n",
              "        vertical-align: middle;\n",
              "    }\n",
              "\n",
              "    .dataframe tbody tr th {\n",
              "        vertical-align: top;\n",
              "    }\n",
              "\n",
              "    .dataframe thead th {\n",
              "        text-align: right;\n",
              "    }\n",
              "</style>\n",
              "<table border=\"1\" class=\"dataframe\">\n",
              "  <thead>\n",
              "    <tr style=\"text-align: right;\">\n",
              "      <th></th>\n",
              "      <th>DataNotificacao</th>\n",
              "      <th>DataCadastro</th>\n",
              "      <th>DataDiagnostico</th>\n",
              "      <th>DataColeta_RT_PCR</th>\n",
              "      <th>DataColetaTesteRapido</th>\n",
              "      <th>DataColetaSorologia</th>\n",
              "      <th>DataColetaSorologiaIGG</th>\n",
              "      <th>DataEncerramento</th>\n",
              "      <th>DataObito</th>\n",
              "      <th>Classificacao</th>\n",
              "      <th>...</th>\n",
              "      <th>ViagemBrasil</th>\n",
              "      <th>ViagemInternacional</th>\n",
              "      <th>ProfissionalSaude</th>\n",
              "      <th>PossuiDeficiencia</th>\n",
              "      <th>MoradorDeRua</th>\n",
              "      <th>ResultadoRT_PCR</th>\n",
              "      <th>ResultadoTesteRapido</th>\n",
              "      <th>ResultadoSorologia</th>\n",
              "      <th>ResultadoSorologia_IGG</th>\n",
              "      <th>TipoTesteRapido</th>\n",
              "    </tr>\n",
              "  </thead>\n",
              "  <tbody>\n",
              "    <tr>\n",
              "      <th>count</th>\n",
              "      <td>4897896</td>\n",
              "      <td>4897896</td>\n",
              "      <td>4897896</td>\n",
              "      <td>1520711</td>\n",
              "      <td>3070871</td>\n",
              "      <td>99794</td>\n",
              "      <td>146531</td>\n",
              "      <td>4673619</td>\n",
              "      <td>21876</td>\n",
              "      <td>4897896</td>\n",
              "      <td>...</td>\n",
              "      <td>4897896</td>\n",
              "      <td>4897896</td>\n",
              "      <td>4897896</td>\n",
              "      <td>4897896</td>\n",
              "      <td>4897896</td>\n",
              "      <td>4897896</td>\n",
              "      <td>4897896</td>\n",
              "      <td>4897896</td>\n",
              "      <td>4897896</td>\n",
              "      <td>4897896</td>\n",
              "    </tr>\n",
              "    <tr>\n",
              "      <th>unique</th>\n",
              "      <td>1302</td>\n",
              "      <td>1272</td>\n",
              "      <td>1390</td>\n",
              "      <td>1433</td>\n",
              "      <td>1515</td>\n",
              "      <td>976</td>\n",
              "      <td>977</td>\n",
              "      <td>1377</td>\n",
              "      <td>1231</td>\n",
              "      <td>4</td>\n",
              "      <td>...</td>\n",
              "      <td>4</td>\n",
              "      <td>4</td>\n",
              "      <td>4</td>\n",
              "      <td>3</td>\n",
              "      <td>3</td>\n",
              "      <td>4</td>\n",
              "      <td>4</td>\n",
              "      <td>4</td>\n",
              "      <td>4</td>\n",
              "      <td>4</td>\n",
              "    </tr>\n",
              "    <tr>\n",
              "      <th>top</th>\n",
              "      <td>2022-01-27</td>\n",
              "      <td>2022-01-27</td>\n",
              "      <td>2022-01-24</td>\n",
              "      <td>2021-03-22</td>\n",
              "      <td>2022-01-27</td>\n",
              "      <td>2020-07-20</td>\n",
              "      <td>2020-07-28</td>\n",
              "      <td>2022-03-31</td>\n",
              "      <td>2021-04-12</td>\n",
              "      <td>Descartados</td>\n",
              "      <td>...</td>\n",
              "      <td>Não</td>\n",
              "      <td>Não</td>\n",
              "      <td>Não</td>\n",
              "      <td>Não</td>\n",
              "      <td>Não</td>\n",
              "      <td>Não Informado</td>\n",
              "      <td>Negativo</td>\n",
              "      <td>Não Informado</td>\n",
              "      <td>Não Informado</td>\n",
              "      <td>Teste rápido Antígeno</td>\n",
              "    </tr>\n",
              "    <tr>\n",
              "      <th>freq</th>\n",
              "      <td>42158</td>\n",
              "      <td>37772</td>\n",
              "      <td>40789</td>\n",
              "      <td>5269</td>\n",
              "      <td>39544</td>\n",
              "      <td>960</td>\n",
              "      <td>2715</td>\n",
              "      <td>164075</td>\n",
              "      <td>97</td>\n",
              "      <td>3053220</td>\n",
              "      <td>...</td>\n",
              "      <td>3145459</td>\n",
              "      <td>3098218</td>\n",
              "      <td>4313582</td>\n",
              "      <td>4827398</td>\n",
              "      <td>4848134</td>\n",
              "      <td>3468646</td>\n",
              "      <td>2213330</td>\n",
              "      <td>4798625</td>\n",
              "      <td>4751578</td>\n",
              "      <td>2738095</td>\n",
              "    </tr>\n",
              "  </tbody>\n",
              "</table>\n",
              "<p>4 rows × 45 columns</p>\n",
              "</div>"
            ],
            "text/plain": [
              "       DataNotificacao DataCadastro DataDiagnostico DataColeta_RT_PCR  \\\n",
              "count          4897896      4897896         4897896           1520711   \n",
              "unique            1302         1272            1390              1433   \n",
              "top         2022-01-27   2022-01-27      2022-01-24        2021-03-22   \n",
              "freq             42158        37772           40789              5269   \n",
              "\n",
              "       DataColetaTesteRapido DataColetaSorologia DataColetaSorologiaIGG  \\\n",
              "count                3070871               99794                 146531   \n",
              "unique                  1515                 976                    977   \n",
              "top               2022-01-27          2020-07-20             2020-07-28   \n",
              "freq                   39544                 960                   2715   \n",
              "\n",
              "       DataEncerramento   DataObito Classificacao  ... ViagemBrasil  \\\n",
              "count           4673619       21876       4897896  ...      4897896   \n",
              "unique             1377        1231             4  ...            4   \n",
              "top          2022-03-31  2021-04-12   Descartados  ...          Não   \n",
              "freq             164075          97       3053220  ...      3145459   \n",
              "\n",
              "       ViagemInternacional ProfissionalSaude PossuiDeficiencia MoradorDeRua  \\\n",
              "count              4897896           4897896           4897896      4897896   \n",
              "unique                   4                 4                 3            3   \n",
              "top                    Não               Não               Não          Não   \n",
              "freq               3098218           4313582           4827398      4848134   \n",
              "\n",
              "       ResultadoRT_PCR ResultadoTesteRapido ResultadoSorologia  \\\n",
              "count          4897896              4897896            4897896   \n",
              "unique               4                    4                  4   \n",
              "top      Não Informado             Negativo      Não Informado   \n",
              "freq           3468646              2213330            4798625   \n",
              "\n",
              "       ResultadoSorologia_IGG        TipoTesteRapido  \n",
              "count                 4897896                4897896  \n",
              "unique                      4                      4  \n",
              "top             Não Informado  Teste rápido Antígeno  \n",
              "freq                  4751578                2738095  \n",
              "\n",
              "[4 rows x 45 columns]"
            ]
          },
          "execution_count": 6,
          "metadata": {},
          "output_type": "execute_result"
        }
      ],
      "source": [
        "covid_df.describe()"
      ]
    },
    {
      "cell_type": "code",
      "execution_count": 7,
      "metadata": {
        "colab": {
          "base_uri": "https://localhost:8080/"
        },
        "id": "IasZkO-CwgZs",
        "outputId": "91daf048-98ab-4c54-c4eb-b8703f51b02e"
      },
      "outputs": [
        {
          "name": "stdout",
          "output_type": "stream",
          "text": [
            "<class 'pandas.core.frame.DataFrame'>\n",
            "RangeIndex: 4897896 entries, 0 to 4897895\n",
            "Data columns (total 45 columns):\n",
            " #   Column                   Dtype \n",
            "---  ------                   ----- \n",
            " 0   DataNotificacao          object\n",
            " 1   DataCadastro             object\n",
            " 2   DataDiagnostico          object\n",
            " 3   DataColeta_RT_PCR        object\n",
            " 4   DataColetaTesteRapido    object\n",
            " 5   DataColetaSorologia      object\n",
            " 6   DataColetaSorologiaIGG   object\n",
            " 7   DataEncerramento         object\n",
            " 8   DataObito                object\n",
            " 9   Classificacao            object\n",
            " 10  Evolucao                 object\n",
            " 11  CriterioConfirmacao      object\n",
            " 12  StatusNotificacao        object\n",
            " 13  Municipio                object\n",
            " 14  Bairro                   object\n",
            " 15  FaixaEtaria              object\n",
            " 16  IdadeNaDataNotificacao   object\n",
            " 17  Sexo                     object\n",
            " 18  RacaCor                  object\n",
            " 19  Escolaridade             object\n",
            " 20  Gestante                 object\n",
            " 21  Febre                    object\n",
            " 22  DificuldadeRespiratoria  object\n",
            " 23  Tosse                    object\n",
            " 24  Coriza                   object\n",
            " 25  DorGarganta              object\n",
            " 26  Diarreia                 object\n",
            " 27  Cefaleia                 object\n",
            " 28  ComorbidadePulmao        object\n",
            " 29  ComorbidadeCardio        object\n",
            " 30  ComorbidadeRenal         object\n",
            " 31  ComorbidadeDiabetes      object\n",
            " 32  ComorbidadeTabagismo     object\n",
            " 33  ComorbidadeObesidade     object\n",
            " 34  FicouInternado           object\n",
            " 35  ViagemBrasil             object\n",
            " 36  ViagemInternacional      object\n",
            " 37  ProfissionalSaude        object\n",
            " 38  PossuiDeficiencia        object\n",
            " 39  MoradorDeRua             object\n",
            " 40  ResultadoRT_PCR          object\n",
            " 41  ResultadoTesteRapido     object\n",
            " 42  ResultadoSorologia       object\n",
            " 43  ResultadoSorologia_IGG   object\n",
            " 44  TipoTesteRapido          object\n",
            "dtypes: object(45)\n",
            "memory usage: 1.6+ GB\n"
          ]
        }
      ],
      "source": [
        "covid_df.info()"
      ]
    },
    {
      "cell_type": "markdown",
      "metadata": {
        "id": "-38SUv5pV67F"
      },
      "source": [
        "# Pré Tratamento"
      ]
    },
    {
      "cell_type": "markdown",
      "metadata": {},
      "source": [
        "### Casos confirmados"
      ]
    },
    {
      "cell_type": "markdown",
      "metadata": {},
      "source": [
        "#### Obtendo Classificao diretamente"
      ]
    },
    {
      "cell_type": "code",
      "execution_count": 8,
      "metadata": {},
      "outputs": [
        {
          "data": {
            "text/plain": [
              "(1340445, 45)"
            ]
          },
          "execution_count": 8,
          "metadata": {},
          "output_type": "execute_result"
        }
      ],
      "source": [
        "# Apenas casos confirmados\n",
        "covid_df = covid_df[covid_df.Classificacao == \"Confirmados\"]\n",
        "covid_df.shape"
      ]
    },
    {
      "cell_type": "markdown",
      "metadata": {
        "id": "Ysi62eEJWKHa"
      },
      "source": [
        "### Tratando DataObito"
      ]
    },
    {
      "cell_type": "code",
      "execution_count": 9,
      "metadata": {
        "colab": {
          "base_uri": "https://localhost:8080/"
        },
        "id": "2dKoX0lNWoM3",
        "outputId": "087a5361-2bc7-4ce8-e5e7-a4ce6c4db881"
      },
      "outputs": [
        {
          "data": {
            "text/plain": [
              "1324855"
            ]
          },
          "execution_count": 9,
          "metadata": {},
          "output_type": "execute_result"
        }
      ],
      "source": [
        "# A Data vazia significa que o paciente sobreviveu\n",
        "covid_df['DataObito'].isna().sum()"
      ]
    },
    {
      "cell_type": "code",
      "execution_count": 10,
      "metadata": {},
      "outputs": [
        {
          "data": {
            "text/plain": [
              "DataObito\n",
              "NaN           1324855\n",
              "2021-04-12         92\n",
              "2021-04-19         90\n",
              "2021-04-09         85\n",
              "2021-04-08         82\n",
              "               ...   \n",
              "2022-10-11          1\n",
              "2022-10-28          1\n",
              "2022-11-18          1\n",
              "2022-10-18          1\n",
              "2020-04-04          1\n",
              "Name: count, Length: 1021, dtype: int64"
            ]
          },
          "execution_count": 10,
          "metadata": {},
          "output_type": "execute_result"
        }
      ],
      "source": [
        "covid_df['DataObito'].value_counts(dropna=False)"
      ]
    },
    {
      "cell_type": "code",
      "execution_count": 11,
      "metadata": {
        "colab": {
          "base_uri": "https://localhost:8080/"
        },
        "id": "9ee83IqFWlWJ",
        "outputId": "db8e56ce-29e4-47df-eb76-0a9ac38154a7"
      },
      "outputs": [
        {
          "data": {
            "text/plain": [
              "PASSED\n",
              "0    1324855\n",
              "1      15590\n",
              "Name: count, dtype: int64"
            ]
          },
          "execution_count": 11,
          "metadata": {},
          "output_type": "execute_result"
        }
      ],
      "source": [
        "# Substituir os valores NaN na coluna 'A' pela média da coluna\n",
        "covid_df.DataObito.fillna(0, inplace=True)\n",
        "\n",
        "# Cria nova coluna binaria e preenche com os valores baseando na coluna DataObito\n",
        "covid_df['PASSED'] = [1 if (l != 0) else l for l in covid_df.DataObito]\n",
        "\n",
        "covid_df.PASSED.value_counts()"
      ]
    },
    {
      "cell_type": "markdown",
      "metadata": {},
      "source": [
        "### Coluna 'IdadeNaDataNotificacao'"
      ]
    },
    {
      "cell_type": "code",
      "execution_count": 12,
      "metadata": {},
      "outputs": [],
      "source": [
        "# Transforma idade \"13 anos, 11 meses e 15 dias\" em \"13\" (int)\n",
        "idade_regex = r\"(\\d+)\"\n",
        "covid_df[\"IdadeNaDataNotificacao\"] = covid_df[\"IdadeNaDataNotificacao\"].str.extract(idade_regex).astype(int)"
      ]
    },
    {
      "cell_type": "markdown",
      "metadata": {
        "id": "TtOrU68QVzLE"
      },
      "source": [
        "# Explorando Dados"
      ]
    },
    {
      "cell_type": "markdown",
      "metadata": {
        "id": "eBojdC--V9m4"
      },
      "source": [
        "### Descrevendo dataframe"
      ]
    },
    {
      "cell_type": "code",
      "execution_count": 13,
      "metadata": {},
      "outputs": [
        {
          "name": "stdout",
          "output_type": "stream",
          "text": [
            "DataNotificacao -----> 1288\n",
            "DataCadastro -----> 1270\n",
            "DataDiagnostico -----> 1329\n",
            "DataColeta_RT_PCR -----> 1338\n",
            "DataColetaTesteRapido -----> 1363\n",
            "DataColetaSorologia -----> 838\n",
            "DataColetaSorologiaIGG -----> 842\n",
            "DataEncerramento -----> 1304\n",
            "DataObito -----> 1021\n",
            "Classificacao -----> 1\n",
            "Evolucao -----> 5\n",
            "CriterioConfirmacao -----> 4\n",
            "StatusNotificacao -----> 2\n",
            "Municipio -----> 1089\n",
            "Bairro -----> 3634\n",
            "FaixaEtaria -----> 12\n",
            "IdadeNaDataNotificacao -----> 115\n",
            "Sexo -----> 3\n",
            "RacaCor -----> 6\n",
            "Escolaridade -----> 11\n",
            "Gestante -----> 7\n",
            "Febre -----> 3\n",
            "DificuldadeRespiratoria -----> 3\n",
            "Tosse -----> 3\n",
            "Coriza -----> 3\n",
            "DorGarganta -----> 3\n",
            "Diarreia -----> 3\n",
            "Cefaleia -----> 3\n",
            "ComorbidadePulmao -----> 3\n",
            "ComorbidadeCardio -----> 3\n",
            "ComorbidadeRenal -----> 3\n",
            "ComorbidadeDiabetes -----> 3\n",
            "ComorbidadeTabagismo -----> 3\n",
            "ComorbidadeObesidade -----> 3\n",
            "FicouInternado -----> 4\n",
            "ViagemBrasil -----> 4\n",
            "ViagemInternacional -----> 4\n",
            "ProfissionalSaude -----> 4\n",
            "PossuiDeficiencia -----> 3\n",
            "MoradorDeRua -----> 3\n",
            "ResultadoRT_PCR -----> 4\n",
            "ResultadoTesteRapido -----> 4\n",
            "ResultadoSorologia -----> 4\n",
            "ResultadoSorologia_IGG -----> 4\n",
            "TipoTesteRapido -----> 4\n",
            "PASSED -----> 2\n"
          ]
        }
      ],
      "source": [
        "for i in covid_df.columns:\n",
        "    print(i,\"----->\", len(covid_df[i].unique()))"
      ]
    },
    {
      "cell_type": "markdown",
      "metadata": {},
      "source": [
        "### Percentual de mortes"
      ]
    },
    {
      "cell_type": "code",
      "execution_count": 14,
      "metadata": {
        "id": "6p14IJJo3jNr"
      },
      "outputs": [],
      "source": [
        "def plot_percentual_deads(df):\n",
        "    percentual_deads = round(df.PASSED.mean() * 100, 2)\n",
        "    print(f\"Percentural of deads {percentual_deads}]\\n\")\n",
        "\n",
        "    ax = df.PASSED.value_counts(dropna=False).plot(kind=\"bar\", title=f\"Pacientes x Morte -> ({percentual_deads}%)\", color=[\"blue\", \"red\"], ylabel=\"Qtd. Pacientes\")\n",
        "\n",
        "    container = ax.containers[0]\n",
        "    ax.bar_label(container)\n",
        "    ax.set_xticklabels([\"Sobrevieu\", \"Morreu\"], rotation=0)\n"
      ]
    },
    {
      "cell_type": "code",
      "execution_count": 15,
      "metadata": {},
      "outputs": [
        {
          "name": "stdout",
          "output_type": "stream",
          "text": [
            "Percentural of deads 1.16]\n",
            "\n"
          ]
        },
        {
          "data": {
            "image/png": "[encoded data removed]",
            "text/plain": [
              "<Figure size 640x480 with 1 Axes>"
            ]
          },
          "metadata": {},
          "output_type": "display_data"
        }
      ],
      "source": [
        "plot_percentual_deads(covid_df)"
      ]
    },
    {
      "cell_type": "markdown",
      "metadata": {
        "id": "_W5uXWuqV2aS"
      },
      "source": [
        "### Casos confirmados"
      ]
    },
    {
      "cell_type": "markdown",
      "metadata": {
        "id": "5xBvEKNIWhY6"
      },
      "source": [
        "#### Obtendo Classificao diretamente"
      ]
    },
    {
      "cell_type": "code",
      "execution_count": 16,
      "metadata": {
        "colab": {
          "base_uri": "https://localhost:8080/"
        },
        "id": "9voQaniOTs1D",
        "outputId": "6cc7772a-f183-4638-ef8d-97bd8565b8b3"
      },
      "outputs": [
        {
          "data": {
            "text/plain": [
              "PASSED\n",
              "0    1324855\n",
              "1      15590\n",
              "Name: count, dtype: int64"
            ]
          },
          "execution_count": 16,
          "metadata": {},
          "output_type": "execute_result"
        }
      ],
      "source": [
        "# Apenas casos confirmados\n",
        "covid_df = covid_df[covid_df.Classificacao == \"Confirmados\"]\n",
        "covid_df.PASSED.value_counts(dropna=False)"
      ]
    },
    {
      "cell_type": "code",
      "execution_count": 17,
      "metadata": {
        "colab": {
          "base_uri": "https://localhost:8080/"
        },
        "id": "QvK8ds_UuR4E",
        "outputId": "a2da688e-e74e-44e4-a4f6-87060814929c"
      },
      "outputs": [
        {
          "data": {
            "text/plain": [
              "(1340445, 46)"
            ]
          },
          "execution_count": 17,
          "metadata": {},
          "output_type": "execute_result"
        }
      ],
      "source": [
        "covid_df.shape"
      ]
    },
    {
      "cell_type": "markdown",
      "metadata": {
        "id": "Th5dFn3rV5iq"
      },
      "source": [
        "# Tratando Dados"
      ]
    },
    {
      "cell_type": "markdown",
      "metadata": {
        "id": "2N7dQsvSiaGU"
      },
      "source": [
        "### Coluna 'Classificacao'"
      ]
    },
    {
      "cell_type": "code",
      "execution_count": 18,
      "metadata": {
        "colab": {
          "base_uri": "https://localhost:8080/"
        },
        "id": "1Rzrtly8idui",
        "outputId": "7ed9e956-64aa-4279-a31d-50815cbb94aa"
      },
      "outputs": [
        {
          "name": "stdout",
          "output_type": "stream",
          "text": [
            "Classificacao\n",
            "Confirmados    1340445\n",
            "Name: count, dtype: int64\n"
          ]
        }
      ],
      "source": [
        "# O dataset foi filtrado por apenas casos 'Confirmados'\n",
        "# Por isso, torna-se uma coluna constante, assim será removida\n",
        "\n",
        "print(covid_df.Classificacao.value_counts(dropna=True))\n",
        "covid_df.drop(columns=[\"Classificacao\"], inplace=True)"
      ]
    },
    {
      "cell_type": "markdown",
      "metadata": {
        "id": "OlF5JmB1_9gs"
      },
      "source": [
        "### Tratando colunas com valor 'Ignorado', 'Não Informado' ou '-'\n",
        "*   As colunas abaixo demostram exemplos dos valores 'Ignorado' e 'Não Informado'\n",
        "que são recorrentes na base de dados\n"
      ]
    },
    {
      "cell_type": "code",
      "execution_count": 19,
      "metadata": {
        "colab": {
          "base_uri": "https://localhost:8080/"
        },
        "id": "zwzVvlkDX8tS",
        "outputId": "ddef3c44-3e4c-4938-db99-4ff52e3c51e1"
      },
      "outputs": [
        {
          "data": {
            "text/plain": [
              "FicouInternado\n",
              "Não              806252\n",
              "Não Informado    495930\n",
              "Ignorado          24337\n",
              "Sim               13926\n",
              "Name: count, dtype: int64"
            ]
          },
          "execution_count": 19,
          "metadata": {},
          "output_type": "execute_result"
        }
      ],
      "source": [
        "covid_df.FicouInternado.value_counts(dropna=False)"
      ]
    },
    {
      "cell_type": "code",
      "execution_count": 20,
      "metadata": {},
      "outputs": [
        {
          "data": {
            "text/plain": [
              "DorGarganta\n",
              "Não    877843\n",
              "Sim    461296\n",
              "-        1306\n",
              "Name: count, dtype: int64"
            ]
          },
          "execution_count": 20,
          "metadata": {},
          "output_type": "execute_result"
        }
      ],
      "source": [
        "covid_df.DorGarganta.value_counts()"
      ]
    },
    {
      "cell_type": "code",
      "execution_count": 21,
      "metadata": {},
      "outputs": [
        {
          "data": {
            "text/plain": [
              "ViagemBrasil\n",
              "Não              826058\n",
              "Não Informado    434027\n",
              "Ignorado          41030\n",
              "Sim               39330\n",
              "Name: count, dtype: int64"
            ]
          },
          "execution_count": 21,
          "metadata": {},
          "output_type": "execute_result"
        }
      ],
      "source": [
        "covid_df.ViagemBrasil.value_counts()"
      ]
    },
    {
      "cell_type": "code",
      "execution_count": 22,
      "metadata": {
        "id": "VctLlemQtz7r"
      },
      "outputs": [],
      "source": [
        "# Converte os valores para NaN\n",
        "covid_df.replace(\"Ignorado\", np.nan, inplace=True)\n",
        "covid_df.replace(\"Não Informado\", np.nan, inplace=True)\n",
        "covid_df.replace(\"-\", np.nan, inplace=True)"
      ]
    },
    {
      "cell_type": "markdown",
      "metadata": {
        "id": "yi2vCtlCTvLQ"
      },
      "source": [
        "### Tratando coluna 'Sexo'"
      ]
    },
    {
      "cell_type": "code",
      "execution_count": 23,
      "metadata": {
        "colab": {
          "base_uri": "https://localhost:8080/"
        },
        "id": "kvzUomVlW3GD",
        "outputId": "3344cba5-1374-4465-8745-a7ee55027f56"
      },
      "outputs": [
        {
          "data": {
            "text/plain": [
              "Sexo\n",
              "F    755318\n",
              "M    584911\n",
              "I       216\n",
              "Name: count, dtype: int64"
            ]
          },
          "execution_count": 23,
          "metadata": {},
          "output_type": "execute_result"
        }
      ],
      "source": [
        "# Valores para coluna Sexo\n",
        "covid_df.Sexo.value_counts(dropna=False)"
      ]
    },
    {
      "cell_type": "code",
      "execution_count": 24,
      "metadata": {
        "id": "D1GKBFrTT5Dk"
      },
      "outputs": [],
      "source": [
        "# Redefine valor para colunas com valores I (provavelmente refere-se a indefinido)\n",
        "covid_df.Sexo.replace(\"I\", np.nan, inplace=True)"
      ]
    },
    {
      "cell_type": "markdown",
      "metadata": {
        "id": "pEa71c636bhX"
      },
      "source": [
        "### Coluna 'Gestante'"
      ]
    },
    {
      "cell_type": "code",
      "execution_count": 25,
      "metadata": {
        "colab": {
          "base_uri": "https://localhost:8080/"
        },
        "id": "ae76vj7v6e18",
        "outputId": "d55adbfa-c1b2-4fc7-b1c1-133cb0a9db22"
      },
      "outputs": [
        {
          "data": {
            "text/plain": [
              "Gestante\n",
              "Não                           725468\n",
              "Não se aplica                 586833\n",
              "3º trimeste                     2494\n",
              "2º trimeste                     2171\n",
              "1º trimeste                     1493\n",
              "Idade gestacional ignorada       946\n",
              "Name: count, dtype: int64"
            ]
          },
          "execution_count": 25,
          "metadata": {},
          "output_type": "execute_result"
        }
      ],
      "source": [
        "# Valores usados para a coluna de Gestante\n",
        "covid_df.Gestante.value_counts()"
      ]
    },
    {
      "cell_type": "code",
      "execution_count": 26,
      "metadata": {
        "id": "9ylD_Ae932rt"
      },
      "outputs": [],
      "source": [
        "# Transformando em valores em 'Não'\n",
        "# Se é mulher e 'Não se aplica', então não está grávida e homem não pode estar de gestação\n",
        "covid_df.Gestante.replace(\"Não se aplica\", \"Não\", inplace=True)\n",
        "covid_df.Gestante.replace(\"Idade gestacional ignorada\", \"Não\", inplace=True)"
      ]
    },
    {
      "cell_type": "code",
      "execution_count": 27,
      "metadata": {
        "colab": {
          "base_uri": "https://localhost:8080/"
        },
        "id": "TX-oviAT5nZe",
        "outputId": "92d742c1-2453-4d89-cb8f-3af617dd4426"
      },
      "outputs": [
        {
          "data": {
            "text/plain": [
              "Gestante\n",
              "Não            1313247\n",
              "3º trimeste       2494\n",
              "2º trimeste       2171\n",
              "1º trimeste       1493\n",
              "Name: count, dtype: int64"
            ]
          },
          "execution_count": 27,
          "metadata": {},
          "output_type": "execute_result"
        }
      ],
      "source": [
        "covid_df.Gestante.value_counts()"
      ]
    },
    {
      "cell_type": "code",
      "execution_count": 28,
      "metadata": {
        "colab": {
          "base_uri": "https://localhost:8080/"
        },
        "id": "yNY2DbzO4M_t",
        "outputId": "bbf8ff50-5c0b-44c3-88a8-02cc23898ece"
      },
      "outputs": [
        {
          "data": {
            "text/plain": [
              "Gestante\n",
              "Não            581103\n",
              "2º trimeste         5\n",
              "3º trimeste         4\n",
              "1º trimeste         1\n",
              "Name: count, dtype: int64"
            ]
          },
          "execution_count": 28,
          "metadata": {},
          "output_type": "execute_result"
        }
      ],
      "source": [
        "# Há ruídos que demostram gestação para pacientes do sexo masculino\n",
        "covid_df[covid_df.Sexo == 'M'].Gestante.value_counts()"
      ]
    },
    {
      "cell_type": "code",
      "execution_count": 29,
      "metadata": {
        "colab": {
          "base_uri": "https://localhost:8080/"
        },
        "id": "kcV8EiCE7tuI",
        "outputId": "eaa28a40-12b1-4375-a884-2f78625023e4"
      },
      "outputs": [
        {
          "data": {
            "text/plain": [
              "Gestante\n",
              "Não    584911\n",
              "Name: count, dtype: int64"
            ]
          },
          "execution_count": 29,
          "metadata": {},
          "output_type": "execute_result"
        }
      ],
      "source": [
        "# Tranforma tais ruídos em 'Não'\n",
        "covid_df.loc[covid_df.Sexo == 'M', \"Gestante\"] = \"Não\"\n",
        "covid_df[covid_df.Sexo == 'M'].Gestante.value_counts()"
      ]
    },
    {
      "cell_type": "code",
      "execution_count": 30,
      "metadata": {
        "colab": {
          "base_uri": "https://localhost:8080/"
        },
        "id": "9zcnu_Ju30qv",
        "outputId": "86bc7a53-805b-4922-b975-6f57488de83b"
      },
      "outputs": [
        {
          "data": {
            "text/plain": [
              "Gestante\n",
              "Não            1317055\n",
              "NaN              17242\n",
              "3º trimeste       2490\n",
              "2º trimeste       2166\n",
              "1º trimeste       1492\n",
              "Name: count, dtype: int64"
            ]
          },
          "execution_count": 30,
          "metadata": {},
          "output_type": "execute_result"
        }
      ],
      "source": [
        "# A relação de valores 'Não', sem considerar NaN, para o total de elementos é de 97.8%\n",
        "# Dessa forma, essa coluna se torna uma constante que pode ser ignorada\n",
        "covid_df.Gestante.value_counts(dropna=False)"
      ]
    },
    {
      "cell_type": "markdown",
      "metadata": {
        "id": "Qv2GVXUawhMC"
      },
      "source": [
        "### Coluna 'Evolucao'"
      ]
    },
    {
      "cell_type": "code",
      "execution_count": 31,
      "metadata": {},
      "outputs": [
        {
          "data": {
            "text/plain": [
              "Evolucao\n",
              "Cura                       1301677\n",
              "Óbito pelo COVID-19          15112\n",
              "Óbito por outras causas        448\n",
              "Name: count, dtype: int64"
            ]
          },
          "execution_count": 31,
          "metadata": {},
          "output_type": "execute_result"
        }
      ],
      "source": [
        "# Essa coluna possui informação similar a varável alvo, por isso\n",
        "# precisa ser removida\n",
        "covid_df.Evolucao.value_counts(dropna=True)"
      ]
    },
    {
      "cell_type": "markdown",
      "metadata": {
        "id": "QksaAzLyXhSn"
      },
      "source": [
        "### Colunas NaN"
      ]
    },
    {
      "cell_type": "code",
      "execution_count": 32,
      "metadata": {
        "id": "ywAVj9KuvI13"
      },
      "outputs": [],
      "source": [
        "def verify_num_cols(df):\n",
        "    # Média ordenada e colunas com valor vazio\n",
        "    mean_na = df.isna().mean().sort_values(ascending=False)\n",
        "\n",
        "    # Cria DF de colunas nulas\n",
        "    df_na = pd.DataFrame({\"percentual\": mean_na})\n",
        "\n",
        "    return df_na\n",
        "\n",
        "def remove_nan_cols_above_limit(df, cols_to_ignore, limit=0.30):\n",
        "    # Obtém colunas nulas e seu percentual\n",
        "    df_na = verify_num_cols(df)\n",
        "\n",
        "    # Ignora colunas\n",
        "    df_na.drop(cols_to_ignore, inplace=True)\n",
        "\n",
        "    # Filtra colunas pelo limite\n",
        "    df_na_above_limit = df_na[df_na.percentual >= limit]\n",
        "\n",
        "    # Obtém as colunas a serem dropadas\n",
        "    columns_to_drop = df_na_above_limit.index\n",
        "\n",
        "    # Dropa colunas\n",
        "    df.drop(columns=columns_to_drop, inplace=True)\n",
        "\n",
        "    return df, df_na_above_limit"
      ]
    },
    {
      "cell_type": "code",
      "execution_count": 33,
      "metadata": {
        "colab": {
          "base_uri": "https://localhost:8080/",
          "height": 426
        },
        "id": "2A0YA0QX-xOV",
        "outputId": "dd55e0e8-5c0b-4365-e756-9d3575d193ed"
      },
      "outputs": [
        {
          "data": {
            "text/html": [
              "<div>\n",
              "<style scoped>\n",
              "    .dataframe tbody tr th:only-of-type {\n",
              "        vertical-align: middle;\n",
              "    }\n",
              "\n",
              "    .dataframe tbody tr th {\n",
              "        vertical-align: top;\n",
              "    }\n",
              "\n",
              "    .dataframe thead th {\n",
              "        text-align: right;\n",
              "    }\n",
              "</style>\n",
              "<table border=\"1\" class=\"dataframe\">\n",
              "  <thead>\n",
              "    <tr style=\"text-align: right;\">\n",
              "      <th></th>\n",
              "      <th>percentual</th>\n",
              "    </tr>\n",
              "  </thead>\n",
              "  <tbody>\n",
              "    <tr>\n",
              "      <th>ResultadoSorologia</th>\n",
              "      <td>0.963691</td>\n",
              "    </tr>\n",
              "    <tr>\n",
              "      <th>DataColetaSorologia</th>\n",
              "      <td>0.963563</td>\n",
              "    </tr>\n",
              "    <tr>\n",
              "      <th>ResultadoSorologia_IGG</th>\n",
              "      <td>0.956279</td>\n",
              "    </tr>\n",
              "    <tr>\n",
              "      <th>DataColetaSorologiaIGG</th>\n",
              "      <td>0.956232</td>\n",
              "    </tr>\n",
              "    <tr>\n",
              "      <th>ResultadoRT_PCR</th>\n",
              "      <td>0.665297</td>\n",
              "    </tr>\n",
              "    <tr>\n",
              "      <th>DataColeta_RT_PCR</th>\n",
              "      <td>0.660597</td>\n",
              "    </tr>\n",
              "    <tr>\n",
              "      <th>Escolaridade</th>\n",
              "      <td>0.399611</td>\n",
              "    </tr>\n",
              "    <tr>\n",
              "      <th>ViagemInternacional</th>\n",
              "      <td>0.394779</td>\n",
              "    </tr>\n",
              "    <tr>\n",
              "      <th>TipoTesteRapido</th>\n",
              "      <td>0.393348</td>\n",
              "    </tr>\n",
              "    <tr>\n",
              "      <th>ViagemBrasil</th>\n",
              "      <td>0.354402</td>\n",
              "    </tr>\n",
              "    <tr>\n",
              "      <th>ResultadoTesteRapido</th>\n",
              "      <td>0.350763</td>\n",
              "    </tr>\n",
              "    <tr>\n",
              "      <th>DataColetaTesteRapido</th>\n",
              "      <td>0.349258</td>\n",
              "    </tr>\n",
              "    <tr>\n",
              "      <th>RacaCor</th>\n",
              "      <td>0.275795</td>\n",
              "    </tr>\n",
              "    <tr>\n",
              "      <th>ProfissionalSaude</th>\n",
              "      <td>0.077735</td>\n",
              "    </tr>\n",
              "  </tbody>\n",
              "</table>\n",
              "</div>"
            ],
            "text/plain": [
              "                        percentual\n",
              "ResultadoSorologia        0.963691\n",
              "DataColetaSorologia       0.963563\n",
              "ResultadoSorologia_IGG    0.956279\n",
              "DataColetaSorologiaIGG    0.956232\n",
              "ResultadoRT_PCR           0.665297\n",
              "DataColeta_RT_PCR         0.660597\n",
              "Escolaridade              0.399611\n",
              "ViagemInternacional       0.394779\n",
              "TipoTesteRapido           0.393348\n",
              "ViagemBrasil              0.354402\n",
              "ResultadoTesteRapido      0.350763\n",
              "DataColetaTesteRapido     0.349258\n",
              "RacaCor                   0.275795\n",
              "ProfissionalSaude         0.077735"
            ]
          },
          "execution_count": 33,
          "metadata": {},
          "output_type": "execute_result"
        }
      ],
      "source": [
        "# Remove colunas nulas acima do limite de 5%\n",
        "# Coluna considera importante para ser removida\n",
        "cols_to_ignore = [\"FicouInternado\"]\n",
        "_, df_na = remove_nan_cols_above_limit(covid_df, cols_to_ignore, limit=0.05)\n",
        "\n",
        "# Colunas removidas\n",
        "df_na"
      ]
    },
    {
      "cell_type": "code",
      "execution_count": 34,
      "metadata": {
        "colab": {
          "base_uri": "https://localhost:8080/"
        },
        "id": "tAEhuFtlhJ7y",
        "outputId": "fefa1689-6f7e-47ec-a96e-da452154707f"
      },
      "outputs": [
        {
          "data": {
            "text/plain": [
              "(1340445, 31)"
            ]
          },
          "execution_count": 34,
          "metadata": {},
          "output_type": "execute_result"
        }
      ],
      "source": [
        "covid_df.shape"
      ]
    },
    {
      "cell_type": "code",
      "execution_count": 35,
      "metadata": {
        "colab": {
          "base_uri": "https://localhost:8080/"
        },
        "id": "KwOm5PZDjTKS",
        "outputId": "70fca99c-c95e-4080-b5db-1904f921736a"
      },
      "outputs": [
        {
          "data": {
            "text/plain": [
              "DataNotificacao                 0\n",
              "DataCadastro                    0\n",
              "DataDiagnostico                 0\n",
              "DataEncerramento            16515\n",
              "DataObito                       0\n",
              "Evolucao                    23208\n",
              "CriterioConfirmacao          5393\n",
              "StatusNotificacao               0\n",
              "Municipio                       0\n",
              "Bairro                       9100\n",
              "FaixaEtaria                    32\n",
              "IdadeNaDataNotificacao          0\n",
              "Sexo                          216\n",
              "Gestante                    17242\n",
              "Febre                        1329\n",
              "DificuldadeRespiratoria      1239\n",
              "Tosse                        1264\n",
              "Coriza                       1268\n",
              "DorGarganta                  1306\n",
              "Diarreia                     1278\n",
              "Cefaleia                     1304\n",
              "ComorbidadePulmao            1611\n",
              "ComorbidadeCardio            1574\n",
              "ComorbidadeRenal             1505\n",
              "ComorbidadeDiabetes          1552\n",
              "ComorbidadeTabagismo         1550\n",
              "ComorbidadeObesidade         1741\n",
              "FicouInternado             520267\n",
              "PossuiDeficiencia            7304\n",
              "MoradorDeRua                 8075\n",
              "PASSED                          0\n",
              "dtype: int64"
            ]
          },
          "execution_count": 35,
          "metadata": {},
          "output_type": "execute_result"
        }
      ],
      "source": [
        "covid_df.isna().sum()"
      ]
    },
    {
      "cell_type": "markdown",
      "metadata": {
        "id": "_s4k3YYYEM-k"
      },
      "source": [
        "### Transformando Datas"
      ]
    },
    {
      "cell_type": "markdown",
      "metadata": {
        "id": "ofIJYDIGZx98"
      },
      "source": [
        "* O padrão visto nas datas é de yyyy-mm-dd, porém algumas colunas possuem valores que escapam desse padrão, assim, gerando ruídos,como por exemplo: 0202-03-21.\n",
        "* Além disso, tais colunas não são necessárias."
      ]
    },
    {
      "cell_type": "code",
      "execution_count": 36,
      "metadata": {
        "colab": {
          "base_uri": "https://localhost:8080/"
        },
        "id": "xVg9zX-EZqep",
        "outputId": "67363131-9fc5-4e3e-bd3b-ffed83c1ddb4"
      },
      "outputs": [],
      "source": [
        "covid_df.drop(columns=['DataDiagnostico', 'DataEncerramento', \"DataObito\",\"DataCadastro\", \"DataNotificacao\"], inplace=True)"
      ]
    },
    {
      "cell_type": "code",
      "execution_count": 37,
      "metadata": {},
      "outputs": [
        {
          "data": {
            "text/plain": [
              "Index(['Evolucao', 'CriterioConfirmacao', 'StatusNotificacao', 'Municipio',\n",
              "       'Bairro', 'FaixaEtaria', 'IdadeNaDataNotificacao', 'Sexo', 'Gestante',\n",
              "       'Febre', 'DificuldadeRespiratoria', 'Tosse', 'Coriza', 'DorGarganta',\n",
              "       'Diarreia', 'Cefaleia', 'ComorbidadePulmao', 'ComorbidadeCardio',\n",
              "       'ComorbidadeRenal', 'ComorbidadeDiabetes', 'ComorbidadeTabagismo',\n",
              "       'ComorbidadeObesidade', 'FicouInternado', 'PossuiDeficiencia',\n",
              "       'MoradorDeRua', 'PASSED'],\n",
              "      dtype='object')"
            ]
          },
          "execution_count": 37,
          "metadata": {},
          "output_type": "execute_result"
        }
      ],
      "source": [
        "covid_df.columns"
      ]
    },
    {
      "cell_type": "markdown",
      "metadata": {
        "id": "HNLqxscmB_js"
      },
      "source": [
        "### Removendo colunas desnecessárias"
      ]
    },
    {
      "cell_type": "markdown",
      "metadata": {
        "id": "ClPZO8kUxK8M"
      },
      "source": [
        "* Bairro/Municipio - Valores descritivos\n",
        "* StatusNotificacao - Se torna constante após tratamentos\n",
        "* Evolução - Possui informação similar a variável alvo\n",
        "* Gestante - Coluna consante"
      ]
    },
    {
      "cell_type": "code",
      "execution_count": 38,
      "metadata": {
        "id": "PsVWNpQHeYde"
      },
      "outputs": [],
      "source": [
        "# Remover DataNotificacao DataColetaTesteRapido\n",
        "covid_df.drop(columns=[\"Bairro\", \"Municipio\", \"StatusNotificacao\", \"Evolucao\", \"Gestante\"], inplace=True)"
      ]
    },
    {
      "cell_type": "code",
      "execution_count": 39,
      "metadata": {},
      "outputs": [],
      "source": [
        "# Remove linhas com alguma coluna nula\n",
        "covid_df.dropna(inplace=True)"
      ]
    },
    {
      "cell_type": "code",
      "execution_count": 40,
      "metadata": {},
      "outputs": [
        {
          "name": "stdout",
          "output_type": "stream",
          "text": [
            "CriterioConfirmacao -----> 3\n",
            "FaixaEtaria -----> 11\n",
            "IdadeNaDataNotificacao -----> 113\n",
            "Sexo -----> 2\n",
            "Febre -----> 2\n",
            "DificuldadeRespiratoria -----> 2\n",
            "Tosse -----> 2\n",
            "Coriza -----> 2\n",
            "DorGarganta -----> 2\n",
            "Diarreia -----> 2\n",
            "Cefaleia -----> 2\n",
            "ComorbidadePulmao -----> 2\n",
            "ComorbidadeCardio -----> 2\n",
            "ComorbidadeRenal -----> 2\n",
            "ComorbidadeDiabetes -----> 2\n",
            "ComorbidadeTabagismo -----> 2\n",
            "ComorbidadeObesidade -----> 2\n",
            "FicouInternado -----> 2\n",
            "PossuiDeficiencia -----> 2\n",
            "MoradorDeRua -----> 2\n",
            "PASSED -----> 2\n"
          ]
        }
      ],
      "source": [
        "for i in covid_df.columns:\n",
        "    print(i,\"----->\", len(covid_df[i].unique()))"
      ]
    },
    {
      "cell_type": "markdown",
      "metadata": {},
      "source": [
        "### Remove caracteres especiais e espaços em branco\n",
        "* Quando utilizado o OneHot-Encoder, é necessário remover tais carácteres,\n",
        "senão, as colunas fugirão do padrão."
      ]
    },
    {
      "cell_type": "code",
      "execution_count": 41,
      "metadata": {},
      "outputs": [],
      "source": [
        "def remove_specials_chars(char, chars_to_replace):\n",
        "    if(isinstance(char, str)):\n",
        "        # Remove espaçamento\n",
        "        char = char.strip()\n",
        "        \n",
        "        # Substitui espaçamento entre palavras\n",
        "        char = char.replace(\" \", \"_\")\n",
        "        \n",
        "        # Remove caracter\n",
        "        for c_key in chars_to_replace.keys():\n",
        "            char = char.replace(c_key, chars_to_replace[c_key])\n",
        "            \n",
        "    return char"
      ]
    },
    {
      "cell_type": "code",
      "execution_count": 42,
      "metadata": {},
      "outputs": [],
      "source": [
        "# Carácteres a serem substituídos\n",
        "chars_to_replace = {'ã': 'a', 'ó': 'o', 'Ó': 'O'}\n",
        "\n",
        "# Aplica substituição\n",
        "covid_df = covid_df.applymap(lambda x: remove_specials_chars(x, chars_to_replace))"
      ]
    },
    {
      "cell_type": "code",
      "execution_count": 43,
      "metadata": {},
      "outputs": [
        {
          "data": {
            "text/plain": [
              "PASSED\n",
              "0    801067\n",
              "1     11366\n",
              "Name: count, dtype: int64"
            ]
          },
          "execution_count": 43,
          "metadata": {},
          "output_type": "execute_result"
        }
      ],
      "source": [
        "covid_df.PASSED.value_counts(dropna=False)"
      ]
    },
    {
      "cell_type": "markdown",
      "metadata": {
        "id": "1eq81Uvc2ht-"
      },
      "source": [
        "# Encoding"
      ]
    },
    {
      "cell_type": "markdown",
      "metadata": {
        "id": "oIgxwNSL3YPh"
      },
      "source": [
        "## Label Encoding"
      ]
    },
    {
      "cell_type": "code",
      "execution_count": 44,
      "metadata": {
        "id": "HeDjGzmV9T2j"
      },
      "outputs": [],
      "source": [
        "label_encoder = LabelEncoder()"
      ]
    },
    {
      "cell_type": "code",
      "execution_count": 45,
      "metadata": {
        "id": "RkPNWEOgabFU"
      },
      "outputs": [],
      "source": [
        "covid_df[\"FaixaEtaria\"] = label_encoder.fit_transform(covid_df[\"FaixaEtaria\"])"
      ]
    },
    {
      "cell_type": "markdown",
      "metadata": {
        "id": "dIYjQrQr3cIA"
      },
      "source": [
        "## One-hot Encoding"
      ]
    },
    {
      "cell_type": "code",
      "execution_count": 46,
      "metadata": {
        "id": "keuhwEdd3cXk"
      },
      "outputs": [],
      "source": [
        "# Define colunas a serem ignoradas\n",
        "ignore_columns = [\"FaixaEtaria\", \"IdadeNaDataNotificacao\", \"PASSED\", \"DataNotificacao\"]\n",
        "onehot_encoder_cols = [col for col in covid_df.columns.tolist() if col not in ignore_columns]\n",
        "\n",
        "# Instancia o OneHotEnconder\n",
        "one_hot_encoder = OneHotEncoder(sparse_output=False)"
      ]
    },
    {
      "cell_type": "code",
      "execution_count": 47,
      "metadata": {
        "colab": {
          "base_uri": "https://localhost:8080/"
        },
        "id": "CG5C-muicP3h",
        "outputId": "8a5fb345-fda7-408c-e03f-1db06193245a"
      },
      "outputs": [
        {
          "data": {
            "text/plain": [
              "(812433, 37)"
            ]
          },
          "execution_count": 47,
          "metadata": {},
          "output_type": "execute_result"
        }
      ],
      "source": [
        "# Realiza o fit-transform\n",
        "one_hot_result = one_hot_encoder.fit_transform(covid_df[onehot_encoder_cols])\n",
        "\n",
        "# Obtem os nomes das colunas\n",
        "one_hot_col_result = one_hot_encoder.get_feature_names_out(onehot_encoder_cols)\n",
        "\n",
        "# Armazena em um novo DF\n",
        "one_hot_col_df = pd.DataFrame(one_hot_result, columns=one_hot_col_result, index=covid_df.index)\n",
        "one_hot_col_df.shape"
      ]
    },
    {
      "cell_type": "code",
      "execution_count": 48,
      "metadata": {},
      "outputs": [
        {
          "data": {
            "text/plain": [
              "array(['CriterioConfirmacao_Clinico',\n",
              "       'CriterioConfirmacao_Clinico_Epdemiologico',\n",
              "       'CriterioConfirmacao_Laboratorial', 'Sexo_F', 'Sexo_M',\n",
              "       'Febre_Nao', 'Febre_Sim', 'DificuldadeRespiratoria_Nao',\n",
              "       'DificuldadeRespiratoria_Sim', 'Tosse_Nao', 'Tosse_Sim',\n",
              "       'Coriza_Nao', 'Coriza_Sim', 'DorGarganta_Nao', 'DorGarganta_Sim',\n",
              "       'Diarreia_Nao', 'Diarreia_Sim', 'Cefaleia_Nao', 'Cefaleia_Sim',\n",
              "       'ComorbidadePulmao_Nao', 'ComorbidadePulmao_Sim',\n",
              "       'ComorbidadeCardio_Nao', 'ComorbidadeCardio_Sim',\n",
              "       'ComorbidadeRenal_Nao', 'ComorbidadeRenal_Sim',\n",
              "       'ComorbidadeDiabetes_Nao', 'ComorbidadeDiabetes_Sim',\n",
              "       'ComorbidadeTabagismo_Nao', 'ComorbidadeTabagismo_Sim',\n",
              "       'ComorbidadeObesidade_Nao', 'ComorbidadeObesidade_Sim',\n",
              "       'FicouInternado_Nao', 'FicouInternado_Sim',\n",
              "       'PossuiDeficiencia_Nao', 'PossuiDeficiencia_Sim',\n",
              "       'MoradorDeRua_Nao', 'MoradorDeRua_Sim'], dtype=object)"
            ]
          },
          "execution_count": 48,
          "metadata": {},
          "output_type": "execute_result"
        }
      ],
      "source": [
        "one_hot_col_result"
      ]
    },
    {
      "cell_type": "code",
      "execution_count": 49,
      "metadata": {
        "colab": {
          "base_uri": "https://localhost:8080/"
        },
        "id": "Wz5PNxsciru5",
        "outputId": "a80d540b-bc0a-4058-9f5c-de106f9a77a3"
      },
      "outputs": [
        {
          "data": {
            "text/plain": [
              "(812433, 40)"
            ]
          },
          "execution_count": 49,
          "metadata": {},
          "output_type": "execute_result"
        }
      ],
      "source": [
        "# Dropa colunas antigas e adiciona as novas\n",
        "covid_df = covid_df.drop(columns=onehot_encoder_cols).join(one_hot_col_df)\n",
        "covid_df.shape"
      ]
    },
    {
      "cell_type": "code",
      "execution_count": 50,
      "metadata": {},
      "outputs": [],
      "source": [
        "# Liberar Memoria\n",
        "del one_hot_col_df\n",
        "del one_hot_result"
      ]
    },
    {
      "cell_type": "code",
      "execution_count": 51,
      "metadata": {},
      "outputs": [
        {
          "data": {
            "text/html": [
              "<div>\n",
              "<style scoped>\n",
              "    .dataframe tbody tr th:only-of-type {\n",
              "        vertical-align: middle;\n",
              "    }\n",
              "\n",
              "    .dataframe tbody tr th {\n",
              "        vertical-align: top;\n",
              "    }\n",
              "\n",
              "    .dataframe thead th {\n",
              "        text-align: right;\n",
              "    }\n",
              "</style>\n",
              "<table border=\"1\" class=\"dataframe\">\n",
              "  <thead>\n",
              "    <tr style=\"text-align: right;\">\n",
              "      <th></th>\n",
              "      <th>FaixaEtaria</th>\n",
              "      <th>IdadeNaDataNotificacao</th>\n",
              "      <th>PASSED</th>\n",
              "      <th>CriterioConfirmacao_Clinico</th>\n",
              "      <th>CriterioConfirmacao_Clinico_Epdemiologico</th>\n",
              "      <th>CriterioConfirmacao_Laboratorial</th>\n",
              "      <th>Sexo_F</th>\n",
              "      <th>Sexo_M</th>\n",
              "      <th>Febre_Nao</th>\n",
              "      <th>Febre_Sim</th>\n",
              "      <th>...</th>\n",
              "      <th>ComorbidadeTabagismo_Nao</th>\n",
              "      <th>ComorbidadeTabagismo_Sim</th>\n",
              "      <th>ComorbidadeObesidade_Nao</th>\n",
              "      <th>ComorbidadeObesidade_Sim</th>\n",
              "      <th>FicouInternado_Nao</th>\n",
              "      <th>FicouInternado_Sim</th>\n",
              "      <th>PossuiDeficiencia_Nao</th>\n",
              "      <th>PossuiDeficiencia_Sim</th>\n",
              "      <th>MoradorDeRua_Nao</th>\n",
              "      <th>MoradorDeRua_Sim</th>\n",
              "    </tr>\n",
              "  </thead>\n",
              "  <tbody>\n",
              "    <tr>\n",
              "      <th>8</th>\n",
              "      <td>3</td>\n",
              "      <td>26</td>\n",
              "      <td>0</td>\n",
              "      <td>0.0</td>\n",
              "      <td>0.0</td>\n",
              "      <td>1.0</td>\n",
              "      <td>1.0</td>\n",
              "      <td>0.0</td>\n",
              "      <td>1.0</td>\n",
              "      <td>0.0</td>\n",
              "      <td>...</td>\n",
              "      <td>1.0</td>\n",
              "      <td>0.0</td>\n",
              "      <td>1.0</td>\n",
              "      <td>0.0</td>\n",
              "      <td>1.0</td>\n",
              "      <td>0.0</td>\n",
              "      <td>1.0</td>\n",
              "      <td>0.0</td>\n",
              "      <td>1.0</td>\n",
              "      <td>0.0</td>\n",
              "    </tr>\n",
              "    <tr>\n",
              "      <th>11</th>\n",
              "      <td>3</td>\n",
              "      <td>26</td>\n",
              "      <td>0</td>\n",
              "      <td>0.0</td>\n",
              "      <td>0.0</td>\n",
              "      <td>1.0</td>\n",
              "      <td>1.0</td>\n",
              "      <td>0.0</td>\n",
              "      <td>1.0</td>\n",
              "      <td>0.0</td>\n",
              "      <td>...</td>\n",
              "      <td>1.0</td>\n",
              "      <td>0.0</td>\n",
              "      <td>1.0</td>\n",
              "      <td>0.0</td>\n",
              "      <td>1.0</td>\n",
              "      <td>0.0</td>\n",
              "      <td>1.0</td>\n",
              "      <td>0.0</td>\n",
              "      <td>1.0</td>\n",
              "      <td>0.0</td>\n",
              "    </tr>\n",
              "    <tr>\n",
              "      <th>15</th>\n",
              "      <td>4</td>\n",
              "      <td>35</td>\n",
              "      <td>0</td>\n",
              "      <td>0.0</td>\n",
              "      <td>0.0</td>\n",
              "      <td>1.0</td>\n",
              "      <td>0.0</td>\n",
              "      <td>1.0</td>\n",
              "      <td>1.0</td>\n",
              "      <td>0.0</td>\n",
              "      <td>...</td>\n",
              "      <td>1.0</td>\n",
              "      <td>0.0</td>\n",
              "      <td>1.0</td>\n",
              "      <td>0.0</td>\n",
              "      <td>1.0</td>\n",
              "      <td>0.0</td>\n",
              "      <td>1.0</td>\n",
              "      <td>0.0</td>\n",
              "      <td>1.0</td>\n",
              "      <td>0.0</td>\n",
              "    </tr>\n",
              "    <tr>\n",
              "      <th>36</th>\n",
              "      <td>3</td>\n",
              "      <td>27</td>\n",
              "      <td>0</td>\n",
              "      <td>0.0</td>\n",
              "      <td>0.0</td>\n",
              "      <td>1.0</td>\n",
              "      <td>0.0</td>\n",
              "      <td>1.0</td>\n",
              "      <td>1.0</td>\n",
              "      <td>0.0</td>\n",
              "      <td>...</td>\n",
              "      <td>1.0</td>\n",
              "      <td>0.0</td>\n",
              "      <td>1.0</td>\n",
              "      <td>0.0</td>\n",
              "      <td>1.0</td>\n",
              "      <td>0.0</td>\n",
              "      <td>1.0</td>\n",
              "      <td>0.0</td>\n",
              "      <td>1.0</td>\n",
              "      <td>0.0</td>\n",
              "    </tr>\n",
              "    <tr>\n",
              "      <th>40</th>\n",
              "      <td>3</td>\n",
              "      <td>26</td>\n",
              "      <td>0</td>\n",
              "      <td>0.0</td>\n",
              "      <td>0.0</td>\n",
              "      <td>1.0</td>\n",
              "      <td>0.0</td>\n",
              "      <td>1.0</td>\n",
              "      <td>1.0</td>\n",
              "      <td>0.0</td>\n",
              "      <td>...</td>\n",
              "      <td>1.0</td>\n",
              "      <td>0.0</td>\n",
              "      <td>1.0</td>\n",
              "      <td>0.0</td>\n",
              "      <td>1.0</td>\n",
              "      <td>0.0</td>\n",
              "      <td>1.0</td>\n",
              "      <td>0.0</td>\n",
              "      <td>1.0</td>\n",
              "      <td>0.0</td>\n",
              "    </tr>\n",
              "  </tbody>\n",
              "</table>\n",
              "<p>5 rows × 40 columns</p>\n",
              "</div>"
            ],
            "text/plain": [
              "    FaixaEtaria  IdadeNaDataNotificacao  PASSED  CriterioConfirmacao_Clinico  \\\n",
              "8             3                      26       0                          0.0   \n",
              "11            3                      26       0                          0.0   \n",
              "15            4                      35       0                          0.0   \n",
              "36            3                      27       0                          0.0   \n",
              "40            3                      26       0                          0.0   \n",
              "\n",
              "    CriterioConfirmacao_Clinico_Epdemiologico  \\\n",
              "8                                         0.0   \n",
              "11                                        0.0   \n",
              "15                                        0.0   \n",
              "36                                        0.0   \n",
              "40                                        0.0   \n",
              "\n",
              "    CriterioConfirmacao_Laboratorial  Sexo_F  Sexo_M  Febre_Nao  Febre_Sim  \\\n",
              "8                                1.0     1.0     0.0        1.0        0.0   \n",
              "11                               1.0     1.0     0.0        1.0        0.0   \n",
              "15                               1.0     0.0     1.0        1.0        0.0   \n",
              "36                               1.0     0.0     1.0        1.0        0.0   \n",
              "40                               1.0     0.0     1.0        1.0        0.0   \n",
              "\n",
              "    ...  ComorbidadeTabagismo_Nao  ComorbidadeTabagismo_Sim  \\\n",
              "8   ...                       1.0                       0.0   \n",
              "11  ...                       1.0                       0.0   \n",
              "15  ...                       1.0                       0.0   \n",
              "36  ...                       1.0                       0.0   \n",
              "40  ...                       1.0                       0.0   \n",
              "\n",
              "    ComorbidadeObesidade_Nao  ComorbidadeObesidade_Sim  FicouInternado_Nao  \\\n",
              "8                        1.0                       0.0                 1.0   \n",
              "11                       1.0                       0.0                 1.0   \n",
              "15                       1.0                       0.0                 1.0   \n",
              "36                       1.0                       0.0                 1.0   \n",
              "40                       1.0                       0.0                 1.0   \n",
              "\n",
              "    FicouInternado_Sim  PossuiDeficiencia_Nao  PossuiDeficiencia_Sim  \\\n",
              "8                  0.0                    1.0                    0.0   \n",
              "11                 0.0                    1.0                    0.0   \n",
              "15                 0.0                    1.0                    0.0   \n",
              "36                 0.0                    1.0                    0.0   \n",
              "40                 0.0                    1.0                    0.0   \n",
              "\n",
              "    MoradorDeRua_Nao  MoradorDeRua_Sim  \n",
              "8                1.0               0.0  \n",
              "11               1.0               0.0  \n",
              "15               1.0               0.0  \n",
              "36               1.0               0.0  \n",
              "40               1.0               0.0  \n",
              "\n",
              "[5 rows x 40 columns]"
            ]
          },
          "execution_count": 51,
          "metadata": {},
          "output_type": "execute_result"
        }
      ],
      "source": [
        "covid_df.head()"
      ]
    },
    {
      "cell_type": "markdown",
      "metadata": {
        "id": "EzQLCJ66IORk"
      },
      "source": [
        "# Balanceando Dados"
      ]
    },
    {
      "cell_type": "code",
      "execution_count": 52,
      "metadata": {
        "id": "ersY3p4_IRK2"
      },
      "outputs": [],
      "source": [
        "rus = RandomUnderSampler(sampling_strategy='majority')\n",
        "X,y = rus.fit_resample(covid_df.drop(columns=[\"PASSED\"]), covid_df.PASSED)"
      ]
    },
    {
      "cell_type": "code",
      "execution_count": 53,
      "metadata": {},
      "outputs": [
        {
          "data": {
            "text/plain": [
              "PASSED\n",
              "0    11366\n",
              "1    11366\n",
              "Name: count, dtype: int64"
            ]
          },
          "execution_count": 53,
          "metadata": {},
          "output_type": "execute_result"
        }
      ],
      "source": [
        "y.value_counts()"
      ]
    },
    {
      "cell_type": "markdown",
      "metadata": {
        "id": "CCDv3sReXpnf"
      },
      "source": [
        "# Transformando Dataset em estrutura para grafo"
      ]
    },
    {
      "cell_type": "markdown",
      "metadata": {
        "id": "aqJ9NGMG9WIs"
      },
      "source": [
        "## Determinado propriedades\n",
        "* Nodes -> Pessoas (cada linha da tabela)\n",
        "* Edges -> Similaridade das doenças de cada pessoa\n",
        "* Nodes features -> Comorbidades, etc.\n",
        "* Labels -> Se a pessoa pode morrer por covid"
      ]
    },
    {
      "cell_type": "markdown",
      "metadata": {
        "id": "sqJA_nxr9WIs"
      },
      "source": [
        "## Extraindo Node Features"
      ]
    },
    {
      "cell_type": "code",
      "execution_count": 54,
      "metadata": {
        "colab": {
          "base_uri": "https://localhost:8080/"
        },
        "id": "rD6E-p4k9WIs",
        "outputId": "dd72ee25-2520-45cf-9f4e-d93a899f7142"
      },
      "outputs": [
        {
          "data": {
            "text/plain": [
              "Index(['FaixaEtaria', 'IdadeNaDataNotificacao', 'CriterioConfirmacao_Clinico',\n",
              "       'CriterioConfirmacao_Clinico_Epdemiologico',\n",
              "       'CriterioConfirmacao_Laboratorial', 'Sexo_F', 'Sexo_M', 'Febre_Nao',\n",
              "       'Febre_Sim', 'DificuldadeRespiratoria_Nao',\n",
              "       'DificuldadeRespiratoria_Sim', 'Tosse_Nao', 'Tosse_Sim', 'Coriza_Nao',\n",
              "       'Coriza_Sim', 'DorGarganta_Nao', 'DorGarganta_Sim', 'Diarreia_Nao',\n",
              "       'Diarreia_Sim', 'Cefaleia_Nao', 'Cefaleia_Sim', 'ComorbidadePulmao_Nao',\n",
              "       'ComorbidadePulmao_Sim', 'ComorbidadeCardio_Nao',\n",
              "       'ComorbidadeCardio_Sim', 'ComorbidadeRenal_Nao', 'ComorbidadeRenal_Sim',\n",
              "       'ComorbidadeDiabetes_Nao', 'ComorbidadeDiabetes_Sim',\n",
              "       'ComorbidadeTabagismo_Nao', 'ComorbidadeTabagismo_Sim',\n",
              "       'ComorbidadeObesidade_Nao', 'ComorbidadeObesidade_Sim',\n",
              "       'FicouInternado_Nao', 'FicouInternado_Sim', 'PossuiDeficiencia_Nao',\n",
              "       'PossuiDeficiencia_Sim', 'MoradorDeRua_Nao', 'MoradorDeRua_Sim'],\n",
              "      dtype='object')"
            ]
          },
          "execution_count": 54,
          "metadata": {},
          "output_type": "execute_result"
        }
      ],
      "source": [
        "X.columns"
      ]
    },
    {
      "cell_type": "code",
      "execution_count": 55,
      "metadata": {
        "id": "sj4v61YkkbEA"
      },
      "outputs": [],
      "source": [
        "# Reseta o index\n",
        "covid_df = covid_df.reset_index(drop=True)\n",
        "X = X.reset_index(drop=True)"
      ]
    },
    {
      "cell_type": "code",
      "execution_count": 56,
      "metadata": {
        "id": "04pg-dG-9WIt"
      },
      "outputs": [],
      "source": [
        "personal_info = ['IdadeNaDataNotificacao', 'FaixaEtaria',\n",
        "                 'Sexo_F', 'Sexo_M',\n",
        "                 'PossuiDeficiencia_Nao', 'PossuiDeficiencia_Sim']\n",
        "\n",
        "clinicians = ['CriterioConfirmacao_Clinico',\n",
        "       'CriterioConfirmacao_Clinico_Epdemiologico',\n",
        "       'CriterioConfirmacao_Laboratorial',\n",
        "       'FicouInternado_Sim', 'FicouInternado_Nao']\n",
        "\n",
        "comorbities = ['ComorbidadePulmao_Nao', 'ComorbidadePulmao_Sim',\n",
        "       'ComorbidadeCardio_Nao', 'ComorbidadeCardio_Sim',\n",
        "       'ComorbidadeRenal_Nao', 'ComorbidadeRenal_Sim',\n",
        "       'ComorbidadeDiabetes_Nao', 'ComorbidadeDiabetes_Sim',\n",
        "       'ComorbidadeTabagismo_Nao', 'ComorbidadeTabagismo_Sim',\n",
        "       'ComorbidadeObesidade_Nao', 'ComorbidadeObesidade_Sim']\n",
        "\n",
        "symptoms = ['Febre_Nao', 'Febre_Sim',\n",
        "       'DificuldadeRespiratoria_Nao', 'DificuldadeRespiratoria_Sim',\n",
        "       'Tosse_Nao', 'Tosse_Sim', 'Coriza_Nao', 'Coriza_Sim', 'DorGarganta_Nao',\n",
        "       'DorGarganta_Sim', 'Diarreia_Nao', 'Diarreia_Sim', 'Cefaleia_Nao',\n",
        "       'Cefaleia_Sim']"
      ]
    },
    {
      "cell_type": "code",
      "execution_count": 57,
      "metadata": {
        "colab": {
          "base_uri": "https://localhost:8080/"
        },
        "id": "4xW8FIQ9_m9j",
        "outputId": "e11d6f95-b74b-48e7-f76f-8b5c1946f761"
      },
      "outputs": [
        {
          "data": {
            "text/plain": [
              "array([[24.,  3.,  1., ...,  0.,  0.,  1.],\n",
              "       [43.,  5.,  1., ...,  0.,  0.,  1.],\n",
              "       [35.,  4.,  1., ...,  0.,  1.,  0.],\n",
              "       ...,\n",
              "       [59.,  6.,  0., ...,  0.,  1.,  0.],\n",
              "       [58.,  6.,  1., ...,  0.,  1.,  0.],\n",
              "       [50.,  6.,  0., ...,  1.,  0.,  1.]])"
            ]
          },
          "execution_count": 57,
          "metadata": {},
          "output_type": "execute_result"
        }
      ],
      "source": [
        "features = personal_info + comorbities + clinicians + symptoms\n",
        "\n",
        "all_features = X[features].to_numpy()\n",
        "X.drop(columns=features, inplace=True)\n",
        "all_features"
      ]
    },
    {
      "cell_type": "markdown",
      "metadata": {
        "id": "ORV6602Yaj64"
      },
      "source": [
        "## Definindo similaridade"
      ]
    },
    {
      "cell_type": "code",
      "execution_count": 59,
      "metadata": {
        "id": "c7FqYFmsan9E"
      },
      "outputs": [],
      "source": [
        "# Calcula a similaridade do cosseno para os pacientes\n",
        "similarity = cosine_similarity(all_features)"
      ]
    },
    {
      "cell_type": "code",
      "execution_count": 60,
      "metadata": {
        "id": "o2C5rR6yi-lT"
      },
      "outputs": [],
      "source": [
        "# Defini um limiar para existir uma relação entre os pacientes\n",
        "threshold = 0.9991\n",
        "\n",
        "# Cria a lista de adjacencia\n",
        "adjacency_list = [[],[]]\n",
        "\n",
        "# O resultado de similarity, é uma matriz de paciente x pacientes\n",
        "# Onde cada elemento é o cosseno da similaridade\n",
        "# Assim, percorremos paciente x parciente\n",
        "for pac_i in range(len(similarity)):\n",
        "    for pac_j in range(pac_i + 1, len(similarity[pac_i])):\n",
        "        value = similarity[pac_i][pac_j]\n",
        "\n",
        "        # True, Se o paciente não for si mesmo (i!=j) e\n",
        "        #o cosseno da similiaridade for maior que o limiar\n",
        "\n",
        "        if(pac_i != pac_j and value >= threshold):\n",
        "            # Adiciona a->b e b->a\n",
        "            adjacency_list[0].append(pac_i)\n",
        "            adjacency_list[1].append(pac_j)\n",
        "\n",
        "            adjacency_list[0].append(pac_j)\n",
        "            adjacency_list[1].append(pac_i)"
      ]
    },
    {
      "cell_type": "code",
      "execution_count": 61,
      "metadata": {
        "colab": {
          "base_uri": "https://localhost:8080/"
        },
        "id": "EFFnhktMH9Lw",
        "outputId": "8681a404-a61b-42a7-87c2-4bfec1ee6b61"
      },
      "outputs": [
        {
          "data": {
            "text/plain": [
              "60249700"
            ]
          },
          "execution_count": 61,
          "metadata": {},
          "output_type": "execute_result"
        }
      ],
      "source": [
        "len(adjacency_list[0])"
      ]
    },
    {
      "cell_type": "markdown",
      "metadata": {
        "id": "roqyBZCVvnEk"
      },
      "source": [
        "## Usando Pyg"
      ]
    },
    {
      "cell_type": "code",
      "execution_count": 62,
      "metadata": {
        "id": "Kc599nZczHCv"
      },
      "outputs": [],
      "source": [
        "X_features = torch.from_numpy(all_features).float()\n",
        "y_target = torch.from_numpy(y.to_numpy())"
      ]
    },
    {
      "cell_type": "code",
      "execution_count": 63,
      "metadata": {
        "colab": {
          "base_uri": "https://localhost:8080/"
        },
        "id": "-qdPLQrpZkOA",
        "outputId": "5d81828b-0fe6-4b2b-d837-ec814e91e5ca"
      },
      "outputs": [
        {
          "data": {
            "text/plain": [
              "tensor([[24.,  3.,  1.,  ...,  0.,  0.,  1.],\n",
              "        [43.,  5.,  1.,  ...,  0.,  0.,  1.],\n",
              "        [35.,  4.,  1.,  ...,  0.,  1.,  0.],\n",
              "        ...,\n",
              "        [59.,  6.,  0.,  ...,  0.,  1.,  0.],\n",
              "        [58.,  6.,  1.,  ...,  0.,  1.,  0.],\n",
              "        [50.,  6.,  0.,  ...,  1.,  0.,  1.]], dtype=torch.float64)"
            ]
          },
          "execution_count": 63,
          "metadata": {},
          "output_type": "execute_result"
        }
      ],
      "source": [
        "torch.from_numpy(all_features.astype(np.double))"
      ]
    },
    {
      "cell_type": "code",
      "execution_count": 64,
      "metadata": {
        "id": "rPJiCJMfs53M"
      },
      "outputs": [],
      "source": [
        "edge_index = torch.tensor(adjacency_list, dtype=torch.long)\n",
        "edge_index,_,_ = remove_isolated_nodes(edge_index)\n",
        "\n",
        "data = Data(x=X_features, edge_index=edge_index, y=y_target)"
      ]
    },
    {
      "cell_type": "code",
      "execution_count": 65,
      "metadata": {},
      "outputs": [],
      "source": [
        "# Liberar memória\n",
        "del adjacency_list"
      ]
    },
    {
      "cell_type": "code",
      "execution_count": 66,
      "metadata": {
        "colab": {
          "base_uri": "https://localhost:8080/"
        },
        "id": "qUfpmRndLU6f",
        "outputId": "325b2955-0a7c-4715-a71c-ffac0681b880"
      },
      "outputs": [
        {
          "name": "stdout",
          "output_type": "stream",
          "text": [
            "Number of nodes: 22732\n",
            "Number of edges: 60249700\n",
            "Average node degree: 2650.44\n",
            "Has isolated nodes: True\n",
            "Has self-loops: False\n",
            "Is undirected: True\n"
          ]
        }
      ],
      "source": [
        "def show_data_info(data):\n",
        "    print(f'Number of nodes: {data.num_nodes}')\n",
        "    print(f'Number of edges: {data.num_edges}')\n",
        "    print(f'Average node degree: {data.num_edges / data.num_nodes:.2f}')\n",
        "    print(f'Has isolated nodes: {data.has_isolated_nodes()}')\n",
        "    print(f'Has self-loops: {data.has_self_loops()}')\n",
        "    print(f'Is undirected: {data.is_undirected()}')\n",
        "\n",
        "show_data_info(data)"
      ]
    },
    {
      "cell_type": "code",
      "execution_count": 67,
      "metadata": {
        "id": "SCU63MBvRc--"
      },
      "outputs": [],
      "source": [
        "# Obtendo maior componente\n",
        "from torch_geometric.transforms import LargestConnectedComponents\n",
        "import torch_geometric.transforms as T"
      ]
    },
    {
      "cell_type": "code",
      "execution_count": 68,
      "metadata": {
        "id": "7ci1ZAi7V4hq"
      },
      "outputs": [],
      "source": [
        "transform = LargestConnectedComponents()\n",
        "data = transform(data)"
      ]
    },
    {
      "cell_type": "code",
      "execution_count": 69,
      "metadata": {
        "colab": {
          "base_uri": "https://localhost:8080/"
        },
        "id": "GYl4MmsAbmC9",
        "outputId": "449ae33f-4224-4eb7-db20-bca805ad30f7"
      },
      "outputs": [
        {
          "name": "stdout",
          "output_type": "stream",
          "text": [
            "Number of nodes: 21335\n",
            "Number of edges: 60248044\n",
            "Average node degree: 2823.91\n",
            "Has isolated nodes: False\n",
            "Has self-loops: False\n",
            "Is undirected: True\n"
          ]
        }
      ],
      "source": [
        "show_data_info(data)"
      ]
    },
    {
      "cell_type": "markdown",
      "metadata": {
        "id": "I_uJIrY-MFbZ"
      },
      "source": [
        "## Split dados"
      ]
    },
    {
      "cell_type": "code",
      "execution_count": 70,
      "metadata": {
        "id": "SRkGklaMMH7K"
      },
      "outputs": [],
      "source": [
        "def split_in_masks(data, val=0.1, test=0.3):\n",
        "    # resetting data split\n",
        "    split = T.RandomNodeSplit(num_val=val, num_test=test)\n",
        "\n",
        "    # print(\n",
        "    #     f\"train: {int(data.train_mask.sum())}, \",\n",
        "    #     f\"val: {int(data.val_mask.sum())}, \",\n",
        "    #     f\"test: {int(data.test_mask.sum())}\",\n",
        "    # )\n",
        "\n",
        "    return split(data)\n"
      ]
    },
    {
      "cell_type": "markdown",
      "metadata": {
        "id": "OVQV7LXpU2ez"
      },
      "source": [
        "## GCN"
      ]
    },
    {
      "cell_type": "markdown",
      "metadata": {},
      "source": [
        "## Funções Auxiliares"
      ]
    },
    {
      "cell_type": "code",
      "execution_count": 71,
      "metadata": {},
      "outputs": [],
      "source": [
        "def computes_metrics(target_labels, pred_labels):\n",
        "    accuracy = accuracy_score(target_labels, pred_labels)\n",
        "    f1 = f1_score(target_labels, pred_labels)\n",
        "    roc_auc = roc_auc_score(target_labels, pred_labels)\n",
        "    recall = recall_score(target_labels, pred_labels)\n",
        "    precision = precision_score(target_labels, pred_labels)\n",
        "    \n",
        "    return accuracy, precision, recall, f1, roc_auc\n",
        "\n",
        "def get_df_results(size, csv_name):\n",
        "    # Busca Df já escrito, caso não enconte, instancia um novo\n",
        "    df_results = None\n",
        "    try:\n",
        "        df_results = pd.read_csv(csv_name, sep=\",\", index_col=0)\n",
        "    except FileNotFoundError:\n",
        "        df_results = pd.DataFrame(data=np.zeros(size))\n",
        "    \n",
        "    return df_results\n",
        "\n",
        "def save_metrics(size, resultado, run):\n",
        "    # Mudar o nome para cada grupo de rn_runs\n",
        "    csv_name = \"./results/gcn_es_runs\"\n",
        "\n",
        "    # Obtem Df results    \n",
        "    df_results = get_df_results(size, csv_name)\n",
        "\n",
        "    # Escreve as métricas na coluna run respectiva\n",
        "    df_results.iloc[:, run] = list(resultado)\n",
        "    \n",
        "    # Escreve df modificado\n",
        "    df_results.to_csv(csv_name)\n",
        "        \n",
        "def print_metrics(pred_labels, target_labels, loss, metrics_results, epoch):\n",
        "    print(f\"Pred: {pred_labels.sum()}, Actual: {target_labels.sum()}\")\n",
        "    print(f'Epoch: {epoch:03d}, Train Loss: {loss:.3f}')\n",
        "    print(metrics_results)\n",
        "    print(\"-----------------------------------------------\")"
      ]
    },
    {
      "cell_type": "markdown",
      "metadata": {},
      "source": [
        "## Execução"
      ]
    },
    {
      "cell_type": "code",
      "execution_count": 72,
      "metadata": {
        "id": "0uiNN_sgUTQX"
      },
      "outputs": [],
      "source": [
        "from torch_geometric.nn import GCNConv\n",
        "\n",
        "class GCN(torch.nn.Module):\n",
        "    def __init__(self, num_node_features, num_classes):\n",
        "        super().__init__()\n",
        "        self.conv1 = GCNConv(num_node_features, 20)\n",
        "        self.conv2 = GCNConv(20, num_classes)\n",
        "\n",
        "    def forward(self, x, edge_index):\n",
        "        x = self.conv1(x, edge_index)\n",
        "        x = F.relu(x)\n",
        "\n",
        "        x = self.conv2(x, edge_index)\n",
        "\n",
        "        return x"
      ]
    },
    {
      "cell_type": "code",
      "execution_count": 73,
      "metadata": {
        "id": "BsVRH4_pVJNR"
      },
      "outputs": [],
      "source": [
        "def train(model, data, optimizer, criterion):\n",
        "    model.train()\n",
        "    optimizer.zero_grad()\n",
        "\n",
        "    out = model(data.x, data.edge_index)\n",
        "    loss = criterion(out[data.train_mask], data.y[data.train_mask])\n",
        "\n",
        "    loss.backward()\n",
        "\n",
        "    optimizer.step()\n",
        "\n",
        "    return loss\n",
        "\n",
        "def predict(model, data, mask):\n",
        "    out = model.eval()\n",
        "    pred = model(data.x, data.edge_index).argmax(dim=1)\n",
        "    \n",
        "    pred_labels = pred[mask]\n",
        "    target_labels = data.y[mask]\n",
        "\n",
        "    return pred_labels, target_labels\n",
        "\n",
        "def train_epochs(model, data, optimizer, criterion, run, n_epochs=200, n_runs=10):\n",
        "    metrics = ['accuracy', 'precision', 'recall', 'f1', 'roc_auc']\n",
        "\n",
        "    splited_data = split_in_masks(data)\n",
        "\n",
        "    for epoch in range(1, n_epochs + 1):\n",
        "        loss = train(model, splited_data, optimizer, criterion)\n",
        "\n",
        "        if epoch % 10 == 0:\n",
        "            pred_labels, target_labels = predict(model, splited_data, splited_data.test_mask)\n",
        "\n",
        "            metrics_results = computes_metrics(target_labels, pred_labels)\n",
        "            print_metrics(pred_labels, target_labels, loss, metrics_results, epoch)\n",
        "                \n",
        "    # Salva as métricas ao fim do treinamento de cada run\n",
        "    pred_labels, target_labels = predict(model, splited_data, splited_data.test_mask)\n",
        "    save_metrics((len(metrics), n_runs), metrics_results, run)"
      ]
    },
    {
      "cell_type": "code",
      "execution_count": 74,
      "metadata": {
        "id": "A7R7I-0WU5Ea"
      },
      "outputs": [
        {
          "name": "stdout",
          "output_type": "stream",
          "text": [
            "Pred: 6400, Actual: 3135\n",
            "Epoch: 010, Train Loss: 2.889\n",
            "(0.48984375, 0.48984375, 1.0, 0.6575773466177243, 0.5)\n",
            "-----------------------------------------------\n",
            "Pred: 6400, Actual: 3135\n",
            "Epoch: 020, Train Loss: 0.827\n",
            "(0.48984375, 0.48984375, 1.0, 0.6575773466177243, 0.5)\n",
            "-----------------------------------------------\n"
          ]
        },
        {
          "name": "stderr",
          "output_type": "stream",
          "text": [
            "i:\\Anaconda\\envs\\covid_es_gnn\\lib\\site-packages\\sklearn\\metrics\\_classification.py:1469: UndefinedMetricWarning: Precision is ill-defined and being set to 0.0 due to no predicted samples. Use `zero_division` parameter to control this behavior.\n",
            "  _warn_prf(average, modifier, msg_start, len(result))\n"
          ]
        },
        {
          "name": "stdout",
          "output_type": "stream",
          "text": [
            "Pred: 0, Actual: 3135\n",
            "Epoch: 030, Train Loss: 0.852\n",
            "(0.51015625, 0.0, 0.0, 0.0, 0.5)\n",
            "-----------------------------------------------\n",
            "Pred: 2766, Actual: 3135\n",
            "Epoch: 040, Train Loss: 0.586\n",
            "(0.84859375, 0.8915401301518439, 0.7866028708133971, 0.8357905439755974, 0.8473596283622882)\n",
            "-----------------------------------------------\n",
            "Pred: 3266, Actual: 3135\n",
            "Epoch: 050, Train Loss: 0.522\n",
            "(0.85296875, 0.8358848744641764, 0.8708133971291866, 0.8529917200437431, 0.8533240033119133)\n",
            "-----------------------------------------------\n",
            "Pred: 3447, Actual: 3135\n",
            "Epoch: 060, Train Loss: 0.471\n",
            "(0.8490625, 0.814621409921671, 0.8956937799043062, 0.853236098450319, 0.8499908409475587)\n",
            "-----------------------------------------------\n",
            "Pred: 3454, Actual: 3135\n",
            "Epoch: 070, Train Loss: 0.429\n",
            "(0.84796875, 0.8129704690214244, 0.8956937799043062, 0.852329640309607, 0.848918865449856)\n",
            "-----------------------------------------------\n",
            "Pred: 3461, Actual: 3135\n",
            "Epoch: 080, Train Loss: 0.392\n",
            "(0.8490625, 0.8133487431378215, 0.89792663476874, 0.8535476046088539, 0.8500352928820729)\n",
            "-----------------------------------------------\n",
            "Pred: 3525, Actual: 3135\n",
            "Epoch: 090, Train Loss: 0.363\n",
            "(0.8490625, 0.8076595744680851, 0.908133971291866, 0.854954954954955, 0.8502385017255655)\n",
            "-----------------------------------------------\n",
            "Pred: 3450, Actual: 3135\n",
            "Epoch: 100, Train Loss: 0.343\n",
            "(0.85234375, 0.8173913043478261, 0.8995215311004785, 0.8564920273348521, 0.8532829707569775)\n",
            "-----------------------------------------------\n",
            "Pred: 3368, Actual: 3135\n",
            "Epoch: 110, Train Loss: 0.328\n",
            "(0.85546875, 0.8280878859857482, 0.8896331738437001, 0.8577579578656005, 0.856148899326138)\n",
            "-----------------------------------------------\n",
            "Pred: 3303, Actual: 3135\n",
            "Epoch: 120, Train Loss: 0.319\n",
            "(0.8575, 0.8365122615803815, 0.8813397129186603, 0.8583410997204101, 0.8579746037793915)\n",
            "-----------------------------------------------\n",
            "Pred: 3296, Actual: 3135\n",
            "Epoch: 130, Train Loss: 0.318\n",
            "(0.85890625, 0.8385922330097088, 0.8816586921850079, 0.8595863784792411, 0.8593592082670828)\n",
            "-----------------------------------------------\n",
            "Pred: 3347, Actual: 3135\n",
            "Epoch: 140, Train Loss: 0.316\n",
            "(0.8584375, 0.8329847624738572, 0.8893141945773525, 0.8602283245911756, 0.8590521968292583)\n",
            "-----------------------------------------------\n",
            "Pred: 3351, Actual: 3135\n",
            "Epoch: 150, Train Loss: 0.315\n",
            "(0.86, 0.8340793792897643, 0.8915470494417863, 0.8618563058896085, 0.8606280423319191)\n",
            "-----------------------------------------------\n",
            "Pred: 3355, Actual: 3135\n",
            "Epoch: 160, Train Loss: 0.313\n",
            "(0.860625, 0.8342771982116245, 0.8928229665071771, 0.862557781201849, 0.8612660008646147)\n",
            "-----------------------------------------------\n",
            "Pred: 3393, Actual: 3135\n",
            "Epoch: 170, Train Loss: 0.312\n",
            "(0.860625, 0.8305334512231064, 0.8988835725677831, 0.8633578431372549, 0.8613866561154382)\n",
            "-----------------------------------------------\n",
            "Pred: 3330, Actual: 3135\n",
            "Epoch: 180, Train Loss: 0.311\n",
            "(0.86296875, 0.8390390390390391, 0.8912280701754386, 0.8643464810518174, 0.8635313398350394)\n",
            "-----------------------------------------------\n",
            "Pred: 3399, Actual: 3135\n",
            "Epoch: 190, Train Loss: 0.310\n",
            "(0.8609375, 0.8302441894674905, 0.9001594896331738, 0.8637894092439548, 0.8617183359345042)\n",
            "-----------------------------------------------\n",
            "Pred: 3336, Actual: 3135\n",
            "Epoch: 200, Train Loss: 0.309\n",
            "(0.86328125, 0.8387290167865707, 0.8925039872408294, 0.8647813320970483, 0.8638630196541053)\n",
            "-----------------------------------------------\n",
            "Pred: 6399, Actual: 3169\n",
            "Epoch: 010, Train Loss: 1.059\n",
            "(0.4953125, 0.4952336302547273, 1.0, 0.6624163879598661, 0.5001547508511297)\n",
            "-----------------------------------------------\n",
            "Pred: 4181, Actual: 3169\n",
            "Epoch: 020, Train Loss: 0.588\n",
            "(0.800625, 0.7263812485051423, 0.958346481539918, 0.8263945578231292, 0.8021382670776036)\n",
            "-----------------------------------------------\n",
            "Pred: 1068, Actual: 3169\n",
            "Epoch: 030, Train Loss: 0.598\n",
            "(0.66171875, 0.9700374531835206, 0.32691700852003786, 0.4890252537172528, 0.6585064770238691)\n",
            "-----------------------------------------------\n",
            "Pred: 2543, Actual: 3169\n",
            "Epoch: 040, Train Loss: 0.483\n",
            "(0.830625, 0.9099488792764452, 0.7301988008835595, 0.8102240896358545, 0.8296614555330828)\n",
            "-----------------------------------------------\n",
            "Pred: 3688, Actual: 3169\n",
            "Epoch: 050, Train Loss: 0.430\n",
            "(0.84171875, 0.7922993492407809, 0.9220574313663616, 0.8522677555782413, 0.8424895637178449)\n",
            "-----------------------------------------------\n",
            "Pred: 3442, Actual: 3169\n",
            "Epoch: 060, Train Loss: 0.399\n",
            "(0.85109375, 0.8219058686809995, 0.8927106342694856, 0.8558463167448191, 0.8514930453922482)\n",
            "-----------------------------------------------\n",
            "Pred: 3494, Actual: 3169\n",
            "Epoch: 070, Train Loss: 0.368\n",
            "(0.85171875, 0.8176874642243847, 0.9015462290943516, 0.8575716644154284, 0.8521968223775688)\n",
            "-----------------------------------------------\n",
            "Pred: 3409, Actual: 3169\n",
            "Epoch: 080, Train Loss: 0.346\n",
            "(0.858125, 0.8316221765913757, 0.8946039760176712, 0.8619641228336881, 0.8584749994603985)\n",
            "-----------------------------------------------\n",
            "Pred: 3301, Actual: 3169\n",
            "Epoch: 090, Train Loss: 0.336\n",
            "(0.863125, 0.8473189942441685, 0.882612811612496, 0.8646058732612055, 0.8633119768368888)\n",
            "-----------------------------------------------\n",
            "Pred: 3273, Actual: 3169\n",
            "Epoch: 100, Train Loss: 0.333\n",
            "(0.865625, 0.8527344943476932, 0.8807194698643105, 0.8665010866190623, 0.865769824687649)\n",
            "-----------------------------------------------\n",
            "Pred: 3288, Actual: 3169\n",
            "Epoch: 110, Train Loss: 0.330\n",
            "(0.86671875, 0.8521897810218978, 0.8841905964026506, 0.8678953074183056, 0.8668863845523004)\n",
            "-----------------------------------------------\n",
            "Pred: 3302, Actual: 3169\n",
            "Epoch: 120, Train Loss: 0.328\n",
            "(0.86734375, 0.8513022410660206, 0.887030609024929, 0.8687992582290217, 0.867532636607791)\n",
            "-----------------------------------------------\n",
            "Pred: 3292, Actual: 3169\n",
            "Epoch: 130, Train Loss: 0.326\n",
            "(0.86984375, 0.8547995139732685, 0.8879772798990218, 0.8710725893824486, 0.8700177331095232)\n",
            "-----------------------------------------------\n",
            "Pred: 3307, Actual: 3169\n",
            "Epoch: 140, Train Loss: 0.324\n",
            "(0.870625, 0.8539461747807681, 0.891132849479331, 0.8721432983323039, 0.8708217636440295)\n",
            "-----------------------------------------------\n",
            "Pred: 3310, Actual: 3169\n",
            "Epoch: 150, Train Loss: 0.323\n",
            "(0.87078125, 0.8537764350453172, 0.8917639633953929, 0.8723568451921592, 0.8709825697509307)\n",
            "-----------------------------------------------\n",
            "Pred: 3379, Actual: 3169\n",
            "Epoch: 160, Train Loss: 0.323\n",
            "(0.8678125, 0.8437407517016869, 0.899652887346166, 0.8708002443494196, 0.8681179942766112)\n",
            "-----------------------------------------------\n",
            "Pred: 3266, Actual: 3169\n",
            "Epoch: 170, Train Loss: 0.320\n",
            "(0.87203125, 0.8597672994488671, 0.8860839381508362, 0.8727272727272727, 0.8721660792580241)\n",
            "-----------------------------------------------\n",
            "Pred: 3329, Actual: 3169\n",
            "Epoch: 180, Train Loss: 0.319\n",
            "(0.8715625, 0.8525082607389607, 0.895550646891764, 0.8734995383194829, 0.8717926555412085)\n",
            "-----------------------------------------------\n",
            "Pred: 3337, Actual: 3169\n",
            "Epoch: 190, Train Loss: 0.317\n",
            "(0.87125, 0.8513635001498352, 0.8964973177658567, 0.8733476790654782, 0.8714922367226066)\n",
            "-----------------------------------------------\n",
            "Pred: 3320, Actual: 3169\n",
            "Epoch: 200, Train Loss: 0.316\n",
            "(0.87234375, 0.8542168674698796, 0.8949195329757021, 0.8740946216674373, 0.8725603545410854)\n",
            "-----------------------------------------------\n",
            "Pred: 6390, Actual: 3201\n",
            "Epoch: 010, Train Loss: 1.106\n",
            "(0.50171875, 0.5009389671361503, 1.0, 0.6675007819831091, 0.5015629884338856)\n",
            "-----------------------------------------------\n",
            "Pred: 4475, Actual: 3201\n",
            "Epoch: 020, Train Loss: 0.462\n",
            "(0.77375, 0.6958659217877095, 0.9728209934395501, 0.8113600833767587, 0.7736877708679463)\n",
            "-----------------------------------------------\n",
            "Pred: 3826, Actual: 3201\n",
            "Epoch: 030, Train Loss: 0.443\n",
            "(0.83671875, 0.7817564035546263, 0.9343955014058107, 0.8512878895688061, 0.8366882164734587)\n",
            "-----------------------------------------------\n",
            "Pred: 3568, Actual: 3201\n",
            "Epoch: 040, Train Loss: 0.417\n",
            "(0.85296875, 0.8167040358744395, 0.9103405185879413, 0.860983897178313, 0.8529508157178529)\n",
            "-----------------------------------------------\n",
            "Pred: 3542, Actual: 3201\n",
            "Epoch: 050, Train Loss: 0.391\n",
            "(0.85484375, 0.8207227555053642, 0.9081537019681349, 0.8622274951801868, 0.8548270854323325)\n",
            "-----------------------------------------------\n",
            "Pred: 3529, Actual: 3201\n",
            "Epoch: 060, Train Loss: 0.377\n",
            "(0.85625, 0.8231793709266081, 0.9075288972196188, 0.8632986627043091, 0.8562339703353486)\n",
            "-----------------------------------------------\n",
            "Pred: 3505, Actual: 3201\n",
            "Epoch: 070, Train Loss: 0.367\n",
            "(0.8578125, 0.8268188302425107, 0.9053420805998126, 0.8643006263048016, 0.857797642363051)\n",
            "-----------------------------------------------\n",
            "Pred: 3475, Actual: 3201\n",
            "Epoch: 080, Train Loss: 0.360\n",
            "(0.8609375, 0.8325179856115108, 0.9037800687285223, 0.866686638705812, 0.8609241075121199)\n",
            "-----------------------------------------------\n",
            "Pred: 3430, Actual: 3201\n",
            "Epoch: 090, Train Loss: 0.354\n",
            "(0.86359375, 0.8393586005830904, 0.8994064354889098, 0.8683456492233449, 0.8635825550373589)\n",
            "-----------------------------------------------\n",
            "Pred: 3398, Actual: 3201\n",
            "Epoch: 100, Train Loss: 0.349\n",
            "(0.86578125, 0.8446144791053561, 0.8965948141205873, 0.8698287619336262, 0.8657716177511345)\n",
            "-----------------------------------------------\n",
            "Pred: 3385, Actual: 3201\n",
            "Epoch: 110, Train Loss: 0.344\n",
            "(0.868125, 0.8481536189069424, 0.8969072164948454, 0.871849377467355, 0.8681160027457033)\n",
            "-----------------------------------------------\n",
            "Pred: 3383, Actual: 3201\n",
            "Epoch: 120, Train Loss: 0.341\n",
            "(0.86875, 0.8489506355305941, 0.8972196188691034, 0.8724179829890644, 0.868741100462998)\n",
            "-----------------------------------------------\n",
            "Pred: 3386, Actual: 3201\n",
            "Epoch: 130, Train Loss: 0.338\n",
            "(0.86984375, 0.8496751329001772, 0.8987816307403936, 0.8735387885228479, 0.8698347040854205)\n",
            "-----------------------------------------------\n",
            "Pred: 3383, Actual: 3201\n",
            "Epoch: 140, Train Loss: 0.335\n",
            "(0.8703125, 0.8504286136565179, 0.8987816307403936, 0.8739368165249088, 0.870303600615586)\n",
            "-----------------------------------------------\n",
            "Pred: 3377, Actual: 3201\n",
            "Epoch: 150, Train Loss: 0.333\n",
            "(0.870625, 0.8513473497186852, 0.8981568259918775, 0.8741258741258741, 0.8706163936148822)\n",
            "-----------------------------------------------\n",
            "Pred: 3375, Actual: 3201\n",
            "Epoch: 160, Train Loss: 0.331\n",
            "(0.8709375, 0.8518518518518519, 0.8981568259918775, 0.8743917274939172, 0.8709289913016593)\n",
            "-----------------------------------------------\n",
            "Pred: 3377, Actual: 3201\n",
            "Epoch: 170, Train Loss: 0.329\n",
            "(0.87125, 0.8519395913532721, 0.8987816307403936, 0.8747339616904835, 0.8712413936759174)\n",
            "-----------------------------------------------\n",
            "Pred: 3382, Actual: 3201\n",
            "Epoch: 180, Train Loss: 0.328\n",
            "(0.87203125, 0.8521584861028977, 0.9003436426116839, 0.875588637399362, 0.8720223996115624)\n",
            "-----------------------------------------------\n",
            "Pred: 3384, Actual: 3201\n",
            "Epoch: 190, Train Loss: 0.327\n",
            "(0.87203125, 0.8519503546099291, 0.9006560449859419, 0.875626423690205, 0.8720223019553027)\n",
            "-----------------------------------------------\n",
            "Pred: 3384, Actual: 3201\n",
            "Epoch: 200, Train Loss: 0.325\n",
            "(0.87328125, 0.8531323877068558, 0.9019056544829741, 0.8768413059984815, 0.8732723020773733)\n",
            "-----------------------------------------------\n",
            "Pred: 12, Actual: 3250\n",
            "Epoch: 010, Train Loss: 0.793\n",
            "(0.4940625, 1.0, 0.0036923076923076922, 0.007357449417535255, 0.5018461538461538)\n",
            "-----------------------------------------------\n",
            "Pred: 4096, Actual: 3250\n",
            "Epoch: 020, Train Loss: 0.514\n",
            "(0.824375, 0.759521484375, 0.9572307692307692, 0.8469915600326708, 0.8222661782661783)\n",
            "-----------------------------------------------\n",
            "Pred: 3475, Actual: 3250\n",
            "Epoch: 030, Train Loss: 0.440\n",
            "(0.86328125, 0.841726618705036, 0.9, 0.8698884758364313, 0.8626984126984125)\n",
            "-----------------------------------------------\n",
            "Pred: 3652, Actual: 3250\n",
            "Epoch: 040, Train Loss: 0.388\n",
            "(0.8584375, 0.8209200438116101, 0.9224615384615384, 0.8687337003767023, 0.8574212454212455)\n",
            "-----------------------------------------------\n",
            "Pred: 3520, Actual: 3250\n",
            "Epoch: 050, Train Loss: 0.355\n",
            "(0.864375, 0.8383522727272728, 0.908, 0.8717872968980798, 0.8636825396825396)\n",
            "-----------------------------------------------\n",
            "Pred: 3404, Actual: 3250\n",
            "Epoch: 060, Train Loss: 0.338\n",
            "(0.87, 0.8551703877790834, 0.8956923076923077, 0.8749624286143672, 0.8695921855921855)\n",
            "-----------------------------------------------\n",
            "Pred: 3401, Actual: 3250\n",
            "Epoch: 070, Train Loss: 0.332\n",
            "(0.87203125, 0.8573948838576889, 0.8972307692307693, 0.8768606224627876, 0.8716312576312576)\n",
            "-----------------------------------------------\n",
            "Pred: 3347, Actual: 3250\n",
            "Epoch: 080, Train Loss: 0.330\n",
            "(0.87328125, 0.8643561398267104, 0.8901538461538462, 0.877065332726997, 0.8730134310134311)\n",
            "-----------------------------------------------\n",
            "Pred: 3377, Actual: 3250\n",
            "Epoch: 090, Train Loss: 0.327\n",
            "(0.87546875, 0.8631921824104235, 0.8969230769230769, 0.879734419797797, 0.8751282051282051)\n",
            "-----------------------------------------------\n",
            "Pred: 3368, Actual: 3250\n",
            "Epoch: 100, Train Loss: 0.325\n",
            "(0.875625, 0.8643111638954869, 0.8956923076923077, 0.8797219703838017, 0.8753064713064712)\n",
            "-----------------------------------------------\n",
            "Pred: 3379, Actual: 3250\n",
            "Epoch: 110, Train Loss: 0.324\n",
            "(0.87640625, 0.8638650488310151, 0.8981538461538462, 0.8806758183738121, 0.8760610500610501)\n",
            "-----------------------------------------------\n",
            "Pred: 3342, Actual: 3250\n",
            "Epoch: 120, Train Loss: 0.322\n",
            "(0.876875, 0.8683423099940155, 0.8929230769230769, 0.8804611650485437, 0.8766202686202688)\n",
            "-----------------------------------------------\n",
            "Pred: 3415, Actual: 3250\n",
            "Epoch: 130, Train Loss: 0.321\n",
            "(0.87640625, 0.8600292825768667, 0.9036923076923077, 0.8813203300825208, 0.8759731379731379)\n",
            "-----------------------------------------------\n",
            "Pred: 3369, Actual: 3250\n",
            "Epoch: 140, Train Loss: 0.319\n",
            "(0.87671875, 0.8652419115464529, 0.8969230769230769, 0.8807977035806013, 0.8763980463980465)\n",
            "-----------------------------------------------\n",
            "Pred: 3368, Actual: 3250\n",
            "Epoch: 150, Train Loss: 0.318\n",
            "(0.8771875, 0.8657957244655582, 0.8972307692307693, 0.8812330009066185, 0.8768693528693527)\n",
            "-----------------------------------------------\n",
            "Pred: 3382, Actual: 3250\n",
            "Epoch: 160, Train Loss: 0.317\n",
            "(0.8775, 0.8645771732702543, 0.8996923076923077, 0.8817852834740653, 0.8771477411477411)\n",
            "-----------------------------------------------\n",
            "Pred: 3320, Actual: 3250\n",
            "Epoch: 170, Train Loss: 0.317\n",
            "(0.880625, 0.8743975903614458, 0.8932307692307693, 0.8837138508371386, 0.8804249084249085)\n",
            "-----------------------------------------------\n",
            "Pred: 3407, Actual: 3250\n",
            "Epoch: 180, Train Loss: 0.315\n",
            "(0.87734375, 0.8617552098620487, 0.9033846153846153, 0.8820790145711281, 0.8769304029304029)\n",
            "-----------------------------------------------\n",
            "Pred: 3434, Actual: 3250\n",
            "Epoch: 190, Train Loss: 0.314\n",
            "(0.8790625, 0.8605125218404194, 0.9092307692307692, 0.8842010771992819, 0.8785836385836386)\n",
            "-----------------------------------------------\n",
            "Pred: 3366, Actual: 3250\n",
            "Epoch: 200, Train Loss: 0.313\n",
            "(0.8790625, 0.8677956030897207, 0.8987692307692308, 0.8830108827085853, 0.8787496947496948)\n",
            "-----------------------------------------------\n",
            "Pred: 6383, Actual: 3243\n",
            "Epoch: 010, Train Loss: 1.437\n",
            "(0.509375, 0.5080683064389785, 1.0, 0.6738001246623727, 0.5026924295216978)\n",
            "-----------------------------------------------\n",
            "Pred: 5084, Actual: 3243\n",
            "Epoch: 020, Train Loss: 0.710\n",
            "(0.70609375, 0.6339496459480723, 0.9938328707986432, 0.774108322324967, 0.7021745918769903)\n",
            "-----------------------------------------------\n",
            "Pred: 4187, Actual: 3243\n",
            "Epoch: 030, Train Loss: 0.466\n",
            "(0.816875, 0.7473131120133747, 0.9648473635522664, 0.8422611036339166, 0.8148595386022339)\n",
            "-----------------------------------------------\n",
            "Pred: 3920, Actual: 3243\n",
            "Epoch: 040, Train Loss: 0.404\n",
            "(0.84328125, 0.7857142857142857, 0.9497378970089423, 0.859974870864163, 0.8418312544911674)\n",
            "-----------------------------------------------\n",
            "Pred: 3677, Actual: 3243\n",
            "Epoch: 050, Train Loss: 0.379\n",
            "(0.8590625, 0.8183301604568942, 0.9278445883441259, 0.8696531791907515, 0.8581256517900546)\n",
            "-----------------------------------------------\n",
            "Pred: 3526, Actual: 3243\n",
            "Epoch: 060, Train Loss: 0.365\n",
            "(0.86265625, 0.8352240499149177, 0.9081097748997842, 0.8701433003397843, 0.8620371490906902)\n",
            "-----------------------------------------------\n",
            "Pred: 3422, Actual: 3243\n",
            "Epoch: 070, Train Loss: 0.356\n",
            "(0.86671875, 0.8492109877264757, 0.8960838729571384, 0.8720180045011253, 0.8663187815846827)\n",
            "-----------------------------------------------\n",
            "Pred: 3384, Actual: 3243\n",
            "Epoch: 080, Train Loss: 0.350\n",
            "(0.86796875, 0.8543144208037825, 0.8914585260561209, 0.8724913233740756, 0.8676488068988238)\n",
            "-----------------------------------------------\n",
            "Pred: 3378, Actual: 3243\n",
            "Epoch: 090, Train Loss: 0.346\n",
            "(0.86953125, 0.8564239194789817, 0.8920752389762565, 0.873886119921462, 0.8692241890161613)\n",
            "-----------------------------------------------\n",
            "Pred: 3393, Actual: 3243\n",
            "Epoch: 100, Train Loss: 0.343\n",
            "(0.8696875, 0.8549955791335102, 0.8945420906567992, 0.8743218806509946, 0.8693489674063217)\n",
            "-----------------------------------------------\n",
            "Pred: 3407, Actual: 3243\n",
            "Epoch: 110, Train Loss: 0.340\n",
            "(0.8709375, 0.8547108893454652, 0.8979340117175455, 0.8757894736842105, 0.8705697933152187)\n",
            "-----------------------------------------------\n",
            "Pred: 3400, Actual: 3243\n",
            "Epoch: 120, Train Loss: 0.338\n",
            "(0.87171875, 0.8561764705882353, 0.8976256552574776, 0.8764112599729039, 0.8713658843281369)\n",
            "-----------------------------------------------\n",
            "Pred: 3394, Actual: 3243\n",
            "Epoch: 130, Train Loss: 0.336\n",
            "(0.87234375, 0.8573954036535062, 0.8973172987974098, 0.8769022148561096, 0.8720035971338966)\n",
            "-----------------------------------------------\n",
            "Pred: 3396, Actual: 3243\n",
            "Epoch: 140, Train Loss: 0.334\n",
            "(0.87234375, 0.8571849234393404, 0.8976256552574776, 0.8769392980870613, 0.8719993971567719)\n",
            "-----------------------------------------------\n",
            "Pred: 3395, Actual: 3243\n",
            "Epoch: 150, Train Loss: 0.332\n",
            "(0.8728125, 0.8577319587628865, 0.8979340117175455, 0.8773727026212714, 0.8724703318011231)\n",
            "-----------------------------------------------\n",
            "Pred: 3399, Actual: 3243\n",
            "Epoch: 160, Train Loss: 0.331\n",
            "(0.873125, 0.8576051779935275, 0.898859081097749, 0.8777476663655526, 0.8727744882840662)\n",
            "-----------------------------------------------\n",
            "Pred: 3398, Actual: 3243\n",
            "Epoch: 170, Train Loss: 0.330\n",
            "(0.87390625, 0.8584461447910535, 0.8994757940178847, 0.8784821563017617, 0.8735579793656101)\n",
            "-----------------------------------------------\n",
            "Pred: 3391, Actual: 3243\n",
            "Epoch: 180, Train Loss: 0.329\n",
            "(0.8740625, 0.8593335299321734, 0.8985507246376812, 0.8785046728971962, 0.873728957504143)\n",
            "-----------------------------------------------\n",
            "Pred: 3392, Actual: 3243\n",
            "Epoch: 190, Train Loss: 0.328\n",
            "(0.87390625, 0.8590801886792453, 0.8985507246376812, 0.8783722682743029, 0.8735705792969843)\n",
            "-----------------------------------------------\n",
            "Pred: 3387, Actual: 3243\n",
            "Epoch: 200, Train Loss: 0.327\n",
            "(0.8740625, 0.8597578978447004, 0.8979340117175455, 0.8784313725490196, 0.8737373574583926)\n",
            "-----------------------------------------------\n",
            "Pred: 4503, Actual: 3206\n",
            "Epoch: 010, Train Loss: 0.788\n",
            "(0.77390625, 0.6953142349544748, 0.9766063630692452, 0.8122973148268258, 0.7735254733317423)\n",
            "-----------------------------------------------\n",
            "Pred: 3155, Actual: 3206\n",
            "Epoch: 020, Train Loss: 0.634\n",
            "(0.85546875, 0.8614896988906497, 0.8477854023705552, 0.8545826127967301, 0.8554831833393164)\n",
            "-----------------------------------------------\n",
            "Pred: 3197, Actual: 3206\n",
            "Epoch: 030, Train Loss: 0.526\n",
            "(0.85515625, 0.856427901157335, 0.8540237055520898, 0.8552241136967047, 0.855158377509921)\n",
            "-----------------------------------------------\n",
            "Pred: 3496, Actual: 3206\n",
            "Epoch: 040, Train Loss: 0.451\n",
            "(0.8521875, 0.8232265446224256, 0.8976918278228322, 0.8588481050432706, 0.852102019108661)\n",
            "-----------------------------------------------\n",
            "Pred: 3576, Actual: 3206\n",
            "Epoch: 050, Train Loss: 0.406\n",
            "(0.850625, 0.8145973154362416, 0.9086088583905177, 0.8590386316720731, 0.8505160760330799)\n",
            "-----------------------------------------------\n",
            "Pred: 3530, Actual: 3206\n",
            "Epoch: 060, Train Loss: 0.374\n",
            "(0.8546875, 0.8223796033994334, 0.9054897067997505, 0.861935866983373, 0.8545920669252354)\n",
            "-----------------------------------------------\n",
            "Pred: 3452, Actual: 3206\n",
            "Epoch: 070, Train Loss: 0.348\n",
            "(0.8575, 0.8322711471610661, 0.8961322520274485, 0.8630219285070592, 0.8574274284558031)\n",
            "-----------------------------------------------\n",
            "Pred: 3409, Actual: 3206\n",
            "Epoch: 080, Train Loss: 0.332\n",
            "(0.86078125, 0.839542387797008, 0.8927011852776044, 0.8653061224489796, 0.860721287692027)\n",
            "-----------------------------------------------\n",
            "Pred: 3385, Actual: 3206\n",
            "Epoch: 090, Train Loss: 0.327\n",
            "(0.86421875, 0.8451994091580503, 0.8923892701185278, 0.8681535427097558, 0.8641658310517497)\n",
            "-----------------------------------------------\n",
            "Pred: 3366, Actual: 3206\n",
            "Epoch: 100, Train Loss: 0.325\n",
            "(0.8640625, 0.8469994058229352, 0.8892701185277605, 0.867620206938527, 0.8640151469282509)\n",
            "-----------------------------------------------\n",
            "Pred: 3356, Actual: 3206\n",
            "Epoch: 110, Train Loss: 0.323\n",
            "(0.86625, 0.850119189511323, 0.8898939488459139, 0.8695519658640658, 0.8662055843165073)\n",
            "-----------------------------------------------\n",
            "Pred: 3327, Actual: 3206\n",
            "Epoch: 120, Train Loss: 0.321\n",
            "(0.86703125, 0.8539224526600541, 0.8861509669369931, 0.8697382519516301, 0.8669953331867183)\n",
            "-----------------------------------------------\n",
            "Pred: 3421, Actual: 3206\n",
            "Epoch: 130, Train Loss: 0.319\n",
            "(0.86765625, 0.8447822274188833, 0.9014348097317529, 0.872189527689754, 0.8675927962246742)\n",
            "-----------------------------------------------\n",
            "Pred: 3393, Actual: 3206\n",
            "Epoch: 140, Train Loss: 0.316\n",
            "(0.86890625, 0.8488063660477454, 0.8983156581409857, 0.8728595241703289, 0.8688510037730601)\n",
            "-----------------------------------------------\n",
            "Pred: 3317, Actual: 3206\n",
            "Epoch: 150, Train Loss: 0.315\n",
            "(0.87171875, 0.859511606873681, 0.8892701185277605, 0.8741376667177679, 0.8716857793640681)\n",
            "-----------------------------------------------\n",
            "Pred: 3342, Actual: 3206\n",
            "Epoch: 160, Train Loss: 0.312\n",
            "(0.870625, 0.8557749850388988, 0.8920773549594511, 0.8735491753207086, 0.8705847012743405)\n",
            "-----------------------------------------------\n",
            "Pred: 3408, Actual: 3206\n",
            "Epoch: 170, Train Loss: 0.311\n",
            "(0.8703125, 0.8485915492957746, 0.9020586400499064, 0.8745086180828545, 0.8702528641702256)\n",
            "-----------------------------------------------\n",
            "Pred: 3338, Actual: 3206\n",
            "Epoch: 180, Train Loss: 0.309\n",
            "(0.8725, 0.8579988016776513, 0.8933250155957579, 0.8753056234718827, 0.8724608797452804)\n",
            "-----------------------------------------------\n",
            "Pred: 3372, Actual: 3206\n",
            "Epoch: 190, Train Loss: 0.308\n",
            "(0.8721875, 0.8540925266903915, 0.8983156581409857, 0.8756460930373974, 0.8721384176741246)\n",
            "-----------------------------------------------\n",
            "Pred: 3399, Actual: 3206\n",
            "Epoch: 200, Train Loss: 0.307\n",
            "(0.87265625, 0.851721094439541, 0.9029943855271366, 0.8766086298258895, 0.8725992591380203)\n",
            "-----------------------------------------------\n",
            "Pred: 6051, Actual: 3195\n",
            "Epoch: 010, Train Loss: 0.718\n",
            "(0.550625, 0.5263592794579408, 0.9968701095461658, 0.6889465714903741, 0.5513211702177008)\n",
            "-----------------------------------------------\n",
            "Pred: 4581, Actual: 3195\n",
            "Epoch: 020, Train Loss: 0.617\n",
            "(0.759375, 0.6806374154114823, 0.9758998435054773, 0.801954732510288, 0.7597127922675593)\n",
            "-----------------------------------------------\n",
            "Pred: 3221, Actual: 3195\n",
            "Epoch: 030, Train Loss: 0.508\n",
            "(0.8509375, 0.8478733312635828, 0.854773082942097, 0.8513092269326683, 0.8509434837487397)\n",
            "-----------------------------------------------\n",
            "Pred: 3668, Actual: 3195\n",
            "Epoch: 040, Train Loss: 0.442\n",
            "(0.84359375, 0.79907306434024, 0.9173708920187793, 0.8541454174559231, 0.8437088469454271)\n",
            "-----------------------------------------------\n",
            "Pred: 3427, Actual: 3195\n",
            "Epoch: 050, Train Loss: 0.388\n",
            "(0.8584375, 0.8339655675517945, 0.8945226917057904, 0.8631833282996074, 0.858493795150867)\n",
            "-----------------------------------------------\n",
            "Pred: 3393, Actual: 3195\n",
            "Epoch: 060, Train Loss: 0.348\n",
            "(0.8596875, 0.838491010904804, 0.8904538341158059, 0.8636915604128719, 0.8597354974011165)\n",
            "-----------------------------------------------\n",
            "Pred: 3266, Actual: 3195\n",
            "Epoch: 070, Train Loss: 0.333\n",
            "(0.86421875, 0.8560930802204532, 0.8751173708920188, 0.865500696486612, 0.8642357525286928)\n",
            "-----------------------------------------------\n",
            "Pred: 3246, Actual: 3195\n",
            "Epoch: 080, Train Loss: 0.328\n",
            "(0.86671875, 0.8607516943930992, 0.874491392801252, 0.8675671479583915, 0.8667308758078022)\n",
            "-----------------------------------------------\n",
            "Pred: 3265, Actual: 3195\n",
            "Epoch: 090, Train Loss: 0.324\n",
            "(0.868125, 0.860030627871363, 0.8788732394366198, 0.8693498452012384, 0.8681417679242383)\n",
            "-----------------------------------------------\n",
            "Pred: 3331, Actual: 3195\n",
            "Epoch: 100, Train Loss: 0.321\n",
            "(0.869375, 0.8540978685079555, 0.8904538341158059, 0.8718970272755133, 0.8694078842965924)\n",
            "-----------------------------------------------\n",
            "Pred: 3304, Actual: 3195\n",
            "Epoch: 110, Train Loss: 0.319\n",
            "(0.87140625, 0.8589588377723971, 0.888262910798122, 0.8733651330973997, 0.8714325474427427)\n",
            "-----------------------------------------------\n",
            "Pred: 3237, Actual: 3195\n",
            "Epoch: 120, Train Loss: 0.316\n",
            "(0.8740625, 0.8690145196169292, 0.8804381846635367, 0.8746890547263682, 0.8740724464659337)\n",
            "-----------------------------------------------\n",
            "Pred: 3240, Actual: 3195\n",
            "Epoch: 130, Train Loss: 0.314\n",
            "(0.87421875, 0.8688271604938271, 0.8810641627543035, 0.8749028749028749, 0.8742294292710676)\n",
            "-----------------------------------------------\n",
            "Pred: 3296, Actual: 3195\n",
            "Epoch: 140, Train Loss: 0.312\n",
            "(0.87640625, 0.8646844660194175, 0.892018779342723, 0.8781389616391927, 0.8764306065200355)\n",
            "-----------------------------------------------\n",
            "Pred: 3306, Actual: 3195\n",
            "Epoch: 150, Train Loss: 0.311\n",
            "(0.87609375, 0.8632788868723533, 0.8932707355242566, 0.8780187663436394, 0.8761205471693045)\n",
            "-----------------------------------------------\n",
            "Pred: 3272, Actual: 3195\n",
            "Epoch: 160, Train Loss: 0.309\n",
            "(0.87765625, 0.8685819070904646, 0.8895148669796558, 0.8789237668161436, 0.8776747501824955)\n",
            "-----------------------------------------------\n",
            "Pred: 3208, Actual: 3195\n",
            "Epoch: 170, Train Loss: 0.310\n",
            "(0.87671875, 0.875, 0.8785602503912363, 0.8767765110104638, 0.8767216228555246)\n",
            "-----------------------------------------------\n",
            "Pred: 3232, Actual: 3195\n",
            "Epoch: 180, Train Loss: 0.307\n",
            "(0.87734375, 0.8728341584158416, 0.8829420970266041, 0.877859032207873, 0.8773524837707123)\n",
            "-----------------------------------------------\n",
            "Pred: 3303, Actual: 3195\n",
            "Epoch: 190, Train Loss: 0.307\n",
            "(0.87875, 0.8661822585528307, 0.8954616588419405, 0.8805786395814097, 0.8787760712306427)\n",
            "-----------------------------------------------\n",
            "Pred: 3235, Actual: 3195\n",
            "Epoch: 200, Train Loss: 0.306\n",
            "(0.878125, 0.8732612055641422, 0.8841940532081377, 0.8786936236391913, 0.8781344681017288)\n",
            "-----------------------------------------------\n",
            "Pred: 6400, Actual: 3212\n",
            "Epoch: 010, Train Loss: 2.907\n",
            "(0.501875, 0.501875, 1.0, 0.6683312526009154, 0.5)\n",
            "-----------------------------------------------\n",
            "Pred: 4325, Actual: 3212\n",
            "Epoch: 020, Train Loss: 0.825\n",
            "(0.79609375, 0.7204624277456647, 0.9701120797011208, 0.8268541860156561, 0.7954387249195692)\n",
            "-----------------------------------------------\n",
            "Pred: 1, Actual: 3212\n",
            "Epoch: 030, Train Loss: 0.762\n",
            "(0.49828125, 1.0, 0.00031133250311332503, 0.0006224712107065049, 0.5001556662515566)\n",
            "-----------------------------------------------\n",
            "Pred: 923, Actual: 3212\n",
            "Epoch: 040, Train Loss: 0.539\n",
            "(0.63359375, 0.9696641386782232, 0.2786425902864259, 0.4328899637243048, 0.6349298271381941)\n",
            "-----------------------------------------------\n",
            "Pred: 3523, Actual: 3212\n",
            "Epoch: 050, Train Loss: 0.487\n",
            "(0.85734375, 0.8262844166903207, 0.9062889165628891, 0.8644394951744617, 0.8571595147431761)\n",
            "-----------------------------------------------\n",
            "Pred: 3729, Actual: 3212\n",
            "Epoch: 060, Train Loss: 0.456\n",
            "(0.84953125, 0.8015553767766157, 0.9305728518057285, 0.8612591845555395, 0.8492262000559381)\n",
            "-----------------------------------------------\n",
            "Pred: 3707, Actual: 3212\n",
            "Epoch: 070, Train Loss: 0.427\n",
            "(0.84921875, 0.8030752630159158, 0.9268368617683687, 0.860528978176037, 0.8489265864676222)\n",
            "-----------------------------------------------\n",
            "Pred: 3623, Actual: 3212\n",
            "Epoch: 080, Train Loss: 0.404\n",
            "(0.85453125, 0.814794369307204, 0.9190535491905355, 0.8637893196781272, 0.8542883806178525)\n",
            "-----------------------------------------------\n",
            "Pred: 3564, Actual: 3212\n",
            "Epoch: 090, Train Loss: 0.386\n",
            "(0.8565625, 0.8218294051627385, 0.911892901618929, 0.8645218417945691, 0.8563542299813591)\n",
            "-----------------------------------------------\n",
            "Pred: 3534, Actual: 3212\n",
            "Epoch: 100, Train Loss: 0.373\n",
            "(0.8584375, 0.8262591963780419, 0.9090909090909091, 0.8656981915209013, 0.8582468347211133)\n",
            "-----------------------------------------------\n",
            "Pred: 3502, Actual: 3212\n",
            "Epoch: 110, Train Loss: 0.362\n",
            "(0.860625, 0.8312392918332382, 0.9062889165628891, 0.8671432826928805, 0.8604531157469402)\n",
            "-----------------------------------------------\n",
            "Pred: 3487, Actual: 3212\n",
            "Epoch: 120, Train Loss: 0.354\n",
            "(0.86203125, 0.8339546888442787, 0.9053549190535491, 0.8681892819823854, 0.8618681747087069)\n",
            "-----------------------------------------------\n",
            "Pred: 3477, Actual: 3212\n",
            "Epoch: 130, Train Loss: 0.348\n",
            "(0.86296875, 0.8357779695139488, 0.9047322540473225, 0.8688892211092838, 0.8628115473498845)\n",
            "-----------------------------------------------\n",
            "Pred: 3472, Actual: 3212\n",
            "Epoch: 140, Train Loss: 0.343\n",
            "(0.864375, 0.8375576036866359, 0.9053549190535491, 0.8701376421304609, 0.8642207468542527)\n",
            "-----------------------------------------------\n",
            "Pred: 3461, Actual: 3212\n",
            "Epoch: 150, Train Loss: 0.339\n",
            "(0.86609375, 0.8402195897139555, 0.9053549190535491, 0.871572006593736, 0.865945966427653)\n",
            "-----------------------------------------------\n",
            "Pred: 3461, Actual: 3212\n",
            "Epoch: 160, Train Loss: 0.336\n",
            "(0.86640625, 0.8405085235481075, 0.9056662515566625, 0.8718717218642289, 0.8662584708222459)\n",
            "-----------------------------------------------\n",
            "Pred: 3454, Actual: 3212\n",
            "Epoch: 170, Train Loss: 0.333\n",
            "(0.8675, 0.8422119281991893, 0.9056662515566625, 0.8727872787278728, 0.8673563378235007)\n",
            "-----------------------------------------------\n",
            "Pred: 3443, Actual: 3212\n",
            "Epoch: 180, Train Loss: 0.331\n",
            "(0.86828125, 0.8440313679930294, 0.9047322540473225, 0.8733283245679939, 0.8681440442131216)\n",
            "-----------------------------------------------\n",
            "Pred: 3439, Actual: 3212\n",
            "Epoch: 190, Train Loss: 0.329\n",
            "(0.86859375, 0.8447223029950567, 0.9044209215442092, 0.8735528491956096, 0.8684588923906742)\n",
            "-----------------------------------------------\n",
            "Pred: 3436, Actual: 3212\n",
            "Epoch: 200, Train Loss: 0.328\n",
            "(0.86875, 0.8451688009313155, 0.9041095890410958, 0.8736462093862816, 0.8686169024251904)\n",
            "-----------------------------------------------\n",
            "Pred: 6400, Actual: 3184\n",
            "Epoch: 010, Train Loss: 0.654\n",
            "(0.4975, 0.4975, 1.0, 0.664440734557596, 0.5)\n",
            "-----------------------------------------------\n",
            "Pred: 4856, Actual: 3184\n",
            "Epoch: 020, Train Loss: 0.582\n",
            "(0.7296875, 0.6497116968698518, 0.990891959798995, 0.7848258706467661, 0.7309870246756169)\n",
            "-----------------------------------------------\n",
            "Pred: 3253, Actual: 3184\n",
            "Epoch: 030, Train Loss: 0.495\n",
            "(0.86046875, 0.8521364893944051, 0.8706030150753769, 0.8612707783128786, 0.8605191692292308)\n",
            "-----------------------------------------------\n",
            "Pred: 3465, Actual: 3184\n",
            "Epoch: 040, Train Loss: 0.421\n",
            "(0.85453125, 0.8251082251082251, 0.897927135678392, 0.8599789442021357, 0.8547471499287482)\n",
            "-----------------------------------------------\n",
            "Pred: 3335, Actual: 3184\n",
            "Epoch: 050, Train Loss: 0.357\n",
            "(0.86140625, 0.8443778110944528, 0.8844221105527639, 0.8639361865316766, 0.8615207567689193)\n",
            "-----------------------------------------------\n",
            "Pred: 3283, Actual: 3184\n",
            "Epoch: 060, Train Loss: 0.337\n",
            "(0.86359375, 0.8519646664636004, 0.8784547738693468, 0.865006958404206, 0.8636676854421361)\n",
            "-----------------------------------------------\n",
            "Pred: 3253, Actual: 3184\n",
            "Epoch: 070, Train Loss: 0.335\n",
            "(0.86453125, 0.8561328004918537, 0.8746859296482412, 0.8653099269846203, 0.8645817707942699)\n",
            "-----------------------------------------------\n",
            "Pred: 3222, Actual: 3184\n",
            "Epoch: 080, Train Loss: 0.332\n",
            "(0.866875, 0.861887026691496, 0.8721733668341709, 0.8669996877926943, 0.8669013600340008)\n",
            "-----------------------------------------------\n",
            "Pred: 3325, Actual: 3184\n",
            "Epoch: 090, Train Loss: 0.331\n",
            "(0.86796875, 0.8517293233082707, 0.8894472361809045, 0.8701797511138424, 0.8680756081402035)\n",
            "-----------------------------------------------\n",
            "Pred: 3307, Actual: 3184\n",
            "Epoch: 100, Train Loss: 0.329\n",
            "(0.86890625, 0.8545509525249471, 0.8875628140703518, 0.870744107225389, 0.8689990687267182)\n",
            "-----------------------------------------------\n",
            "Pred: 3308, Actual: 3184\n",
            "Epoch: 110, Train Loss: 0.327\n",
            "(0.8690625, 0.8545949214026602, 0.8878768844221105, 0.8709180529882933, 0.8691561039025976)\n",
            "-----------------------------------------------\n",
            "Pred: 3309, Actual: 3184\n",
            "Epoch: 120, Train Loss: 0.326\n",
            "(0.87015625, 0.8555454820187368, 0.8891331658291457, 0.8720160172493455, 0.8702506625165629)\n",
            "-----------------------------------------------\n",
            "Pred: 3327, Actual: 3184\n",
            "Epoch: 130, Train Loss: 0.324\n",
            "(0.86953125, 0.8530207394048692, 0.8913316582914573, 0.8717554907080325, 0.8696397097427435)\n",
            "-----------------------------------------------\n",
            "Pred: 3446, Actual: 3184\n",
            "Epoch: 140, Train Loss: 0.327\n",
            "(0.8684375, 0.8398142774230992, 0.9089195979899497, 0.873001508295626, 0.8686389034725868)\n",
            "-----------------------------------------------\n",
            "Pred: 3349, Actual: 3184\n",
            "Epoch: 150, Train Loss: 0.323\n",
            "(0.86984375, 0.851000298596596, 0.8951005025125628, 0.8724934945660492, 0.8699694054851371)\n",
            "-----------------------------------------------\n",
            "Pred: 3293, Actual: 3184\n",
            "Epoch: 160, Train Loss: 0.321\n",
            "(0.87234375, 0.8593987245672638, 0.8888190954773869, 0.8738613555658484, 0.8724257168929223)\n",
            "-----------------------------------------------\n",
            "Pred: 3305, Actual: 3184\n",
            "Epoch: 170, Train Loss: 0.320\n",
            "(0.87203125, 0.8577912254160364, 0.8903894472361809, 0.8737864077669903, 0.8721225843146079)\n",
            "-----------------------------------------------\n",
            "Pred: 3352, Actual: 3184\n",
            "Epoch: 180, Train Loss: 0.319\n",
            "(0.870625, 0.8514319809069213, 0.8963567839195979, 0.8733170134638923, 0.8707530188254707)\n",
            "-----------------------------------------------\n",
            "Pred: 3310, Actual: 3184\n",
            "Epoch: 190, Train Loss: 0.319\n",
            "(0.8728125, 0.8580060422960725, 0.8919597989949749, 0.8746535263319987, 0.8729077601940051)\n",
            "-----------------------------------------------\n",
            "Pred: 3436, Actual: 3184\n",
            "Epoch: 200, Train Loss: 0.318\n",
            "(0.8678125, 0.840221187427241, 0.9067211055276382, 0.8722054380664651, 0.8680060751518788)\n",
            "-----------------------------------------------\n"
          ]
        },
        {
          "name": "stderr",
          "output_type": "stream",
          "text": [
            "i:\\Anaconda\\envs\\covid_es_gnn\\lib\\site-packages\\sklearn\\metrics\\_classification.py:1469: UndefinedMetricWarning: Precision is ill-defined and being set to 0.0 due to no predicted samples. Use `zero_division` parameter to control this behavior.\n",
            "  _warn_prf(average, modifier, msg_start, len(result))\n"
          ]
        },
        {
          "name": "stdout",
          "output_type": "stream",
          "text": [
            "Pred: 0, Actual: 3173\n",
            "Epoch: 010, Train Loss: 0.713\n",
            "(0.50421875, 0.0, 0.0, 0.0, 0.5)\n",
            "-----------------------------------------------\n",
            "Pred: 429, Actual: 3173\n",
            "Epoch: 020, Train Loss: 0.605\n",
            "(0.5684375, 0.9790209790209791, 0.13236684525685471, 0.23320377568017772, 0.5647889385875224)\n",
            "-----------------------------------------------\n",
            "Pred: 3366, Actual: 3173\n",
            "Epoch: 030, Train Loss: 0.496\n",
            "(0.84703125, 0.8259061200237671, 0.8761424519382288, 0.8502829178773512, 0.8472748206390865)\n",
            "-----------------------------------------------\n",
            "Pred: 3727, Actual: 3173\n",
            "Epoch: 040, Train Loss: 0.431\n",
            "(0.8378125, 0.7864233968339147, 0.9237314843996218, 0.8495652173913043, 0.8385313759153361)\n",
            "-----------------------------------------------\n",
            "Pred: 3613, Actual: 3173\n",
            "Epoch: 050, Train Loss: 0.401\n",
            "(0.8465625, 0.8032106282867423, 0.9145918688937914, 0.8552903035661656, 0.8471316952154113)\n",
            "-----------------------------------------------\n",
            "Pred: 3382, Actual: 3173\n",
            "Epoch: 060, Train Loss: 0.375\n",
            "(0.85546875, 0.832347723240686, 0.8871730223763, 0.8588863463005338, 0.8557340166111436)\n",
            "-----------------------------------------------\n",
            "Pred: 3415, Actual: 3173\n",
            "Epoch: 070, Train Loss: 0.355\n",
            "(0.8553125, 0.8289897510980966, 0.8922155688622755, 0.8594414086217365, 0.8556212644435331)\n",
            "-----------------------------------------------\n",
            "Pred: 3338, Actual: 3173\n",
            "Epoch: 080, Train Loss: 0.341\n",
            "(0.85953125, 0.8406231276213302, 0.8843365899779388, 0.8619259714329597, 0.8597387939043707)\n",
            "-----------------------------------------------\n",
            "Pred: 3310, Actual: 3173\n",
            "Epoch: 090, Train Loss: 0.335\n",
            "(0.86140625, 0.8453172205438066, 0.8818153167349512, 0.8631806262532777, 0.8615770107071099)\n",
            "-----------------------------------------------\n",
            "Pred: 3343, Actual: 3173\n",
            "Epoch: 100, Train Loss: 0.333\n",
            "(0.8628125, 0.8432545617708644, 0.8884336589977939, 0.8652547575199508, 0.8630268697839915)\n",
            "-----------------------------------------------\n",
            "Pred: 3334, Actual: 3173\n",
            "Epoch: 110, Train Loss: 0.331\n",
            "(0.86453125, 0.8458308338332333, 0.8887488181531673, 0.8667588750576303, 0.8647338760737947)\n",
            "-----------------------------------------------\n",
            "Pred: 3344, Actual: 3173\n",
            "Epoch: 120, Train Loss: 0.330\n",
            "(0.86546875, 0.8456937799043063, 0.8912700913961551, 0.8678839957035447, 0.8656846273528653)\n",
            "-----------------------------------------------\n",
            "Pred: 3371, Actual: 3173\n",
            "Epoch: 130, Train Loss: 0.328\n",
            "(0.86625, 0.8436665677840404, 0.8963126378821304, 0.8691931540342299, 0.8665015312125247)\n",
            "-----------------------------------------------\n",
            "Pred: 3391, Actual: 3173\n",
            "Epoch: 140, Train Loss: 0.327\n",
            "(0.866875, 0.842229430846358, 0.900094547746612, 0.870201096892139, 0.8671529447750723)\n",
            "-----------------------------------------------\n",
            "Pred: 3346, Actual: 3173\n",
            "Epoch: 150, Train Loss: 0.325\n",
            "(0.86796875, 0.8478780633592349, 0.8941065237945163, 0.8703788924681699, 0.8681874422505274)\n",
            "-----------------------------------------------\n",
            "Pred: 3378, Actual: 3173\n",
            "Epoch: 160, Train Loss: 0.324\n",
            "(0.86796875, 0.844582593250444, 0.8991490702804916, 0.8710120592275988, 0.8682296327541287)\n",
            "-----------------------------------------------\n",
            "Pred: 3389, Actual: 3173\n",
            "Epoch: 170, Train Loss: 0.322\n",
            "(0.866875, 0.8424313956919445, 0.8997793885912386, 0.8701615361170375, 0.8671503078685974)\n",
            "-----------------------------------------------\n",
            "Pred: 3421, Actual: 3173\n",
            "Epoch: 180, Train Loss: 0.321\n",
            "(0.8653125, 0.8377667348728441, 0.9032461393003467, 0.8692750985744616, 0.8656298871277066)\n",
            "-----------------------------------------------\n",
            "Pred: 3384, Actual: 3173\n",
            "Epoch: 190, Train Loss: 0.320\n",
            "(0.86703125, 0.8430851063829787, 0.8991490702804916, 0.8702150373646484, 0.8672999767268588)\n",
            "-----------------------------------------------\n",
            "Pred: 3462, Actual: 3173\n",
            "Epoch: 200, Train Loss: 0.320\n",
            "(0.86390625, 0.8324667822068169, 0.908288685786322, 0.8687264506405425, 0.8642775935904032)\n",
            "-----------------------------------------------\n"
          ]
        }
      ],
      "source": [
        "# Definindo dispositivo\n",
        "device = torch.device('cuda' if torch.cuda.is_available() else 'cpu')\n",
        "\n",
        "def monte_carlo_train(device, data, n_runs=10):\n",
        "    # Extraindo quantidade de características e classes\n",
        "    num_node_features = data.x.size(1)\n",
        "    num_classes =  len(np.unique(data.y))\n",
        "    \n",
        "    for run in range(n_runs):\n",
        "        # Instancia o modelo GCN\n",
        "        gcn = GCN(num_node_features, num_classes).to(device)\n",
        "\n",
        "        # Roda o otimizador Adam\n",
        "        optimizer_gcn = torch.optim.Adam(gcn.parameters(), lr=0.01, weight_decay=5e-4)\n",
        "\n",
        "        # Função custo\n",
        "        criterion = nn.CrossEntropyLoss()\n",
        "\n",
        "        # Treina classificador\n",
        "        train_epochs(gcn, data, optimizer_gcn, criterion, run, n_epochs=200, n_runs=10)\n",
        "   \n",
        "\n",
        "monte_carlo_train(device, data)\n",
        "\n"
      ]
    }
  ],
  "metadata": {
    "colab": {
      "collapsed_sections": [
        "2N7dQsvSiaGU",
        "t_xBt_dKYlp4",
        "pEa71c636bhX"
      ],
      "provenance": [],
      "toc_visible": true
    },
    "kernelspec": {
      "display_name": "Python 3.10.13 64-bit ('covid_es_gnn')",
      "language": "python",
      "name": "python3"
    },
    "language_info": {
      "codemirror_mode": {
        "name": "ipython",
        "version": 3
      },
      "file_extension": ".py",
      "mimetype": "text/x-python",
      "name": "python",
      "nbconvert_exporter": "python",
      "pygments_lexer": "ipython3",
      "version": "3.10.13"
    },
    "vscode": {
      "interpreter": {
        "hash": "d18b4791e17a610633c3d6efe63d64f7bc6305f70aa7d49f5484cee67bbe0521"
      }
    }
  },
  "nbformat": 4,
  "nbformat_minor": 0
}
