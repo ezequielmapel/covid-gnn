{
  "cells": [
    {
      "cell_type": "markdown",
      "metadata": {
        "id": "DQKflKlwU-Da"
      },
      "source": [
        "#Dependências"
      ]
    },
    {
      "cell_type": "code",
      "execution_count": 75,
      "metadata": {
        "id": "G1QX8Qm1v2gG"
      },
      "outputs": [],
      "source": [
        "#!pip -q install torch torchvision torchaudio\n",
        "#!pip -q install torch_geometric\n",
        "#!pip -q install pyg_lib torch_scatter torch_sparse torch_cluster torch_spline_conv -f https://data.pyg.org/whl/torch-2.0.1+cpu.html"
      ]
    },
    {
      "cell_type": "code",
      "execution_count": 76,
      "metadata": {
        "id": "FgmvE0mpVD3B"
      },
      "outputs": [],
      "source": [
        "import numpy as np\n",
        "import pandas as pd\n",
        "from datetime import datetime\n",
        "\n",
        "# Tratar dados\n",
        "from sklearn.preprocessing import LabelEncoder\n",
        "from sklearn.preprocessing import OneHotEncoder\n",
        "from sklearn.metrics.pairwise import cosine_similarity\n",
        "from sklearn.metrics import accuracy_score,f1_score,roc_auc_score, precision_score, recall_score, confusion_matrix\n",
        "\n",
        "\n",
        "import re\n",
        "from imblearn.under_sampling import RandomUnderSampler\n",
        "\n",
        "# Importando CSV\n",
        "#from google.colab import drive\n",
        "\n",
        "# PyG\n",
        "import torch\n",
        "from torch_geometric.data import Data\n",
        "from torch_geometric.utils import remove_isolated_nodes\n",
        "from torch_geometric.utils import contains_isolated_nodes\n",
        "from torch_geometric.transforms import LargestConnectedComponents\n",
        "import torch_geometric.transforms as T\n",
        "import torch.nn.functional as F\n",
        "from torch import nn\n"
      ]
    },
    {
      "cell_type": "markdown",
      "metadata": {
        "id": "6Y8rcZmOVmsm"
      },
      "source": [
        "### Lendo CSV do Google Drive"
      ]
    },
    {
      "cell_type": "code",
      "execution_count": 77,
      "metadata": {
        "colab": {
          "base_uri": "https://localhost:8080/"
        },
        "id": "5OXOAEvgVl9t",
        "outputId": "7c8cc1be-90bd-4b35-bc00-e4b3498e35af"
      },
      "outputs": [
        {
          "name": "stderr",
          "output_type": "stream",
          "text": [
            "C:\\Users\\ezequ\\AppData\\Local\\Temp\\ipykernel_10824\\3692900595.py:4: DtypeWarning: Columns (5) have mixed types. Specify dtype option on import or set low_memory=False.\n",
            "  covid_df = pd.read_csv(filename, sep=\";\", index_col=False, encoding=\"iso-8859-1\")\n"
          ]
        }
      ],
      "source": [
        "filename = \"./data/covid_es_dados.es.gov.br.csv\"\n",
        "#drive.mount('/content/drive')\n",
        "#filename = '/content/drive/MyDrive/BSI/2023-2/PD2/Datasets/covid_es_dados.es.gov.br.csv'\n",
        "covid_df = pd.read_csv(filename, sep=\";\", index_col=False, encoding=\"iso-8859-1\")\n",
        "#covid_df = pd.read_csv(filename, sep=\";\", index_col=False, encoding=\"iso-8859-1\")"
      ]
    },
    {
      "cell_type": "code",
      "execution_count": 78,
      "metadata": {
        "colab": {
          "base_uri": "https://localhost:8080/"
        },
        "id": "YXbrGCOlb1Lo",
        "outputId": "88269849-51b3-42e6-a12a-94eca34beb99"
      },
      "outputs": [
        {
          "data": {
            "text/plain": [
              "(4897896, 45)"
            ]
          },
          "execution_count": 78,
          "metadata": {},
          "output_type": "execute_result"
        }
      ],
      "source": [
        "covid_df.shape"
      ]
    },
    {
      "cell_type": "code",
      "execution_count": 79,
      "metadata": {
        "colab": {
          "base_uri": "https://localhost:8080/",
          "height": 325
        },
        "id": "qCqczYx-wduO",
        "outputId": "f67f3027-98af-4956-bdab-0b9abb7742a6"
      },
      "outputs": [
        {
          "data": {
            "text/html": [
              "<div>\n",
              "<style scoped>\n",
              "    .dataframe tbody tr th:only-of-type {\n",
              "        vertical-align: middle;\n",
              "    }\n",
              "\n",
              "    .dataframe tbody tr th {\n",
              "        vertical-align: top;\n",
              "    }\n",
              "\n",
              "    .dataframe thead th {\n",
              "        text-align: right;\n",
              "    }\n",
              "</style>\n",
              "<table border=\"1\" class=\"dataframe\">\n",
              "  <thead>\n",
              "    <tr style=\"text-align: right;\">\n",
              "      <th></th>\n",
              "      <th>DataNotificacao</th>\n",
              "      <th>DataCadastro</th>\n",
              "      <th>DataDiagnostico</th>\n",
              "      <th>DataColeta_RT_PCR</th>\n",
              "      <th>DataColetaTesteRapido</th>\n",
              "      <th>DataColetaSorologia</th>\n",
              "      <th>DataColetaSorologiaIGG</th>\n",
              "      <th>DataEncerramento</th>\n",
              "      <th>DataObito</th>\n",
              "      <th>Classificacao</th>\n",
              "      <th>...</th>\n",
              "      <th>ViagemBrasil</th>\n",
              "      <th>ViagemInternacional</th>\n",
              "      <th>ProfissionalSaude</th>\n",
              "      <th>PossuiDeficiencia</th>\n",
              "      <th>MoradorDeRua</th>\n",
              "      <th>ResultadoRT_PCR</th>\n",
              "      <th>ResultadoTesteRapido</th>\n",
              "      <th>ResultadoSorologia</th>\n",
              "      <th>ResultadoSorologia_IGG</th>\n",
              "      <th>TipoTesteRapido</th>\n",
              "    </tr>\n",
              "  </thead>\n",
              "  <tbody>\n",
              "    <tr>\n",
              "      <th>0</th>\n",
              "      <td>2023-09-19</td>\n",
              "      <td>2023-09-19</td>\n",
              "      <td>2023-09-14</td>\n",
              "      <td>NaN</td>\n",
              "      <td>NaN</td>\n",
              "      <td>NaN</td>\n",
              "      <td>NaN</td>\n",
              "      <td>NaN</td>\n",
              "      <td>NaN</td>\n",
              "      <td>Suspeito</td>\n",
              "      <td>...</td>\n",
              "      <td>Não</td>\n",
              "      <td>Não</td>\n",
              "      <td>Não</td>\n",
              "      <td>Não</td>\n",
              "      <td>Não</td>\n",
              "      <td>Não Informado</td>\n",
              "      <td>Não Informado</td>\n",
              "      <td>Não Informado</td>\n",
              "      <td>Não Informado</td>\n",
              "      <td>Não Informado</td>\n",
              "    </tr>\n",
              "    <tr>\n",
              "      <th>1</th>\n",
              "      <td>2023-09-19</td>\n",
              "      <td>2023-09-19</td>\n",
              "      <td>2023-09-18</td>\n",
              "      <td>NaN</td>\n",
              "      <td>2023-09-19</td>\n",
              "      <td>NaN</td>\n",
              "      <td>NaN</td>\n",
              "      <td>NaN</td>\n",
              "      <td>NaN</td>\n",
              "      <td>Síndrome Gripal não Especificada</td>\n",
              "      <td>...</td>\n",
              "      <td>Não</td>\n",
              "      <td>Não</td>\n",
              "      <td>Não</td>\n",
              "      <td>Não</td>\n",
              "      <td>Não</td>\n",
              "      <td>Não Informado</td>\n",
              "      <td>Negativo</td>\n",
              "      <td>Não Informado</td>\n",
              "      <td>Não Informado</td>\n",
              "      <td>Teste rápido Antígeno</td>\n",
              "    </tr>\n",
              "    <tr>\n",
              "      <th>2</th>\n",
              "      <td>2023-09-19</td>\n",
              "      <td>2023-09-19</td>\n",
              "      <td>2023-09-17</td>\n",
              "      <td>NaN</td>\n",
              "      <td>2023-09-19</td>\n",
              "      <td>NaN</td>\n",
              "      <td>NaN</td>\n",
              "      <td>NaN</td>\n",
              "      <td>NaN</td>\n",
              "      <td>Suspeito</td>\n",
              "      <td>...</td>\n",
              "      <td>Não</td>\n",
              "      <td>Não</td>\n",
              "      <td>Não</td>\n",
              "      <td>Não</td>\n",
              "      <td>Não</td>\n",
              "      <td>Não Informado</td>\n",
              "      <td>Negativo</td>\n",
              "      <td>Não Informado</td>\n",
              "      <td>Não Informado</td>\n",
              "      <td>Teste rápido Antígeno</td>\n",
              "    </tr>\n",
              "    <tr>\n",
              "      <th>3</th>\n",
              "      <td>2023-09-19</td>\n",
              "      <td>2023-09-19</td>\n",
              "      <td>2023-09-16</td>\n",
              "      <td>NaN</td>\n",
              "      <td>NaN</td>\n",
              "      <td>NaN</td>\n",
              "      <td>NaN</td>\n",
              "      <td>NaN</td>\n",
              "      <td>NaN</td>\n",
              "      <td>Suspeito</td>\n",
              "      <td>...</td>\n",
              "      <td>Não</td>\n",
              "      <td>Não</td>\n",
              "      <td>Não</td>\n",
              "      <td>Não</td>\n",
              "      <td>Não</td>\n",
              "      <td>Não Informado</td>\n",
              "      <td>Não Informado</td>\n",
              "      <td>Não Informado</td>\n",
              "      <td>Não Informado</td>\n",
              "      <td>Não Informado</td>\n",
              "    </tr>\n",
              "    <tr>\n",
              "      <th>4</th>\n",
              "      <td>2023-09-19</td>\n",
              "      <td>2023-09-19</td>\n",
              "      <td>2023-09-17</td>\n",
              "      <td>NaN</td>\n",
              "      <td>2023-09-19</td>\n",
              "      <td>NaN</td>\n",
              "      <td>NaN</td>\n",
              "      <td>NaN</td>\n",
              "      <td>NaN</td>\n",
              "      <td>Suspeito</td>\n",
              "      <td>...</td>\n",
              "      <td>Não</td>\n",
              "      <td>Não</td>\n",
              "      <td>Não</td>\n",
              "      <td>Não</td>\n",
              "      <td>Não</td>\n",
              "      <td>Não Informado</td>\n",
              "      <td>Negativo</td>\n",
              "      <td>Não Informado</td>\n",
              "      <td>Não Informado</td>\n",
              "      <td>Teste rápido Antígeno</td>\n",
              "    </tr>\n",
              "  </tbody>\n",
              "</table>\n",
              "<p>5 rows × 45 columns</p>\n",
              "</div>"
            ],
            "text/plain": [
              "  DataNotificacao DataCadastro DataDiagnostico DataColeta_RT_PCR  \\\n",
              "0      2023-09-19   2023-09-19      2023-09-14               NaN   \n",
              "1      2023-09-19   2023-09-19      2023-09-18               NaN   \n",
              "2      2023-09-19   2023-09-19      2023-09-17               NaN   \n",
              "3      2023-09-19   2023-09-19      2023-09-16               NaN   \n",
              "4      2023-09-19   2023-09-19      2023-09-17               NaN   \n",
              "\n",
              "  DataColetaTesteRapido DataColetaSorologia DataColetaSorologiaIGG  \\\n",
              "0                   NaN                 NaN                    NaN   \n",
              "1            2023-09-19                 NaN                    NaN   \n",
              "2            2023-09-19                 NaN                    NaN   \n",
              "3                   NaN                 NaN                    NaN   \n",
              "4            2023-09-19                 NaN                    NaN   \n",
              "\n",
              "  DataEncerramento DataObito                     Classificacao  ...  \\\n",
              "0              NaN       NaN                          Suspeito  ...   \n",
              "1              NaN       NaN  Síndrome Gripal não Especificada  ...   \n",
              "2              NaN       NaN                          Suspeito  ...   \n",
              "3              NaN       NaN                          Suspeito  ...   \n",
              "4              NaN       NaN                          Suspeito  ...   \n",
              "\n",
              "  ViagemBrasil ViagemInternacional ProfissionalSaude PossuiDeficiencia  \\\n",
              "0          Não                 Não               Não               Não   \n",
              "1          Não                 Não               Não               Não   \n",
              "2          Não                 Não               Não               Não   \n",
              "3          Não                 Não               Não               Não   \n",
              "4          Não                 Não               Não               Não   \n",
              "\n",
              "  MoradorDeRua ResultadoRT_PCR ResultadoTesteRapido ResultadoSorologia  \\\n",
              "0          Não   Não Informado        Não Informado      Não Informado   \n",
              "1          Não   Não Informado             Negativo      Não Informado   \n",
              "2          Não   Não Informado             Negativo      Não Informado   \n",
              "3          Não   Não Informado        Não Informado      Não Informado   \n",
              "4          Não   Não Informado             Negativo      Não Informado   \n",
              "\n",
              "  ResultadoSorologia_IGG        TipoTesteRapido  \n",
              "0          Não Informado          Não Informado  \n",
              "1          Não Informado  Teste rápido Antígeno  \n",
              "2          Não Informado  Teste rápido Antígeno  \n",
              "3          Não Informado          Não Informado  \n",
              "4          Não Informado  Teste rápido Antígeno  \n",
              "\n",
              "[5 rows x 45 columns]"
            ]
          },
          "execution_count": 79,
          "metadata": {},
          "output_type": "execute_result"
        }
      ],
      "source": [
        "covid_df.head()"
      ]
    },
    {
      "cell_type": "code",
      "execution_count": 80,
      "metadata": {
        "colab": {
          "base_uri": "https://localhost:8080/",
          "height": 242
        },
        "id": "XwfEwtrYbzl-",
        "outputId": "303a06ef-0969-498a-8218-70d6bd46c413"
      },
      "outputs": [
        {
          "data": {
            "text/html": [
              "<div>\n",
              "<style scoped>\n",
              "    .dataframe tbody tr th:only-of-type {\n",
              "        vertical-align: middle;\n",
              "    }\n",
              "\n",
              "    .dataframe tbody tr th {\n",
              "        vertical-align: top;\n",
              "    }\n",
              "\n",
              "    .dataframe thead th {\n",
              "        text-align: right;\n",
              "    }\n",
              "</style>\n",
              "<table border=\"1\" class=\"dataframe\">\n",
              "  <thead>\n",
              "    <tr style=\"text-align: right;\">\n",
              "      <th></th>\n",
              "      <th>DataNotificacao</th>\n",
              "      <th>DataCadastro</th>\n",
              "      <th>DataDiagnostico</th>\n",
              "      <th>DataColeta_RT_PCR</th>\n",
              "      <th>DataColetaTesteRapido</th>\n",
              "      <th>DataColetaSorologia</th>\n",
              "      <th>DataColetaSorologiaIGG</th>\n",
              "      <th>DataEncerramento</th>\n",
              "      <th>DataObito</th>\n",
              "      <th>Classificacao</th>\n",
              "      <th>...</th>\n",
              "      <th>ViagemBrasil</th>\n",
              "      <th>ViagemInternacional</th>\n",
              "      <th>ProfissionalSaude</th>\n",
              "      <th>PossuiDeficiencia</th>\n",
              "      <th>MoradorDeRua</th>\n",
              "      <th>ResultadoRT_PCR</th>\n",
              "      <th>ResultadoTesteRapido</th>\n",
              "      <th>ResultadoSorologia</th>\n",
              "      <th>ResultadoSorologia_IGG</th>\n",
              "      <th>TipoTesteRapido</th>\n",
              "    </tr>\n",
              "  </thead>\n",
              "  <tbody>\n",
              "    <tr>\n",
              "      <th>count</th>\n",
              "      <td>4897896</td>\n",
              "      <td>4897896</td>\n",
              "      <td>4897896</td>\n",
              "      <td>1520711</td>\n",
              "      <td>3070871</td>\n",
              "      <td>99794</td>\n",
              "      <td>146531</td>\n",
              "      <td>4673619</td>\n",
              "      <td>21876</td>\n",
              "      <td>4897896</td>\n",
              "      <td>...</td>\n",
              "      <td>4897896</td>\n",
              "      <td>4897896</td>\n",
              "      <td>4897896</td>\n",
              "      <td>4897896</td>\n",
              "      <td>4897896</td>\n",
              "      <td>4897896</td>\n",
              "      <td>4897896</td>\n",
              "      <td>4897896</td>\n",
              "      <td>4897896</td>\n",
              "      <td>4897896</td>\n",
              "    </tr>\n",
              "    <tr>\n",
              "      <th>unique</th>\n",
              "      <td>1302</td>\n",
              "      <td>1272</td>\n",
              "      <td>1390</td>\n",
              "      <td>1433</td>\n",
              "      <td>1515</td>\n",
              "      <td>976</td>\n",
              "      <td>977</td>\n",
              "      <td>1377</td>\n",
              "      <td>1231</td>\n",
              "      <td>4</td>\n",
              "      <td>...</td>\n",
              "      <td>4</td>\n",
              "      <td>4</td>\n",
              "      <td>4</td>\n",
              "      <td>3</td>\n",
              "      <td>3</td>\n",
              "      <td>4</td>\n",
              "      <td>4</td>\n",
              "      <td>4</td>\n",
              "      <td>4</td>\n",
              "      <td>4</td>\n",
              "    </tr>\n",
              "    <tr>\n",
              "      <th>top</th>\n",
              "      <td>2022-01-27</td>\n",
              "      <td>2022-01-27</td>\n",
              "      <td>2022-01-24</td>\n",
              "      <td>2021-03-22</td>\n",
              "      <td>2022-01-27</td>\n",
              "      <td>2020-07-20</td>\n",
              "      <td>2020-07-28</td>\n",
              "      <td>2022-03-31</td>\n",
              "      <td>2021-04-12</td>\n",
              "      <td>Descartados</td>\n",
              "      <td>...</td>\n",
              "      <td>Não</td>\n",
              "      <td>Não</td>\n",
              "      <td>Não</td>\n",
              "      <td>Não</td>\n",
              "      <td>Não</td>\n",
              "      <td>Não Informado</td>\n",
              "      <td>Negativo</td>\n",
              "      <td>Não Informado</td>\n",
              "      <td>Não Informado</td>\n",
              "      <td>Teste rápido Antígeno</td>\n",
              "    </tr>\n",
              "    <tr>\n",
              "      <th>freq</th>\n",
              "      <td>42158</td>\n",
              "      <td>37772</td>\n",
              "      <td>40789</td>\n",
              "      <td>5269</td>\n",
              "      <td>39544</td>\n",
              "      <td>960</td>\n",
              "      <td>2715</td>\n",
              "      <td>164075</td>\n",
              "      <td>97</td>\n",
              "      <td>3053220</td>\n",
              "      <td>...</td>\n",
              "      <td>3145459</td>\n",
              "      <td>3098218</td>\n",
              "      <td>4313582</td>\n",
              "      <td>4827398</td>\n",
              "      <td>4848134</td>\n",
              "      <td>3468646</td>\n",
              "      <td>2213330</td>\n",
              "      <td>4798625</td>\n",
              "      <td>4751578</td>\n",
              "      <td>2738095</td>\n",
              "    </tr>\n",
              "  </tbody>\n",
              "</table>\n",
              "<p>4 rows × 45 columns</p>\n",
              "</div>"
            ],
            "text/plain": [
              "       DataNotificacao DataCadastro DataDiagnostico DataColeta_RT_PCR  \\\n",
              "count          4897896      4897896         4897896           1520711   \n",
              "unique            1302         1272            1390              1433   \n",
              "top         2022-01-27   2022-01-27      2022-01-24        2021-03-22   \n",
              "freq             42158        37772           40789              5269   \n",
              "\n",
              "       DataColetaTesteRapido DataColetaSorologia DataColetaSorologiaIGG  \\\n",
              "count                3070871               99794                 146531   \n",
              "unique                  1515                 976                    977   \n",
              "top               2022-01-27          2020-07-20             2020-07-28   \n",
              "freq                   39544                 960                   2715   \n",
              "\n",
              "       DataEncerramento   DataObito Classificacao  ... ViagemBrasil  \\\n",
              "count           4673619       21876       4897896  ...      4897896   \n",
              "unique             1377        1231             4  ...            4   \n",
              "top          2022-03-31  2021-04-12   Descartados  ...          Não   \n",
              "freq             164075          97       3053220  ...      3145459   \n",
              "\n",
              "       ViagemInternacional ProfissionalSaude PossuiDeficiencia MoradorDeRua  \\\n",
              "count              4897896           4897896           4897896      4897896   \n",
              "unique                   4                 4                 3            3   \n",
              "top                    Não               Não               Não          Não   \n",
              "freq               3098218           4313582           4827398      4848134   \n",
              "\n",
              "       ResultadoRT_PCR ResultadoTesteRapido ResultadoSorologia  \\\n",
              "count          4897896              4897896            4897896   \n",
              "unique               4                    4                  4   \n",
              "top      Não Informado             Negativo      Não Informado   \n",
              "freq           3468646              2213330            4798625   \n",
              "\n",
              "       ResultadoSorologia_IGG        TipoTesteRapido  \n",
              "count                 4897896                4897896  \n",
              "unique                      4                      4  \n",
              "top             Não Informado  Teste rápido Antígeno  \n",
              "freq                  4751578                2738095  \n",
              "\n",
              "[4 rows x 45 columns]"
            ]
          },
          "execution_count": 80,
          "metadata": {},
          "output_type": "execute_result"
        }
      ],
      "source": [
        "covid_df.describe()"
      ]
    },
    {
      "cell_type": "code",
      "execution_count": 81,
      "metadata": {
        "colab": {
          "base_uri": "https://localhost:8080/"
        },
        "id": "IasZkO-CwgZs",
        "outputId": "91daf048-98ab-4c54-c4eb-b8703f51b02e"
      },
      "outputs": [
        {
          "name": "stdout",
          "output_type": "stream",
          "text": [
            "<class 'pandas.core.frame.DataFrame'>\n",
            "RangeIndex: 4897896 entries, 0 to 4897895\n",
            "Data columns (total 45 columns):\n",
            " #   Column                   Dtype \n",
            "---  ------                   ----- \n",
            " 0   DataNotificacao          object\n",
            " 1   DataCadastro             object\n",
            " 2   DataDiagnostico          object\n",
            " 3   DataColeta_RT_PCR        object\n",
            " 4   DataColetaTesteRapido    object\n",
            " 5   DataColetaSorologia      object\n",
            " 6   DataColetaSorologiaIGG   object\n",
            " 7   DataEncerramento         object\n",
            " 8   DataObito                object\n",
            " 9   Classificacao            object\n",
            " 10  Evolucao                 object\n",
            " 11  CriterioConfirmacao      object\n",
            " 12  StatusNotificacao        object\n",
            " 13  Municipio                object\n",
            " 14  Bairro                   object\n",
            " 15  FaixaEtaria              object\n",
            " 16  IdadeNaDataNotificacao   object\n",
            " 17  Sexo                     object\n",
            " 18  RacaCor                  object\n",
            " 19  Escolaridade             object\n",
            " 20  Gestante                 object\n",
            " 21  Febre                    object\n",
            " 22  DificuldadeRespiratoria  object\n",
            " 23  Tosse                    object\n",
            " 24  Coriza                   object\n",
            " 25  DorGarganta              object\n",
            " 26  Diarreia                 object\n",
            " 27  Cefaleia                 object\n",
            " 28  ComorbidadePulmao        object\n",
            " 29  ComorbidadeCardio        object\n",
            " 30  ComorbidadeRenal         object\n",
            " 31  ComorbidadeDiabetes      object\n",
            " 32  ComorbidadeTabagismo     object\n",
            " 33  ComorbidadeObesidade     object\n",
            " 34  FicouInternado           object\n",
            " 35  ViagemBrasil             object\n",
            " 36  ViagemInternacional      object\n",
            " 37  ProfissionalSaude        object\n",
            " 38  PossuiDeficiencia        object\n",
            " 39  MoradorDeRua             object\n",
            " 40  ResultadoRT_PCR          object\n",
            " 41  ResultadoTesteRapido     object\n",
            " 42  ResultadoSorologia       object\n",
            " 43  ResultadoSorologia_IGG   object\n",
            " 44  TipoTesteRapido          object\n",
            "dtypes: object(45)\n",
            "memory usage: 1.6+ GB\n"
          ]
        }
      ],
      "source": [
        "covid_df.info()"
      ]
    },
    {
      "cell_type": "markdown",
      "metadata": {
        "id": "-38SUv5pV67F"
      },
      "source": [
        "# Pré Tratamento"
      ]
    },
    {
      "cell_type": "markdown",
      "metadata": {},
      "source": [
        "### Casos confirmados"
      ]
    },
    {
      "cell_type": "markdown",
      "metadata": {},
      "source": [
        "#### Obtendo Classificao diretamente"
      ]
    },
    {
      "cell_type": "code",
      "execution_count": 82,
      "metadata": {},
      "outputs": [
        {
          "data": {
            "text/plain": [
              "(1340445, 45)"
            ]
          },
          "execution_count": 82,
          "metadata": {},
          "output_type": "execute_result"
        }
      ],
      "source": [
        "# Apenas casos confirmados\n",
        "covid_df = covid_df[covid_df.Classificacao == \"Confirmados\"]\n",
        "covid_df.shape"
      ]
    },
    {
      "cell_type": "markdown",
      "metadata": {
        "id": "Ysi62eEJWKHa"
      },
      "source": [
        "### Tratando DataObito"
      ]
    },
    {
      "cell_type": "code",
      "execution_count": 83,
      "metadata": {
        "colab": {
          "base_uri": "https://localhost:8080/"
        },
        "id": "2dKoX0lNWoM3",
        "outputId": "087a5361-2bc7-4ce8-e5e7-a4ce6c4db881"
      },
      "outputs": [
        {
          "data": {
            "text/plain": [
              "1324855"
            ]
          },
          "execution_count": 83,
          "metadata": {},
          "output_type": "execute_result"
        }
      ],
      "source": [
        "# A Data vazia significa que o paciente sobreviveu\n",
        "covid_df['DataObito'].isna().sum()"
      ]
    },
    {
      "cell_type": "code",
      "execution_count": 84,
      "metadata": {},
      "outputs": [
        {
          "data": {
            "text/plain": [
              "DataObito\n",
              "NaN           1324855\n",
              "2021-04-12         92\n",
              "2021-04-19         90\n",
              "2021-04-09         85\n",
              "2021-04-08         82\n",
              "               ...   \n",
              "2022-10-11          1\n",
              "2022-10-28          1\n",
              "2022-11-18          1\n",
              "2022-10-18          1\n",
              "2020-04-04          1\n",
              "Name: count, Length: 1021, dtype: int64"
            ]
          },
          "execution_count": 84,
          "metadata": {},
          "output_type": "execute_result"
        }
      ],
      "source": [
        "covid_df['DataObito'].value_counts(dropna=False)"
      ]
    },
    {
      "cell_type": "code",
      "execution_count": 85,
      "metadata": {
        "colab": {
          "base_uri": "https://localhost:8080/"
        },
        "id": "9ee83IqFWlWJ",
        "outputId": "db8e56ce-29e4-47df-eb76-0a9ac38154a7"
      },
      "outputs": [
        {
          "data": {
            "text/plain": [
              "PASSED\n",
              "0    1324855\n",
              "1      15590\n",
              "Name: count, dtype: int64"
            ]
          },
          "execution_count": 85,
          "metadata": {},
          "output_type": "execute_result"
        }
      ],
      "source": [
        "# Substituir os valores NaN na coluna 'A' pela média da coluna\n",
        "covid_df.DataObito.fillna(0, inplace=True)\n",
        "\n",
        "# Cria nova coluna binaria e preenche com os valores baseando na coluna DataObito\n",
        "covid_df['PASSED'] = [1 if (l != 0) else l for l in covid_df.DataObito]\n",
        "\n",
        "covid_df.PASSED.value_counts()"
      ]
    },
    {
      "cell_type": "markdown",
      "metadata": {},
      "source": [
        "### Coluna 'IdadeNaDataNotificacao'"
      ]
    },
    {
      "cell_type": "code",
      "execution_count": 86,
      "metadata": {},
      "outputs": [],
      "source": [
        "# Transforma idade \"13 anos, 11 meses e 15 dias\" em \"13\" (int)\n",
        "idade_regex = r\"(\\d+)\"\n",
        "covid_df[\"IdadeNaDataNotificacao\"] = covid_df[\"IdadeNaDataNotificacao\"].str.extract(idade_regex).astype(int)"
      ]
    },
    {
      "cell_type": "markdown",
      "metadata": {
        "id": "TtOrU68QVzLE"
      },
      "source": [
        "# Explorando Dados"
      ]
    },
    {
      "cell_type": "markdown",
      "metadata": {
        "id": "eBojdC--V9m4"
      },
      "source": [
        "### Descrevendo dataframe"
      ]
    },
    {
      "cell_type": "code",
      "execution_count": 87,
      "metadata": {},
      "outputs": [
        {
          "name": "stdout",
          "output_type": "stream",
          "text": [
            "DataNotificacao -----> 1288\n",
            "DataCadastro -----> 1270\n",
            "DataDiagnostico -----> 1329\n",
            "DataColeta_RT_PCR -----> 1338\n",
            "DataColetaTesteRapido -----> 1363\n",
            "DataColetaSorologia -----> 838\n",
            "DataColetaSorologiaIGG -----> 842\n",
            "DataEncerramento -----> 1304\n",
            "DataObito -----> 1021\n",
            "Classificacao -----> 1\n",
            "Evolucao -----> 5\n",
            "CriterioConfirmacao -----> 4\n",
            "StatusNotificacao -----> 2\n",
            "Municipio -----> 1089\n",
            "Bairro -----> 3634\n",
            "FaixaEtaria -----> 12\n",
            "IdadeNaDataNotificacao -----> 115\n",
            "Sexo -----> 3\n",
            "RacaCor -----> 6\n",
            "Escolaridade -----> 11\n",
            "Gestante -----> 7\n",
            "Febre -----> 3\n",
            "DificuldadeRespiratoria -----> 3\n",
            "Tosse -----> 3\n",
            "Coriza -----> 3\n",
            "DorGarganta -----> 3\n",
            "Diarreia -----> 3\n",
            "Cefaleia -----> 3\n",
            "ComorbidadePulmao -----> 3\n",
            "ComorbidadeCardio -----> 3\n",
            "ComorbidadeRenal -----> 3\n",
            "ComorbidadeDiabetes -----> 3\n",
            "ComorbidadeTabagismo -----> 3\n",
            "ComorbidadeObesidade -----> 3\n",
            "FicouInternado -----> 4\n",
            "ViagemBrasil -----> 4\n",
            "ViagemInternacional -----> 4\n",
            "ProfissionalSaude -----> 4\n",
            "PossuiDeficiencia -----> 3\n",
            "MoradorDeRua -----> 3\n",
            "ResultadoRT_PCR -----> 4\n",
            "ResultadoTesteRapido -----> 4\n",
            "ResultadoSorologia -----> 4\n",
            "ResultadoSorologia_IGG -----> 4\n",
            "TipoTesteRapido -----> 4\n",
            "PASSED -----> 2\n"
          ]
        }
      ],
      "source": [
        "for i in covid_df.columns:\n",
        "    print(i,\"----->\", len(covid_df[i].unique()))"
      ]
    },
    {
      "cell_type": "markdown",
      "metadata": {},
      "source": [
        "### Percentual de mortes"
      ]
    },
    {
      "cell_type": "code",
      "execution_count": 88,
      "metadata": {
        "id": "6p14IJJo3jNr"
      },
      "outputs": [],
      "source": [
        "def plot_percentual_deads(df):\n",
        "    percentual_deads = round(df.PASSED.mean() * 100, 2)\n",
        "    print(f\"Percentural of deads {percentual_deads}]\\n\")\n",
        "\n",
        "    ax = df.PASSED.value_counts(dropna=False).plot(kind=\"bar\", title=f\"Pacientes x Morte -> ({percentual_deads}%)\", color=[\"blue\", \"red\"], ylabel=\"Qtd. Pacientes\")\n",
        "\n",
        "    container = ax.containers[0]\n",
        "    ax.bar_label(container)\n",
        "    ax.set_xticklabels([\"Sobrevieu\", \"Morreu\"], rotation=0)\n"
      ]
    },
    {
      "cell_type": "code",
      "execution_count": 89,
      "metadata": {},
      "outputs": [
        {
          "name": "stdout",
          "output_type": "stream",
          "text": [
            "Percentural of deads 1.16]\n",
            "\n"
          ]
        },
        {
          "data": {
            "image/png": "[encoded data removed]",
            "text/plain": [
              "<Figure size 640x480 with 1 Axes>"
            ]
          },
          "metadata": {},
          "output_type": "display_data"
        }
      ],
      "source": [
        "plot_percentual_deads(covid_df)"
      ]
    },
    {
      "cell_type": "markdown",
      "metadata": {
        "id": "_W5uXWuqV2aS"
      },
      "source": [
        "### Casos confirmados"
      ]
    },
    {
      "cell_type": "markdown",
      "metadata": {
        "id": "5xBvEKNIWhY6"
      },
      "source": [
        "#### Obtendo Classificao diretamente"
      ]
    },
    {
      "cell_type": "code",
      "execution_count": 90,
      "metadata": {
        "colab": {
          "base_uri": "https://localhost:8080/"
        },
        "id": "9voQaniOTs1D",
        "outputId": "6cc7772a-f183-4638-ef8d-97bd8565b8b3"
      },
      "outputs": [
        {
          "data": {
            "text/plain": [
              "PASSED\n",
              "0    1324855\n",
              "1      15590\n",
              "Name: count, dtype: int64"
            ]
          },
          "execution_count": 90,
          "metadata": {},
          "output_type": "execute_result"
        }
      ],
      "source": [
        "# Apenas casos confirmados\n",
        "covid_df = covid_df[covid_df.Classificacao == \"Confirmados\"]\n",
        "covid_df.PASSED.value_counts(dropna=False)"
      ]
    },
    {
      "cell_type": "code",
      "execution_count": 91,
      "metadata": {
        "colab": {
          "base_uri": "https://localhost:8080/"
        },
        "id": "QvK8ds_UuR4E",
        "outputId": "a2da688e-e74e-44e4-a4f6-87060814929c"
      },
      "outputs": [
        {
          "data": {
            "text/plain": [
              "(1340445, 46)"
            ]
          },
          "execution_count": 91,
          "metadata": {},
          "output_type": "execute_result"
        }
      ],
      "source": [
        "covid_df.shape"
      ]
    },
    {
      "cell_type": "markdown",
      "metadata": {
        "id": "Th5dFn3rV5iq"
      },
      "source": [
        "# Tratando Dados"
      ]
    },
    {
      "cell_type": "markdown",
      "metadata": {
        "id": "2N7dQsvSiaGU"
      },
      "source": [
        "### Coluna 'Classificacao'"
      ]
    },
    {
      "cell_type": "code",
      "execution_count": 92,
      "metadata": {
        "colab": {
          "base_uri": "https://localhost:8080/"
        },
        "id": "1Rzrtly8idui",
        "outputId": "7ed9e956-64aa-4279-a31d-50815cbb94aa"
      },
      "outputs": [
        {
          "name": "stdout",
          "output_type": "stream",
          "text": [
            "Classificacao\n",
            "Confirmados    1340445\n",
            "Name: count, dtype: int64\n"
          ]
        }
      ],
      "source": [
        "# O dataset foi filtrado por apenas casos 'Confirmados'\n",
        "# Por isso, torna-se uma coluna constante, assim será removida\n",
        "\n",
        "print(covid_df.Classificacao.value_counts(dropna=True))\n",
        "covid_df.drop(columns=[\"Classificacao\"], inplace=True)"
      ]
    },
    {
      "cell_type": "markdown",
      "metadata": {
        "id": "OlF5JmB1_9gs"
      },
      "source": [
        "### Tratando colunas com valor 'Ignorado', 'Não Informado' ou '-'\n",
        "*   As colunas abaixo demostram exemplos dos valores 'Ignorado' e 'Não Informado'\n",
        "que são recorrentes na base de dados\n"
      ]
    },
    {
      "cell_type": "code",
      "execution_count": 93,
      "metadata": {
        "colab": {
          "base_uri": "https://localhost:8080/"
        },
        "id": "zwzVvlkDX8tS",
        "outputId": "ddef3c44-3e4c-4938-db99-4ff52e3c51e1"
      },
      "outputs": [
        {
          "data": {
            "text/plain": [
              "FicouInternado\n",
              "Não              806252\n",
              "Não Informado    495930\n",
              "Ignorado          24337\n",
              "Sim               13926\n",
              "Name: count, dtype: int64"
            ]
          },
          "execution_count": 93,
          "metadata": {},
          "output_type": "execute_result"
        }
      ],
      "source": [
        "covid_df.FicouInternado.value_counts(dropna=False)"
      ]
    },
    {
      "cell_type": "code",
      "execution_count": 94,
      "metadata": {},
      "outputs": [
        {
          "data": {
            "text/plain": [
              "DorGarganta\n",
              "Não    877843\n",
              "Sim    461296\n",
              "-        1306\n",
              "Name: count, dtype: int64"
            ]
          },
          "execution_count": 94,
          "metadata": {},
          "output_type": "execute_result"
        }
      ],
      "source": [
        "covid_df.DorGarganta.value_counts()"
      ]
    },
    {
      "cell_type": "code",
      "execution_count": 95,
      "metadata": {},
      "outputs": [
        {
          "data": {
            "text/plain": [
              "ViagemBrasil\n",
              "Não              826058\n",
              "Não Informado    434027\n",
              "Ignorado          41030\n",
              "Sim               39330\n",
              "Name: count, dtype: int64"
            ]
          },
          "execution_count": 95,
          "metadata": {},
          "output_type": "execute_result"
        }
      ],
      "source": [
        "covid_df.ViagemBrasil.value_counts()"
      ]
    },
    {
      "cell_type": "code",
      "execution_count": 96,
      "metadata": {
        "id": "VctLlemQtz7r"
      },
      "outputs": [],
      "source": [
        "# Converte os valores para NaN\n",
        "covid_df.replace(\"Ignorado\", np.nan, inplace=True)\n",
        "covid_df.replace(\"Não Informado\", np.nan, inplace=True)\n",
        "covid_df.replace(\"-\", np.nan, inplace=True)"
      ]
    },
    {
      "cell_type": "markdown",
      "metadata": {
        "id": "yi2vCtlCTvLQ"
      },
      "source": [
        "### Tratando coluna 'Sexo'"
      ]
    },
    {
      "cell_type": "code",
      "execution_count": 97,
      "metadata": {
        "colab": {
          "base_uri": "https://localhost:8080/"
        },
        "id": "kvzUomVlW3GD",
        "outputId": "3344cba5-1374-4465-8745-a7ee55027f56"
      },
      "outputs": [
        {
          "data": {
            "text/plain": [
              "Sexo\n",
              "F    755318\n",
              "M    584911\n",
              "I       216\n",
              "Name: count, dtype: int64"
            ]
          },
          "execution_count": 97,
          "metadata": {},
          "output_type": "execute_result"
        }
      ],
      "source": [
        "# Valores para coluna Sexo\n",
        "covid_df.Sexo.value_counts(dropna=False)"
      ]
    },
    {
      "cell_type": "code",
      "execution_count": 98,
      "metadata": {
        "id": "D1GKBFrTT5Dk"
      },
      "outputs": [],
      "source": [
        "# Redefine valor para colunas com valores I (provavelmente refere-se a indefinido)\n",
        "covid_df.Sexo.replace(\"I\", np.nan, inplace=True)"
      ]
    },
    {
      "cell_type": "markdown",
      "metadata": {
        "id": "pEa71c636bhX"
      },
      "source": [
        "### Coluna 'Gestante'"
      ]
    },
    {
      "cell_type": "code",
      "execution_count": 99,
      "metadata": {
        "colab": {
          "base_uri": "https://localhost:8080/"
        },
        "id": "ae76vj7v6e18",
        "outputId": "d55adbfa-c1b2-4fc7-b1c1-133cb0a9db22"
      },
      "outputs": [
        {
          "data": {
            "text/plain": [
              "Gestante\n",
              "Não                           725468\n",
              "Não se aplica                 586833\n",
              "3º trimeste                     2494\n",
              "2º trimeste                     2171\n",
              "1º trimeste                     1493\n",
              "Idade gestacional ignorada       946\n",
              "Name: count, dtype: int64"
            ]
          },
          "execution_count": 99,
          "metadata": {},
          "output_type": "execute_result"
        }
      ],
      "source": [
        "# Valores usados para a coluna de Gestante\n",
        "covid_df.Gestante.value_counts()"
      ]
    },
    {
      "cell_type": "code",
      "execution_count": 100,
      "metadata": {
        "id": "9ylD_Ae932rt"
      },
      "outputs": [],
      "source": [
        "# Transformando em valores em 'Não'\n",
        "# Se é mulher e 'Não se aplica', então não está grávida e homem não pode estar de gestação\n",
        "covid_df.Gestante.replace(\"Não se aplica\", \"Não\", inplace=True)\n",
        "covid_df.Gestante.replace(\"Idade gestacional ignorada\", \"Não\", inplace=True)"
      ]
    },
    {
      "cell_type": "code",
      "execution_count": 101,
      "metadata": {
        "colab": {
          "base_uri": "https://localhost:8080/"
        },
        "id": "TX-oviAT5nZe",
        "outputId": "92d742c1-2453-4d89-cb8f-3af617dd4426"
      },
      "outputs": [
        {
          "data": {
            "text/plain": [
              "Gestante\n",
              "Não            1313247\n",
              "3º trimeste       2494\n",
              "2º trimeste       2171\n",
              "1º trimeste       1493\n",
              "Name: count, dtype: int64"
            ]
          },
          "execution_count": 101,
          "metadata": {},
          "output_type": "execute_result"
        }
      ],
      "source": [
        "covid_df.Gestante.value_counts()"
      ]
    },
    {
      "cell_type": "code",
      "execution_count": 102,
      "metadata": {
        "colab": {
          "base_uri": "https://localhost:8080/"
        },
        "id": "yNY2DbzO4M_t",
        "outputId": "bbf8ff50-5c0b-44c3-88a8-02cc23898ece"
      },
      "outputs": [
        {
          "data": {
            "text/plain": [
              "Gestante\n",
              "Não            581103\n",
              "2º trimeste         5\n",
              "3º trimeste         4\n",
              "1º trimeste         1\n",
              "Name: count, dtype: int64"
            ]
          },
          "execution_count": 102,
          "metadata": {},
          "output_type": "execute_result"
        }
      ],
      "source": [
        "# Há ruídos que demostram gestação para pacientes do sexo masculino\n",
        "covid_df[covid_df.Sexo == 'M'].Gestante.value_counts()"
      ]
    },
    {
      "cell_type": "code",
      "execution_count": 103,
      "metadata": {
        "colab": {
          "base_uri": "https://localhost:8080/"
        },
        "id": "kcV8EiCE7tuI",
        "outputId": "eaa28a40-12b1-4375-a884-2f78625023e4"
      },
      "outputs": [
        {
          "data": {
            "text/plain": [
              "Gestante\n",
              "Não    584911\n",
              "Name: count, dtype: int64"
            ]
          },
          "execution_count": 103,
          "metadata": {},
          "output_type": "execute_result"
        }
      ],
      "source": [
        "# Tranforma tais ruídos em 'Não'\n",
        "covid_df.loc[covid_df.Sexo == 'M', \"Gestante\"] = \"Não\"\n",
        "covid_df[covid_df.Sexo == 'M'].Gestante.value_counts()"
      ]
    },
    {
      "cell_type": "code",
      "execution_count": 104,
      "metadata": {
        "colab": {
          "base_uri": "https://localhost:8080/"
        },
        "id": "9zcnu_Ju30qv",
        "outputId": "86bc7a53-805b-4922-b975-6f57488de83b"
      },
      "outputs": [
        {
          "data": {
            "text/plain": [
              "Gestante\n",
              "Não            1317055\n",
              "NaN              17242\n",
              "3º trimeste       2490\n",
              "2º trimeste       2166\n",
              "1º trimeste       1492\n",
              "Name: count, dtype: int64"
            ]
          },
          "execution_count": 104,
          "metadata": {},
          "output_type": "execute_result"
        }
      ],
      "source": [
        "# A relação de valores 'Não', sem considerar NaN, para o total de elementos é de 97.8%\n",
        "# Dessa forma, essa coluna se torna uma constante que pode ser ignorada\n",
        "covid_df.Gestante.value_counts(dropna=False)"
      ]
    },
    {
      "cell_type": "markdown",
      "metadata": {
        "id": "Qv2GVXUawhMC"
      },
      "source": [
        "### Coluna 'Evolucao'"
      ]
    },
    {
      "cell_type": "code",
      "execution_count": 105,
      "metadata": {},
      "outputs": [
        {
          "data": {
            "text/plain": [
              "Evolucao\n",
              "Cura                       1301677\n",
              "Óbito pelo COVID-19          15112\n",
              "Óbito por outras causas        448\n",
              "Name: count, dtype: int64"
            ]
          },
          "execution_count": 105,
          "metadata": {},
          "output_type": "execute_result"
        }
      ],
      "source": [
        "# Essa coluna possui informação similar a varável alvo, por isso\n",
        "# precisa ser removida\n",
        "covid_df.Evolucao.value_counts(dropna=True)"
      ]
    },
    {
      "cell_type": "markdown",
      "metadata": {
        "id": "QksaAzLyXhSn"
      },
      "source": [
        "### Colunas NaN"
      ]
    },
    {
      "cell_type": "code",
      "execution_count": 106,
      "metadata": {
        "id": "ywAVj9KuvI13"
      },
      "outputs": [],
      "source": [
        "def verify_num_cols(df):\n",
        "    # Média ordenada e colunas com valor vazio\n",
        "    mean_na = df.isna().mean().sort_values(ascending=False)\n",
        "\n",
        "    # Cria DF de colunas nulas\n",
        "    df_na = pd.DataFrame({\"percentual\": mean_na})\n",
        "\n",
        "    return df_na\n",
        "\n",
        "def remove_nan_cols_above_limit(df, cols_to_ignore, limit=0.30):\n",
        "    # Obtém colunas nulas e seu percentual\n",
        "    df_na = verify_num_cols(df)\n",
        "\n",
        "    # Ignora colunas\n",
        "    df_na.drop(cols_to_ignore, inplace=True)\n",
        "\n",
        "    # Filtra colunas pelo limite\n",
        "    df_na_above_limit = df_na[df_na.percentual >= limit]\n",
        "\n",
        "    # Obtém as colunas a serem dropadas\n",
        "    columns_to_drop = df_na_above_limit.index\n",
        "\n",
        "    # Dropa colunas\n",
        "    df.drop(columns=columns_to_drop, inplace=True)\n",
        "\n",
        "    return df, df_na_above_limit"
      ]
    },
    {
      "cell_type": "code",
      "execution_count": 107,
      "metadata": {
        "colab": {
          "base_uri": "https://localhost:8080/",
          "height": 426
        },
        "id": "2A0YA0QX-xOV",
        "outputId": "dd55e0e8-5c0b-4365-e756-9d3575d193ed"
      },
      "outputs": [
        {
          "data": {
            "text/html": [
              "<div>\n",
              "<style scoped>\n",
              "    .dataframe tbody tr th:only-of-type {\n",
              "        vertical-align: middle;\n",
              "    }\n",
              "\n",
              "    .dataframe tbody tr th {\n",
              "        vertical-align: top;\n",
              "    }\n",
              "\n",
              "    .dataframe thead th {\n",
              "        text-align: right;\n",
              "    }\n",
              "</style>\n",
              "<table border=\"1\" class=\"dataframe\">\n",
              "  <thead>\n",
              "    <tr style=\"text-align: right;\">\n",
              "      <th></th>\n",
              "      <th>percentual</th>\n",
              "    </tr>\n",
              "  </thead>\n",
              "  <tbody>\n",
              "    <tr>\n",
              "      <th>ResultadoSorologia</th>\n",
              "      <td>0.963691</td>\n",
              "    </tr>\n",
              "    <tr>\n",
              "      <th>DataColetaSorologia</th>\n",
              "      <td>0.963563</td>\n",
              "    </tr>\n",
              "    <tr>\n",
              "      <th>ResultadoSorologia_IGG</th>\n",
              "      <td>0.956279</td>\n",
              "    </tr>\n",
              "    <tr>\n",
              "      <th>DataColetaSorologiaIGG</th>\n",
              "      <td>0.956232</td>\n",
              "    </tr>\n",
              "    <tr>\n",
              "      <th>ResultadoRT_PCR</th>\n",
              "      <td>0.665297</td>\n",
              "    </tr>\n",
              "    <tr>\n",
              "      <th>DataColeta_RT_PCR</th>\n",
              "      <td>0.660597</td>\n",
              "    </tr>\n",
              "    <tr>\n",
              "      <th>Escolaridade</th>\n",
              "      <td>0.399611</td>\n",
              "    </tr>\n",
              "    <tr>\n",
              "      <th>ViagemInternacional</th>\n",
              "      <td>0.394779</td>\n",
              "    </tr>\n",
              "    <tr>\n",
              "      <th>TipoTesteRapido</th>\n",
              "      <td>0.393348</td>\n",
              "    </tr>\n",
              "    <tr>\n",
              "      <th>ViagemBrasil</th>\n",
              "      <td>0.354402</td>\n",
              "    </tr>\n",
              "    <tr>\n",
              "      <th>ResultadoTesteRapido</th>\n",
              "      <td>0.350763</td>\n",
              "    </tr>\n",
              "    <tr>\n",
              "      <th>DataColetaTesteRapido</th>\n",
              "      <td>0.349258</td>\n",
              "    </tr>\n",
              "    <tr>\n",
              "      <th>RacaCor</th>\n",
              "      <td>0.275795</td>\n",
              "    </tr>\n",
              "    <tr>\n",
              "      <th>ProfissionalSaude</th>\n",
              "      <td>0.077735</td>\n",
              "    </tr>\n",
              "  </tbody>\n",
              "</table>\n",
              "</div>"
            ],
            "text/plain": [
              "                        percentual\n",
              "ResultadoSorologia        0.963691\n",
              "DataColetaSorologia       0.963563\n",
              "ResultadoSorologia_IGG    0.956279\n",
              "DataColetaSorologiaIGG    0.956232\n",
              "ResultadoRT_PCR           0.665297\n",
              "DataColeta_RT_PCR         0.660597\n",
              "Escolaridade              0.399611\n",
              "ViagemInternacional       0.394779\n",
              "TipoTesteRapido           0.393348\n",
              "ViagemBrasil              0.354402\n",
              "ResultadoTesteRapido      0.350763\n",
              "DataColetaTesteRapido     0.349258\n",
              "RacaCor                   0.275795\n",
              "ProfissionalSaude         0.077735"
            ]
          },
          "execution_count": 107,
          "metadata": {},
          "output_type": "execute_result"
        }
      ],
      "source": [
        "# Remove colunas nulas acima do limite de 5%\n",
        "# Coluna considera importante para ser removida\n",
        "cols_to_ignore = [\"FicouInternado\"]\n",
        "_, df_na = remove_nan_cols_above_limit(covid_df, cols_to_ignore, limit=0.05)\n",
        "\n",
        "# Colunas removidas\n",
        "df_na"
      ]
    },
    {
      "cell_type": "code",
      "execution_count": 108,
      "metadata": {
        "colab": {
          "base_uri": "https://localhost:8080/"
        },
        "id": "tAEhuFtlhJ7y",
        "outputId": "fefa1689-6f7e-47ec-a96e-da452154707f"
      },
      "outputs": [
        {
          "data": {
            "text/plain": [
              "(1340445, 31)"
            ]
          },
          "execution_count": 108,
          "metadata": {},
          "output_type": "execute_result"
        }
      ],
      "source": [
        "covid_df.shape"
      ]
    },
    {
      "cell_type": "code",
      "execution_count": 109,
      "metadata": {
        "colab": {
          "base_uri": "https://localhost:8080/"
        },
        "id": "KwOm5PZDjTKS",
        "outputId": "70fca99c-c95e-4080-b5db-1904f921736a"
      },
      "outputs": [
        {
          "data": {
            "text/plain": [
              "DataNotificacao                 0\n",
              "DataCadastro                    0\n",
              "DataDiagnostico                 0\n",
              "DataEncerramento            16515\n",
              "DataObito                       0\n",
              "Evolucao                    23208\n",
              "CriterioConfirmacao          5393\n",
              "StatusNotificacao               0\n",
              "Municipio                       0\n",
              "Bairro                       9100\n",
              "FaixaEtaria                    32\n",
              "IdadeNaDataNotificacao          0\n",
              "Sexo                          216\n",
              "Gestante                    17242\n",
              "Febre                        1329\n",
              "DificuldadeRespiratoria      1239\n",
              "Tosse                        1264\n",
              "Coriza                       1268\n",
              "DorGarganta                  1306\n",
              "Diarreia                     1278\n",
              "Cefaleia                     1304\n",
              "ComorbidadePulmao            1611\n",
              "ComorbidadeCardio            1574\n",
              "ComorbidadeRenal             1505\n",
              "ComorbidadeDiabetes          1552\n",
              "ComorbidadeTabagismo         1550\n",
              "ComorbidadeObesidade         1741\n",
              "FicouInternado             520267\n",
              "PossuiDeficiencia            7304\n",
              "MoradorDeRua                 8075\n",
              "PASSED                          0\n",
              "dtype: int64"
            ]
          },
          "execution_count": 109,
          "metadata": {},
          "output_type": "execute_result"
        }
      ],
      "source": [
        "covid_df.isna().sum()"
      ]
    },
    {
      "cell_type": "markdown",
      "metadata": {
        "id": "_s4k3YYYEM-k"
      },
      "source": [
        "### Transformando Datas"
      ]
    },
    {
      "cell_type": "markdown",
      "metadata": {
        "id": "ofIJYDIGZx98"
      },
      "source": [
        "* O padrão visto nas datas é de yyyy-mm-dd, porém algumas colunas possuem valores que escapam desse padrão, assim, gerando ruídos,como por exemplo: 0202-03-21.\n",
        "* Além disso, tais colunas não são necessárias."
      ]
    },
    {
      "cell_type": "code",
      "execution_count": 110,
      "metadata": {
        "colab": {
          "base_uri": "https://localhost:8080/"
        },
        "id": "xVg9zX-EZqep",
        "outputId": "67363131-9fc5-4e3e-bd3b-ffed83c1ddb4"
      },
      "outputs": [],
      "source": [
        "covid_df.drop(columns=['DataDiagnostico', 'DataEncerramento', \"DataObito\",\"DataCadastro\", \"DataNotificacao\"], inplace=True)"
      ]
    },
    {
      "cell_type": "code",
      "execution_count": 111,
      "metadata": {},
      "outputs": [
        {
          "data": {
            "text/plain": [
              "Index(['Evolucao', 'CriterioConfirmacao', 'StatusNotificacao', 'Municipio',\n",
              "       'Bairro', 'FaixaEtaria', 'IdadeNaDataNotificacao', 'Sexo', 'Gestante',\n",
              "       'Febre', 'DificuldadeRespiratoria', 'Tosse', 'Coriza', 'DorGarganta',\n",
              "       'Diarreia', 'Cefaleia', 'ComorbidadePulmao', 'ComorbidadeCardio',\n",
              "       'ComorbidadeRenal', 'ComorbidadeDiabetes', 'ComorbidadeTabagismo',\n",
              "       'ComorbidadeObesidade', 'FicouInternado', 'PossuiDeficiencia',\n",
              "       'MoradorDeRua', 'PASSED'],\n",
              "      dtype='object')"
            ]
          },
          "execution_count": 111,
          "metadata": {},
          "output_type": "execute_result"
        }
      ],
      "source": [
        "covid_df.columns"
      ]
    },
    {
      "cell_type": "markdown",
      "metadata": {
        "id": "HNLqxscmB_js"
      },
      "source": [
        "### Removendo colunas desnecessárias"
      ]
    },
    {
      "cell_type": "markdown",
      "metadata": {
        "id": "ClPZO8kUxK8M"
      },
      "source": [
        "* Bairro/Municipio - Valores descritivos\n",
        "* StatusNotificacao - Se torna constante após tratamentos\n",
        "* Evolução - Possui informação similar a variável alvo\n",
        "* Gestante - Coluna consante"
      ]
    },
    {
      "cell_type": "code",
      "execution_count": 112,
      "metadata": {
        "id": "PsVWNpQHeYde"
      },
      "outputs": [],
      "source": [
        "# Remover DataNotificacao DataColetaTesteRapido\n",
        "covid_df.drop(columns=[\"Bairro\", \"Municipio\", \"StatusNotificacao\", \"Evolucao\", \"Gestante\"], inplace=True)"
      ]
    },
    {
      "cell_type": "code",
      "execution_count": 113,
      "metadata": {},
      "outputs": [],
      "source": [
        "# Remove linhas com alguma coluna nula\n",
        "covid_df.dropna(inplace=True)"
      ]
    },
    {
      "cell_type": "code",
      "execution_count": 114,
      "metadata": {},
      "outputs": [
        {
          "name": "stdout",
          "output_type": "stream",
          "text": [
            "CriterioConfirmacao -----> 3\n",
            "FaixaEtaria -----> 11\n",
            "IdadeNaDataNotificacao -----> 113\n",
            "Sexo -----> 2\n",
            "Febre -----> 2\n",
            "DificuldadeRespiratoria -----> 2\n",
            "Tosse -----> 2\n",
            "Coriza -----> 2\n",
            "DorGarganta -----> 2\n",
            "Diarreia -----> 2\n",
            "Cefaleia -----> 2\n",
            "ComorbidadePulmao -----> 2\n",
            "ComorbidadeCardio -----> 2\n",
            "ComorbidadeRenal -----> 2\n",
            "ComorbidadeDiabetes -----> 2\n",
            "ComorbidadeTabagismo -----> 2\n",
            "ComorbidadeObesidade -----> 2\n",
            "FicouInternado -----> 2\n",
            "PossuiDeficiencia -----> 2\n",
            "MoradorDeRua -----> 2\n",
            "PASSED -----> 2\n"
          ]
        }
      ],
      "source": [
        "for i in covid_df.columns:\n",
        "    print(i,\"----->\", len(covid_df[i].unique()))"
      ]
    },
    {
      "cell_type": "markdown",
      "metadata": {},
      "source": [
        "### Remove caracteres especiais e espaços em branco\n",
        "* Quando utilizado o OneHot-Encoder, é necessário remover tais carácteres,\n",
        "senão, as colunas fugirão do padrão."
      ]
    },
    {
      "cell_type": "code",
      "execution_count": 115,
      "metadata": {},
      "outputs": [],
      "source": [
        "def remove_specials_chars(char, chars_to_replace):\n",
        "    if(isinstance(char, str)):\n",
        "        # Remove espaçamento\n",
        "        char = char.strip()\n",
        "        \n",
        "        # Substitui espaçamento entre palavras\n",
        "        char = char.replace(\" \", \"_\")\n",
        "        \n",
        "        # Remove caracter\n",
        "        for c_key in chars_to_replace.keys():\n",
        "            char = char.replace(c_key, chars_to_replace[c_key])\n",
        "            \n",
        "    return char"
      ]
    },
    {
      "cell_type": "code",
      "execution_count": 116,
      "metadata": {},
      "outputs": [],
      "source": [
        "# Carácteres a serem substituídos\n",
        "chars_to_replace = {'ã': 'a', 'ó': 'o', 'Ó': 'O'}\n",
        "\n",
        "# Aplica substituição\n",
        "covid_df = covid_df.applymap(lambda x: remove_specials_chars(x, chars_to_replace))"
      ]
    },
    {
      "cell_type": "code",
      "execution_count": 117,
      "metadata": {},
      "outputs": [
        {
          "data": {
            "text/plain": [
              "PASSED\n",
              "0    801067\n",
              "1     11366\n",
              "Name: count, dtype: int64"
            ]
          },
          "execution_count": 117,
          "metadata": {},
          "output_type": "execute_result"
        }
      ],
      "source": [
        "covid_df.PASSED.value_counts(dropna=False)"
      ]
    },
    {
      "cell_type": "markdown",
      "metadata": {
        "id": "1eq81Uvc2ht-"
      },
      "source": [
        "# Encoding"
      ]
    },
    {
      "cell_type": "markdown",
      "metadata": {
        "id": "oIgxwNSL3YPh"
      },
      "source": [
        "## Label Encoding"
      ]
    },
    {
      "cell_type": "code",
      "execution_count": 118,
      "metadata": {
        "id": "HeDjGzmV9T2j"
      },
      "outputs": [],
      "source": [
        "label_encoder = LabelEncoder()"
      ]
    },
    {
      "cell_type": "code",
      "execution_count": 119,
      "metadata": {
        "id": "RkPNWEOgabFU"
      },
      "outputs": [],
      "source": [
        "covid_df[\"FaixaEtaria\"] = label_encoder.fit_transform(covid_df[\"FaixaEtaria\"])"
      ]
    },
    {
      "cell_type": "markdown",
      "metadata": {
        "id": "dIYjQrQr3cIA"
      },
      "source": [
        "## One-hot Encoding"
      ]
    },
    {
      "cell_type": "code",
      "execution_count": 120,
      "metadata": {
        "id": "keuhwEdd3cXk"
      },
      "outputs": [],
      "source": [
        "# Define colunas a serem ignoradas\n",
        "ignore_columns = [\"FaixaEtaria\", \"IdadeNaDataNotificacao\", \"PASSED\", \"DataNotificacao\"]\n",
        "onehot_encoder_cols = [col for col in covid_df.columns.tolist() if col not in ignore_columns]\n",
        "\n",
        "# Instancia o OneHotEnconder\n",
        "one_hot_encoder = OneHotEncoder(sparse_output=False)"
      ]
    },
    {
      "cell_type": "code",
      "execution_count": 121,
      "metadata": {
        "colab": {
          "base_uri": "https://localhost:8080/"
        },
        "id": "CG5C-muicP3h",
        "outputId": "8a5fb345-fda7-408c-e03f-1db06193245a"
      },
      "outputs": [
        {
          "data": {
            "text/plain": [
              "(812433, 37)"
            ]
          },
          "execution_count": 121,
          "metadata": {},
          "output_type": "execute_result"
        }
      ],
      "source": [
        "# Realiza o fit-transform\n",
        "one_hot_result = one_hot_encoder.fit_transform(covid_df[onehot_encoder_cols])\n",
        "\n",
        "# Obtem os nomes das colunas\n",
        "one_hot_col_result = one_hot_encoder.get_feature_names_out(onehot_encoder_cols)\n",
        "\n",
        "# Armazena em um novo DF\n",
        "one_hot_col_df = pd.DataFrame(one_hot_result, columns=one_hot_col_result, index=covid_df.index)\n",
        "one_hot_col_df.shape"
      ]
    },
    {
      "cell_type": "code",
      "execution_count": 122,
      "metadata": {},
      "outputs": [
        {
          "data": {
            "text/plain": [
              "array(['CriterioConfirmacao_Clinico',\n",
              "       'CriterioConfirmacao_Clinico_Epdemiologico',\n",
              "       'CriterioConfirmacao_Laboratorial', 'Sexo_F', 'Sexo_M',\n",
              "       'Febre_Nao', 'Febre_Sim', 'DificuldadeRespiratoria_Nao',\n",
              "       'DificuldadeRespiratoria_Sim', 'Tosse_Nao', 'Tosse_Sim',\n",
              "       'Coriza_Nao', 'Coriza_Sim', 'DorGarganta_Nao', 'DorGarganta_Sim',\n",
              "       'Diarreia_Nao', 'Diarreia_Sim', 'Cefaleia_Nao', 'Cefaleia_Sim',\n",
              "       'ComorbidadePulmao_Nao', 'ComorbidadePulmao_Sim',\n",
              "       'ComorbidadeCardio_Nao', 'ComorbidadeCardio_Sim',\n",
              "       'ComorbidadeRenal_Nao', 'ComorbidadeRenal_Sim',\n",
              "       'ComorbidadeDiabetes_Nao', 'ComorbidadeDiabetes_Sim',\n",
              "       'ComorbidadeTabagismo_Nao', 'ComorbidadeTabagismo_Sim',\n",
              "       'ComorbidadeObesidade_Nao', 'ComorbidadeObesidade_Sim',\n",
              "       'FicouInternado_Nao', 'FicouInternado_Sim',\n",
              "       'PossuiDeficiencia_Nao', 'PossuiDeficiencia_Sim',\n",
              "       'MoradorDeRua_Nao', 'MoradorDeRua_Sim'], dtype=object)"
            ]
          },
          "execution_count": 122,
          "metadata": {},
          "output_type": "execute_result"
        }
      ],
      "source": [
        "one_hot_col_result"
      ]
    },
    {
      "cell_type": "code",
      "execution_count": 123,
      "metadata": {
        "colab": {
          "base_uri": "https://localhost:8080/"
        },
        "id": "Wz5PNxsciru5",
        "outputId": "a80d540b-bc0a-4058-9f5c-de106f9a77a3"
      },
      "outputs": [
        {
          "data": {
            "text/plain": [
              "(812433, 40)"
            ]
          },
          "execution_count": 123,
          "metadata": {},
          "output_type": "execute_result"
        }
      ],
      "source": [
        "# Dropa colunas antigas e adiciona as novas\n",
        "covid_df = covid_df.drop(columns=onehot_encoder_cols).join(one_hot_col_df)\n",
        "covid_df.shape"
      ]
    },
    {
      "cell_type": "code",
      "execution_count": 124,
      "metadata": {},
      "outputs": [],
      "source": [
        "# Liberar Memoria\n",
        "del one_hot_col_df\n",
        "del one_hot_result"
      ]
    },
    {
      "cell_type": "code",
      "execution_count": 125,
      "metadata": {},
      "outputs": [
        {
          "data": {
            "text/html": [
              "<div>\n",
              "<style scoped>\n",
              "    .dataframe tbody tr th:only-of-type {\n",
              "        vertical-align: middle;\n",
              "    }\n",
              "\n",
              "    .dataframe tbody tr th {\n",
              "        vertical-align: top;\n",
              "    }\n",
              "\n",
              "    .dataframe thead th {\n",
              "        text-align: right;\n",
              "    }\n",
              "</style>\n",
              "<table border=\"1\" class=\"dataframe\">\n",
              "  <thead>\n",
              "    <tr style=\"text-align: right;\">\n",
              "      <th></th>\n",
              "      <th>FaixaEtaria</th>\n",
              "      <th>IdadeNaDataNotificacao</th>\n",
              "      <th>PASSED</th>\n",
              "      <th>CriterioConfirmacao_Clinico</th>\n",
              "      <th>CriterioConfirmacao_Clinico_Epdemiologico</th>\n",
              "      <th>CriterioConfirmacao_Laboratorial</th>\n",
              "      <th>Sexo_F</th>\n",
              "      <th>Sexo_M</th>\n",
              "      <th>Febre_Nao</th>\n",
              "      <th>Febre_Sim</th>\n",
              "      <th>...</th>\n",
              "      <th>ComorbidadeTabagismo_Nao</th>\n",
              "      <th>ComorbidadeTabagismo_Sim</th>\n",
              "      <th>ComorbidadeObesidade_Nao</th>\n",
              "      <th>ComorbidadeObesidade_Sim</th>\n",
              "      <th>FicouInternado_Nao</th>\n",
              "      <th>FicouInternado_Sim</th>\n",
              "      <th>PossuiDeficiencia_Nao</th>\n",
              "      <th>PossuiDeficiencia_Sim</th>\n",
              "      <th>MoradorDeRua_Nao</th>\n",
              "      <th>MoradorDeRua_Sim</th>\n",
              "    </tr>\n",
              "  </thead>\n",
              "  <tbody>\n",
              "    <tr>\n",
              "      <th>8</th>\n",
              "      <td>3</td>\n",
              "      <td>26</td>\n",
              "      <td>0</td>\n",
              "      <td>0.0</td>\n",
              "      <td>0.0</td>\n",
              "      <td>1.0</td>\n",
              "      <td>1.0</td>\n",
              "      <td>0.0</td>\n",
              "      <td>1.0</td>\n",
              "      <td>0.0</td>\n",
              "      <td>...</td>\n",
              "      <td>1.0</td>\n",
              "      <td>0.0</td>\n",
              "      <td>1.0</td>\n",
              "      <td>0.0</td>\n",
              "      <td>1.0</td>\n",
              "      <td>0.0</td>\n",
              "      <td>1.0</td>\n",
              "      <td>0.0</td>\n",
              "      <td>1.0</td>\n",
              "      <td>0.0</td>\n",
              "    </tr>\n",
              "    <tr>\n",
              "      <th>11</th>\n",
              "      <td>3</td>\n",
              "      <td>26</td>\n",
              "      <td>0</td>\n",
              "      <td>0.0</td>\n",
              "      <td>0.0</td>\n",
              "      <td>1.0</td>\n",
              "      <td>1.0</td>\n",
              "      <td>0.0</td>\n",
              "      <td>1.0</td>\n",
              "      <td>0.0</td>\n",
              "      <td>...</td>\n",
              "      <td>1.0</td>\n",
              "      <td>0.0</td>\n",
              "      <td>1.0</td>\n",
              "      <td>0.0</td>\n",
              "      <td>1.0</td>\n",
              "      <td>0.0</td>\n",
              "      <td>1.0</td>\n",
              "      <td>0.0</td>\n",
              "      <td>1.0</td>\n",
              "      <td>0.0</td>\n",
              "    </tr>\n",
              "    <tr>\n",
              "      <th>15</th>\n",
              "      <td>4</td>\n",
              "      <td>35</td>\n",
              "      <td>0</td>\n",
              "      <td>0.0</td>\n",
              "      <td>0.0</td>\n",
              "      <td>1.0</td>\n",
              "      <td>0.0</td>\n",
              "      <td>1.0</td>\n",
              "      <td>1.0</td>\n",
              "      <td>0.0</td>\n",
              "      <td>...</td>\n",
              "      <td>1.0</td>\n",
              "      <td>0.0</td>\n",
              "      <td>1.0</td>\n",
              "      <td>0.0</td>\n",
              "      <td>1.0</td>\n",
              "      <td>0.0</td>\n",
              "      <td>1.0</td>\n",
              "      <td>0.0</td>\n",
              "      <td>1.0</td>\n",
              "      <td>0.0</td>\n",
              "    </tr>\n",
              "    <tr>\n",
              "      <th>36</th>\n",
              "      <td>3</td>\n",
              "      <td>27</td>\n",
              "      <td>0</td>\n",
              "      <td>0.0</td>\n",
              "      <td>0.0</td>\n",
              "      <td>1.0</td>\n",
              "      <td>0.0</td>\n",
              "      <td>1.0</td>\n",
              "      <td>1.0</td>\n",
              "      <td>0.0</td>\n",
              "      <td>...</td>\n",
              "      <td>1.0</td>\n",
              "      <td>0.0</td>\n",
              "      <td>1.0</td>\n",
              "      <td>0.0</td>\n",
              "      <td>1.0</td>\n",
              "      <td>0.0</td>\n",
              "      <td>1.0</td>\n",
              "      <td>0.0</td>\n",
              "      <td>1.0</td>\n",
              "      <td>0.0</td>\n",
              "    </tr>\n",
              "    <tr>\n",
              "      <th>40</th>\n",
              "      <td>3</td>\n",
              "      <td>26</td>\n",
              "      <td>0</td>\n",
              "      <td>0.0</td>\n",
              "      <td>0.0</td>\n",
              "      <td>1.0</td>\n",
              "      <td>0.0</td>\n",
              "      <td>1.0</td>\n",
              "      <td>1.0</td>\n",
              "      <td>0.0</td>\n",
              "      <td>...</td>\n",
              "      <td>1.0</td>\n",
              "      <td>0.0</td>\n",
              "      <td>1.0</td>\n",
              "      <td>0.0</td>\n",
              "      <td>1.0</td>\n",
              "      <td>0.0</td>\n",
              "      <td>1.0</td>\n",
              "      <td>0.0</td>\n",
              "      <td>1.0</td>\n",
              "      <td>0.0</td>\n",
              "    </tr>\n",
              "  </tbody>\n",
              "</table>\n",
              "<p>5 rows × 40 columns</p>\n",
              "</div>"
            ],
            "text/plain": [
              "    FaixaEtaria  IdadeNaDataNotificacao  PASSED  CriterioConfirmacao_Clinico  \\\n",
              "8             3                      26       0                          0.0   \n",
              "11            3                      26       0                          0.0   \n",
              "15            4                      35       0                          0.0   \n",
              "36            3                      27       0                          0.0   \n",
              "40            3                      26       0                          0.0   \n",
              "\n",
              "    CriterioConfirmacao_Clinico_Epdemiologico  \\\n",
              "8                                         0.0   \n",
              "11                                        0.0   \n",
              "15                                        0.0   \n",
              "36                                        0.0   \n",
              "40                                        0.0   \n",
              "\n",
              "    CriterioConfirmacao_Laboratorial  Sexo_F  Sexo_M  Febre_Nao  Febre_Sim  \\\n",
              "8                                1.0     1.0     0.0        1.0        0.0   \n",
              "11                               1.0     1.0     0.0        1.0        0.0   \n",
              "15                               1.0     0.0     1.0        1.0        0.0   \n",
              "36                               1.0     0.0     1.0        1.0        0.0   \n",
              "40                               1.0     0.0     1.0        1.0        0.0   \n",
              "\n",
              "    ...  ComorbidadeTabagismo_Nao  ComorbidadeTabagismo_Sim  \\\n",
              "8   ...                       1.0                       0.0   \n",
              "11  ...                       1.0                       0.0   \n",
              "15  ...                       1.0                       0.0   \n",
              "36  ...                       1.0                       0.0   \n",
              "40  ...                       1.0                       0.0   \n",
              "\n",
              "    ComorbidadeObesidade_Nao  ComorbidadeObesidade_Sim  FicouInternado_Nao  \\\n",
              "8                        1.0                       0.0                 1.0   \n",
              "11                       1.0                       0.0                 1.0   \n",
              "15                       1.0                       0.0                 1.0   \n",
              "36                       1.0                       0.0                 1.0   \n",
              "40                       1.0                       0.0                 1.0   \n",
              "\n",
              "    FicouInternado_Sim  PossuiDeficiencia_Nao  PossuiDeficiencia_Sim  \\\n",
              "8                  0.0                    1.0                    0.0   \n",
              "11                 0.0                    1.0                    0.0   \n",
              "15                 0.0                    1.0                    0.0   \n",
              "36                 0.0                    1.0                    0.0   \n",
              "40                 0.0                    1.0                    0.0   \n",
              "\n",
              "    MoradorDeRua_Nao  MoradorDeRua_Sim  \n",
              "8                1.0               0.0  \n",
              "11               1.0               0.0  \n",
              "15               1.0               0.0  \n",
              "36               1.0               0.0  \n",
              "40               1.0               0.0  \n",
              "\n",
              "[5 rows x 40 columns]"
            ]
          },
          "execution_count": 125,
          "metadata": {},
          "output_type": "execute_result"
        }
      ],
      "source": [
        "covid_df.head()"
      ]
    },
    {
      "cell_type": "markdown",
      "metadata": {
        "id": "EzQLCJ66IORk"
      },
      "source": [
        "# Balanceando Dados"
      ]
    },
    {
      "cell_type": "code",
      "execution_count": 126,
      "metadata": {
        "id": "ersY3p4_IRK2"
      },
      "outputs": [],
      "source": [
        "rus = RandomUnderSampler(sampling_strategy='majority')\n",
        "X,y = rus.fit_resample(covid_df.drop(columns=[\"PASSED\"]), covid_df.PASSED)"
      ]
    },
    {
      "cell_type": "code",
      "execution_count": 127,
      "metadata": {},
      "outputs": [
        {
          "data": {
            "text/plain": [
              "PASSED\n",
              "0    11366\n",
              "1    11366\n",
              "Name: count, dtype: int64"
            ]
          },
          "execution_count": 127,
          "metadata": {},
          "output_type": "execute_result"
        }
      ],
      "source": [
        "y.value_counts()"
      ]
    },
    {
      "cell_type": "markdown",
      "metadata": {
        "id": "CCDv3sReXpnf"
      },
      "source": [
        "# Transformando Dataset em estrutura para grafo"
      ]
    },
    {
      "cell_type": "markdown",
      "metadata": {
        "id": "aqJ9NGMG9WIs"
      },
      "source": [
        "## Determinado propriedades\n",
        "* Nodes -> Pessoas (cada linha da tabela)\n",
        "* Edges -> Similaridade das doenças de cada pessoa\n",
        "* Nodes features -> Comorbidades, etc.\n",
        "* Labels -> Se a pessoa pode morrer por covid"
      ]
    },
    {
      "cell_type": "markdown",
      "metadata": {
        "id": "sqJA_nxr9WIs"
      },
      "source": [
        "## Extraindo Node Features"
      ]
    },
    {
      "cell_type": "code",
      "execution_count": 128,
      "metadata": {
        "colab": {
          "base_uri": "https://localhost:8080/"
        },
        "id": "rD6E-p4k9WIs",
        "outputId": "dd72ee25-2520-45cf-9f4e-d93a899f7142"
      },
      "outputs": [
        {
          "data": {
            "text/plain": [
              "Index(['FaixaEtaria', 'IdadeNaDataNotificacao', 'CriterioConfirmacao_Clinico',\n",
              "       'CriterioConfirmacao_Clinico_Epdemiologico',\n",
              "       'CriterioConfirmacao_Laboratorial', 'Sexo_F', 'Sexo_M', 'Febre_Nao',\n",
              "       'Febre_Sim', 'DificuldadeRespiratoria_Nao',\n",
              "       'DificuldadeRespiratoria_Sim', 'Tosse_Nao', 'Tosse_Sim', 'Coriza_Nao',\n",
              "       'Coriza_Sim', 'DorGarganta_Nao', 'DorGarganta_Sim', 'Diarreia_Nao',\n",
              "       'Diarreia_Sim', 'Cefaleia_Nao', 'Cefaleia_Sim', 'ComorbidadePulmao_Nao',\n",
              "       'ComorbidadePulmao_Sim', 'ComorbidadeCardio_Nao',\n",
              "       'ComorbidadeCardio_Sim', 'ComorbidadeRenal_Nao', 'ComorbidadeRenal_Sim',\n",
              "       'ComorbidadeDiabetes_Nao', 'ComorbidadeDiabetes_Sim',\n",
              "       'ComorbidadeTabagismo_Nao', 'ComorbidadeTabagismo_Sim',\n",
              "       'ComorbidadeObesidade_Nao', 'ComorbidadeObesidade_Sim',\n",
              "       'FicouInternado_Nao', 'FicouInternado_Sim', 'PossuiDeficiencia_Nao',\n",
              "       'PossuiDeficiencia_Sim', 'MoradorDeRua_Nao', 'MoradorDeRua_Sim'],\n",
              "      dtype='object')"
            ]
          },
          "execution_count": 128,
          "metadata": {},
          "output_type": "execute_result"
        }
      ],
      "source": [
        "X.columns"
      ]
    },
    {
      "cell_type": "code",
      "execution_count": 129,
      "metadata": {
        "id": "sj4v61YkkbEA"
      },
      "outputs": [],
      "source": [
        "# Reseta o index\n",
        "covid_df = covid_df.reset_index(drop=True)\n",
        "X = X.reset_index(drop=True)"
      ]
    },
    {
      "cell_type": "code",
      "execution_count": 130,
      "metadata": {
        "id": "04pg-dG-9WIt"
      },
      "outputs": [],
      "source": [
        "personal_info = ['IdadeNaDataNotificacao', 'FaixaEtaria',\n",
        "                 'Sexo_F', 'Sexo_M',\n",
        "                 'PossuiDeficiencia_Nao', 'PossuiDeficiencia_Sim']\n",
        "\n",
        "clinicians = ['CriterioConfirmacao_Clinico',\n",
        "       'CriterioConfirmacao_Clinico_Epdemiologico',\n",
        "       'CriterioConfirmacao_Laboratorial',\n",
        "       'FicouInternado_Sim', 'FicouInternado_Nao']\n",
        "\n",
        "comorbities = ['ComorbidadePulmao_Nao', 'ComorbidadePulmao_Sim',\n",
        "       'ComorbidadeCardio_Nao', 'ComorbidadeCardio_Sim',\n",
        "       'ComorbidadeRenal_Nao', 'ComorbidadeRenal_Sim',\n",
        "       'ComorbidadeDiabetes_Nao', 'ComorbidadeDiabetes_Sim',\n",
        "       'ComorbidadeTabagismo_Nao', 'ComorbidadeTabagismo_Sim',\n",
        "       'ComorbidadeObesidade_Nao', 'ComorbidadeObesidade_Sim']\n",
        "\n",
        "symptoms = ['Febre_Nao', 'Febre_Sim',\n",
        "       'DificuldadeRespiratoria_Nao', 'DificuldadeRespiratoria_Sim',\n",
        "       'Tosse_Nao', 'Tosse_Sim', 'Coriza_Nao', 'Coriza_Sim', 'DorGarganta_Nao',\n",
        "       'DorGarganta_Sim', 'Diarreia_Nao', 'Diarreia_Sim', 'Cefaleia_Nao',\n",
        "       'Cefaleia_Sim']"
      ]
    },
    {
      "cell_type": "code",
      "execution_count": 131,
      "metadata": {
        "colab": {
          "base_uri": "https://localhost:8080/"
        },
        "id": "4xW8FIQ9_m9j",
        "outputId": "e11d6f95-b74b-48e7-f76f-8b5c1946f761"
      },
      "outputs": [
        {
          "data": {
            "text/plain": [
              "array([[12.,  2.,  0., ...,  0.,  0.,  1.],\n",
              "       [81.,  9.,  1., ...,  0.,  1.,  0.],\n",
              "       [49.,  5.,  0., ...,  0.,  0.,  1.],\n",
              "       ...,\n",
              "       [59.,  6.,  0., ...,  0.,  1.,  0.],\n",
              "       [58.,  6.,  1., ...,  0.,  1.,  0.],\n",
              "       [50.,  6.,  0., ...,  1.,  0.,  1.]])"
            ]
          },
          "execution_count": 131,
          "metadata": {},
          "output_type": "execute_result"
        }
      ],
      "source": [
        "features = personal_info + comorbities + clinicians + symptoms\n",
        "\n",
        "all_features = X[features].to_numpy()\n",
        "X.drop(columns=features, inplace=True)\n",
        "all_features"
      ]
    },
    {
      "cell_type": "markdown",
      "metadata": {
        "id": "ORV6602Yaj64"
      },
      "source": [
        "## Definindo similaridade"
      ]
    },
    {
      "cell_type": "code",
      "execution_count": 133,
      "metadata": {
        "id": "c7FqYFmsan9E"
      },
      "outputs": [],
      "source": [
        "# Calcula a similaridade do cosseno para os pacientes\n",
        "similarity = cosine_similarity(all_features)"
      ]
    },
    {
      "cell_type": "code",
      "execution_count": 134,
      "metadata": {
        "id": "o2C5rR6yi-lT"
      },
      "outputs": [],
      "source": [
        "# Defini um limiar para existir uma relação entre os pacientes\n",
        "threshold = 0.9991\n",
        "\n",
        "# Cria a lista de adjacencia\n",
        "adjacency_list = [[],[]]\n",
        "\n",
        "# O resultado de similarity, é uma matriz de paciente x pacientes\n",
        "# Onde cada elemento é o cosseno da similaridade\n",
        "# Assim, percorremos paciente x parciente\n",
        "for pac_i in range(len(similarity)):\n",
        "    for pac_j in range(pac_i + 1, len(similarity[pac_i])):\n",
        "        value = similarity[pac_i][pac_j]\n",
        "\n",
        "        # True, Se o paciente não for si mesmo (i!=j) e\n",
        "        #o cosseno da similiaridade for maior que o limiar\n",
        "\n",
        "        if(pac_i != pac_j and value >= threshold):\n",
        "            # Adiciona a->b e b->a\n",
        "            adjacency_list[0].append(pac_i)\n",
        "            adjacency_list[1].append(pac_j)\n",
        "\n",
        "            adjacency_list[0].append(pac_j)\n",
        "            adjacency_list[1].append(pac_i)"
      ]
    },
    {
      "cell_type": "code",
      "execution_count": 135,
      "metadata": {
        "colab": {
          "base_uri": "https://localhost:8080/"
        },
        "id": "EFFnhktMH9Lw",
        "outputId": "8681a404-a61b-42a7-87c2-4bfec1ee6b61"
      },
      "outputs": [
        {
          "data": {
            "text/plain": [
              "60811282"
            ]
          },
          "execution_count": 135,
          "metadata": {},
          "output_type": "execute_result"
        }
      ],
      "source": [
        "len(adjacency_list[0])"
      ]
    },
    {
      "cell_type": "markdown",
      "metadata": {
        "id": "roqyBZCVvnEk"
      },
      "source": [
        "## Usando Pyg"
      ]
    },
    {
      "cell_type": "code",
      "execution_count": 136,
      "metadata": {
        "id": "Kc599nZczHCv"
      },
      "outputs": [],
      "source": [
        "X_features = torch.from_numpy(all_features).float()\n",
        "y_target = torch.from_numpy(y.to_numpy())"
      ]
    },
    {
      "cell_type": "code",
      "execution_count": 137,
      "metadata": {
        "colab": {
          "base_uri": "https://localhost:8080/"
        },
        "id": "-qdPLQrpZkOA",
        "outputId": "5d81828b-0fe6-4b2b-d837-ec814e91e5ca"
      },
      "outputs": [
        {
          "data": {
            "text/plain": [
              "tensor([[12.,  2.,  0.,  ...,  0.,  0.,  1.],\n",
              "        [81.,  9.,  1.,  ...,  0.,  1.,  0.],\n",
              "        [49.,  5.,  0.,  ...,  0.,  0.,  1.],\n",
              "        ...,\n",
              "        [59.,  6.,  0.,  ...,  0.,  1.,  0.],\n",
              "        [58.,  6.,  1.,  ...,  0.,  1.,  0.],\n",
              "        [50.,  6.,  0.,  ...,  1.,  0.,  1.]], dtype=torch.float64)"
            ]
          },
          "execution_count": 137,
          "metadata": {},
          "output_type": "execute_result"
        }
      ],
      "source": [
        "torch.from_numpy(all_features.astype(np.double))"
      ]
    },
    {
      "cell_type": "code",
      "execution_count": 138,
      "metadata": {
        "id": "rPJiCJMfs53M"
      },
      "outputs": [],
      "source": [
        "edge_index = torch.tensor(adjacency_list, dtype=torch.long)\n",
        "edge_index,_,_ = remove_isolated_nodes(edge_index)\n",
        "\n",
        "data = Data(x=X_features, edge_index=edge_index, y=y_target)"
      ]
    },
    {
      "cell_type": "code",
      "execution_count": 139,
      "metadata": {},
      "outputs": [],
      "source": [
        "# Liberar memória\n",
        "del adjacency_list"
      ]
    },
    {
      "cell_type": "code",
      "execution_count": 140,
      "metadata": {
        "colab": {
          "base_uri": "https://localhost:8080/"
        },
        "id": "qUfpmRndLU6f",
        "outputId": "325b2955-0a7c-4715-a71c-ffac0681b880"
      },
      "outputs": [
        {
          "name": "stdout",
          "output_type": "stream",
          "text": [
            "Number of nodes: 22732\n",
            "Number of edges: 60811282\n",
            "Average node degree: 2675.14\n",
            "Has isolated nodes: True\n",
            "Has self-loops: False\n",
            "Is undirected: True\n"
          ]
        }
      ],
      "source": [
        "def show_data_info(data):\n",
        "    print(f'Number of nodes: {data.num_nodes}')\n",
        "    print(f'Number of edges: {data.num_edges}')\n",
        "    print(f'Average node degree: {data.num_edges / data.num_nodes:.2f}')\n",
        "    print(f'Has isolated nodes: {data.has_isolated_nodes()}')\n",
        "    print(f'Has self-loops: {data.has_self_loops()}')\n",
        "    print(f'Is undirected: {data.is_undirected()}')\n",
        "\n",
        "show_data_info(data)"
      ]
    },
    {
      "cell_type": "code",
      "execution_count": 142,
      "metadata": {
        "id": "7ci1ZAi7V4hq"
      },
      "outputs": [],
      "source": [
        "# Obtendo maior componente\n",
        "transform = LargestConnectedComponents()\n",
        "data = transform(data)"
      ]
    },
    {
      "cell_type": "code",
      "execution_count": 143,
      "metadata": {
        "colab": {
          "base_uri": "https://localhost:8080/"
        },
        "id": "GYl4MmsAbmC9",
        "outputId": "449ae33f-4224-4eb7-db20-bca805ad30f7"
      },
      "outputs": [
        {
          "name": "stdout",
          "output_type": "stream",
          "text": [
            "Number of nodes: 21362\n",
            "Number of edges: 60809772\n",
            "Average node degree: 2846.63\n",
            "Has isolated nodes: False\n",
            "Has self-loops: False\n",
            "Is undirected: True\n"
          ]
        }
      ],
      "source": [
        "show_data_info(data)"
      ]
    },
    {
      "cell_type": "markdown",
      "metadata": {
        "id": "I_uJIrY-MFbZ"
      },
      "source": [
        "## Split dados"
      ]
    },
    {
      "cell_type": "code",
      "execution_count": 144,
      "metadata": {
        "id": "SRkGklaMMH7K"
      },
      "outputs": [],
      "source": [
        "def split_in_masks(data, val=0.1, test=0.3):\n",
        "    # reseta data split\n",
        "    split = T.RandomNodeSplit(num_val=val, num_test=test)\n",
        "\n",
        "    # print(\n",
        "    #     f\"train: {int(data.train_mask.sum())}, \",\n",
        "    #     f\"val: {int(data.val_mask.sum())}, \",\n",
        "    #     f\"test: {int(data.test_mask.sum())}\",\n",
        "    # )\n",
        "\n",
        "    return split(data)\n"
      ]
    },
    {
      "cell_type": "markdown",
      "metadata": {
        "id": "OVQV7LXpU2ez"
      },
      "source": [
        "## GAT"
      ]
    },
    {
      "cell_type": "markdown",
      "metadata": {},
      "source": [
        "## Funções Auxiliares"
      ]
    },
    {
      "cell_type": "code",
      "execution_count": 145,
      "metadata": {},
      "outputs": [],
      "source": [
        "def computes_metrics(target_labels, pred_labels):\n",
        "    accuracy = accuracy_score(target_labels, pred_labels)\n",
        "    f1 = f1_score(target_labels, pred_labels)\n",
        "    roc_auc = roc_auc_score(target_labels, pred_labels)\n",
        "    recall = recall_score(target_labels, pred_labels)\n",
        "    precision = precision_score(target_labels, pred_labels)\n",
        "    \n",
        "    return accuracy, precision, recall, f1, roc_auc\n",
        "\n",
        "def get_df_results(size, csv_name):\n",
        "    # Busca Df já escrito, caso não enconte, instancia um novo\n",
        "    df_results = None\n",
        "    try:\n",
        "        df_results = pd.read_csv(csv_name, sep=\",\", index_col=0)\n",
        "    except FileNotFoundError:\n",
        "        df_results = pd.DataFrame(data=np.zeros(size))\n",
        "    \n",
        "    return df_results\n",
        "\n",
        "def save_metrics(size, resultado, run):\n",
        "    # Mudar o nome para cada grupo de rn_runs\n",
        "    csv_name = \"./results/gnn_es_runs\"\n",
        "\n",
        "    # Obtem Df results    \n",
        "    df_results = get_df_results(size, csv_name)\n",
        "\n",
        "    # Escreve as métricas na coluna run respectiva\n",
        "    df_results.iloc[:, run] = list(resultado)\n",
        "    \n",
        "    # Escreve df modificado\n",
        "    df_results.to_csv(csv_name)\n",
        "        \n",
        "def print_metrics(pred_labels, target_labels, loss, metrics_results, epoch):\n",
        "    print(f\"Pred: {pred_labels.sum()}, Actual: {target_labels.sum()}\")\n",
        "    print(f'Epoch: {epoch:03d}, Train Loss: {loss:.3f}')\n",
        "    print(metrics_results)\n",
        "    print(\"-----------------------------------------------\")"
      ]
    },
    {
      "cell_type": "markdown",
      "metadata": {},
      "source": [
        "## Execução"
      ]
    },
    {
      "cell_type": "code",
      "execution_count": 146,
      "metadata": {
        "id": "0uiNN_sgUTQX"
      },
      "outputs": [],
      "source": [
        "from torch_geometric.nn import GATConv\n",
        "\n",
        "class GAT(torch.nn.Module):\n",
        "    def __init__(self, num_node_features, num_classes):\n",
        "        super().__init__()\n",
        "        self.conv1 = GATConv(num_node_features, 20)\n",
        "        self.conv2 = GATConv(20, num_classes)\n",
        "\n",
        "    def forward(self, x, edge_index):\n",
        "        x = self.conv1(x, edge_index)\n",
        "        x = F.relu(x)\n",
        "\n",
        "        x = self.conv2(x, edge_index)\n",
        "\n",
        "        return x"
      ]
    },
    {
      "cell_type": "code",
      "execution_count": 147,
      "metadata": {
        "id": "BsVRH4_pVJNR"
      },
      "outputs": [],
      "source": [
        "def train(model, data, optimizer, criterion):\n",
        "    model.train()\n",
        "    optimizer.zero_grad()\n",
        "\n",
        "    out = model(data.x, data.edge_index)\n",
        "    loss = criterion(out[data.train_mask], data.y[data.train_mask])\n",
        "\n",
        "    loss.backward()\n",
        "\n",
        "    optimizer.step()\n",
        "\n",
        "    return loss\n",
        "\n",
        "def predict(model, data, mask):\n",
        "    out = model.eval()\n",
        "    pred = model(data.x, data.edge_index).argmax(dim=1)\n",
        "    \n",
        "    pred_labels = pred[mask]\n",
        "    target_labels = data.y[mask]\n",
        "\n",
        "    return pred_labels, target_labels\n",
        "\n",
        "def train_epochs(model, data, optimizer, criterion, run, n_epochs=200, n_runs=10):\n",
        "    metrics = ['accuracy', 'precision', 'recall', 'f1', 'roc_auc']\n",
        "\n",
        "    splited_data = split_in_masks(data)\n",
        "\n",
        "    for epoch in range(1, n_epochs + 1):\n",
        "        loss = train(model, splited_data, optimizer, criterion)\n",
        "\n",
        "        if epoch % 10 == 0:\n",
        "            pred_labels, target_labels = predict(model, splited_data, splited_data.test_mask)\n",
        "\n",
        "            metrics_results = computes_metrics(target_labels, pred_labels)\n",
        "            print_metrics(pred_labels, target_labels, loss, metrics_results, epoch)\n",
        "                \n",
        "    # Salva as métricas ao fim do treinamento de cada run\n",
        "    pred_labels, target_labels = predict(model, splited_data, splited_data.test_mask)\n",
        "    save_metrics((len(metrics), n_runs), metrics_results, run)"
      ]
    },
    {
      "cell_type": "code",
      "execution_count": 148,
      "metadata": {
        "id": "A7R7I-0WU5Ea"
      },
      "outputs": [
        {
          "name": "stdout",
          "output_type": "stream",
          "text": [
            "Pred: 524, Actual: 3213\n",
            "Epoch: 010, Train Loss: 1.165\n",
            "(0.42034638789202683, 0.02099236641221374, 0.0034235916588857764, 0.005887075194005886, 0.42145522511605116)\n",
            "-----------------------------------------------\n",
            "Pred: 21, Actual: 3213\n",
            "Epoch: 020, Train Loss: 0.859\n",
            "(0.4960212201591512, 0.09523809523809523, 0.0006224712107065049, 0.0012368583797155224, 0.49733877002337584)\n",
            "-----------------------------------------------\n",
            "Pred: 5737, Actual: 3213\n",
            "Epoch: 030, Train Loss: 0.667\n",
            "(0.6014978935871431, 0.5574341990587415, 0.9953314659197012, 0.7146368715083798, 0.6004504638734927)\n",
            "-----------------------------------------------\n",
            "Pred: 3996, Actual: 3213\n",
            "Epoch: 040, Train Loss: 0.539\n",
            "(0.815103760337026, 0.7537537537537538, 0.9374416433239963, 0.8356221389929255, 0.8147783936269545)\n",
            "-----------------------------------------------\n",
            "Pred: 3571, Actual: 3213\n",
            "Epoch: 050, Train Loss: 0.432\n",
            "(0.8411608675300359, 0.8073368804256511, 0.8972922502334267, 0.8499410377358491, 0.8410115819377396)\n",
            "-----------------------------------------------\n",
            "Pred: 3700, Actual: 3213\n",
            "Epoch: 060, Train Loss: 0.382\n",
            "(0.8310188797004213, 0.7878378378378378, 0.9072517896047307, 0.8433386373499204, 0.830816132599612)\n",
            "-----------------------------------------------\n",
            "Pred: 3331, Actual: 3213\n",
            "Epoch: 070, Train Loss: 0.361\n",
            "(0.8505227024496801, 0.838486940858601, 0.869281045751634, 0.8536063569682152, 0.8504728132387707)\n",
            "-----------------------------------------------\n",
            "Pred: 3300, Actual: 3213\n",
            "Epoch: 080, Train Loss: 0.357\n",
            "(0.8509907941956624, 0.8421212121212122, 0.8649237472766884, 0.8533701827115001, 0.8509537384693829)\n",
            "-----------------------------------------------\n",
            "Pred: 3342, Actual: 3213\n",
            "Epoch: 090, Train Loss: 0.354\n",
            "(0.8513028553596504, 0.8381208856971873, 0.87177093059446, 0.8546147978642257, 0.8512484189893452)\n",
            "-----------------------------------------------\n",
            "Pred: 3329, Actual: 3213\n",
            "Epoch: 100, Train Loss: 0.352\n",
            "(0.8517709471056327, 0.8398918594172424, 0.8702147525676938, 0.8547844695811678, 0.8517218944315315)\n",
            "-----------------------------------------------\n",
            "Pred: 3334, Actual: 3213\n",
            "Epoch: 110, Train Loss: 0.350\n",
            "(0.8541114058355438, 0.8416316736652669, 0.8733271086212263, 0.8571864976325034, 0.8540603002430287)\n",
            "-----------------------------------------------\n",
            "Pred: 3345, Actual: 3213\n",
            "Epoch: 120, Train Loss: 0.348\n",
            "(0.8533312529255734, 0.8397608370702541, 0.8742608154372861, 0.8566636169563892, 0.8532755891954891)\n",
            "-----------------------------------------------\n",
            "Pred: 3348, Actual: 3213\n",
            "Epoch: 130, Train Loss: 0.347\n",
            "(0.85473552816352, 0.8408004778972521, 0.8761282290694056, 0.8581008992531626, 0.8546786326823874)\n",
            "-----------------------------------------------\n",
            "Pred: 3346, Actual: 3213\n",
            "Epoch: 140, Train Loss: 0.345\n",
            "(0.8562958339834608, 0.842498505678422, 0.8773731714908185, 0.8595822533922853, 0.856239777234771)\n",
            "-----------------------------------------------\n",
            "Pred: 3252, Actual: 3213\n",
            "Epoch: 150, Train Loss: 0.342\n",
            "(0.8628491184272117, 0.8588560885608856, 0.869281045751634, 0.8640371229698376, 0.8628320122375192)\n",
            "-----------------------------------------------\n",
            "Pred: 3215, Actual: 3213\n",
            "Epoch: 160, Train Loss: 0.340\n",
            "(0.8667498829770635, 0.8668740279937791, 0.8674136321195145, 0.8671437461107655, 0.866748117686791)\n",
            "-----------------------------------------------\n",
            "Pred: 3227, Actual: 3213\n",
            "Epoch: 170, Train Loss: 0.339\n",
            "(0.8661257606490872, 0.8648899907034397, 0.8686585745409274, 0.8667701863354037, 0.8661190244419281)\n",
            "-----------------------------------------------\n",
            "Pred: 3242, Actual: 3213\n",
            "Epoch: 180, Train Loss: 0.338\n",
            "(0.8659697300670931, 0.8630475015422578, 0.8708372237784002, 0.8669248644461658, 0.865956784605095)\n",
            "-----------------------------------------------\n",
            "Pred: 3232, Actual: 3213\n",
            "Epoch: 190, Train Loss: 0.337\n",
            "(0.8669059135590576, 0.8650990099009901, 0.8702147525676938, 0.8676493405740885, 0.8668971134553112)\n",
            "-----------------------------------------------\n",
            "Pred: 3243, Actual: 3213\n",
            "Epoch: 200, Train Loss: 0.336\n",
            "(0.8667498829770635, 0.8637064446500154, 0.87177093059446, 0.8677199504337051, 0.8667365291270172)\n",
            "-----------------------------------------------\n",
            "Pred: 5947, Actual: 3172\n",
            "Epoch: 010, Train Loss: 0.725\n",
            "(0.5607739116866906, 0.5300151336808475, 0.9936948297604036, 0.6913038710384911, 0.5651205072496798)\n",
            "-----------------------------------------------\n",
            "Pred: 4551, Actual: 3172\n",
            "Epoch: 020, Train Loss: 0.637\n",
            "(0.7420814479638009, 0.6668863985937157, 0.9568095838587641, 0.785964003625534, 0.744237352942666)\n",
            "-----------------------------------------------\n",
            "Pred: 3875, Actual: 3172\n",
            "Epoch: 030, Train Loss: 0.530\n",
            "(0.7941956623498205, 0.7390967741935484, 0.9029003783102144, 0.8128281538243223, 0.795287075160668)\n",
            "-----------------------------------------------\n",
            "Pred: 3496, Actual: 3172\n",
            "Epoch: 040, Train Loss: 0.424\n",
            "(0.8246216258386644, 0.7929061784897025, 0.8738965952080706, 0.8314337132573485, 0.825116354446791)\n",
            "-----------------------------------------------\n",
            "Pred: 3407, Actual: 3172\n",
            "Epoch: 050, Train Loss: 0.377\n",
            "(0.8381962864721485, 0.8133255063105371, 0.8735813366960908, 0.8423772609819121, 0.8385515580607424)\n",
            "-----------------------------------------------\n",
            "Pred: 3383, Actual: 3172\n",
            "Epoch: 060, Train Loss: 0.361\n",
            "(0.845685754407864, 0.8226426248891516, 0.8773644388398487, 0.8491228070175438, 0.8460038134885064)\n",
            "-----------------------------------------------\n",
            "Pred: 3358, Actual: 3172\n",
            "Epoch: 070, Train Loss: 0.349\n",
            "(0.8467779684818224, 0.8260869565217391, 0.8745271122320303, 0.8496171516079633, 0.8470565743427685)\n",
            "-----------------------------------------------\n",
            "Pred: 3309, Actual: 3172\n",
            "Epoch: 080, Train Loss: 0.337\n",
            "(0.8559837728194726, 0.8398307645814446, 0.8761034047919294, 0.8575837062181764, 0.8561857771565455)\n",
            "-----------------------------------------------\n",
            "Pred: 2352, Actual: 3172\n",
            "Epoch: 090, Train Loss: 0.337\n",
            "(0.8124512404431269, 0.9187925170068028, 0.6812736443883984, 0.782404055032585, 0.8111341963060311)\n",
            "-----------------------------------------------\n",
            "Pred: 3667, Actual: 3172\n",
            "Epoch: 100, Train Loss: 0.353\n",
            "(0.8422530816039944, 0.7946550313607854, 0.9186633039092056, 0.8521713700833455, 0.8430202525106733)\n",
            "-----------------------------------------------\n",
            "Pred: 3148, Actual: 3172\n",
            "Epoch: 110, Train Loss: 0.337\n",
            "(0.8601965985333125, 0.8614993646759848, 0.8549810844892812, 0.8582278481012657, 0.8601442339344769)\n",
            "-----------------------------------------------\n",
            "Pred: 3425, Actual: 3172\n",
            "Epoch: 120, Train Loss: 0.335\n",
            "(0.8553596504914963, 0.8277372262773722, 0.8937578814627994, 0.8594815825375169, 0.8557451748988388)\n",
            "-----------------------------------------------\n",
            "Pred: 3290, Actual: 3172\n",
            "Epoch: 130, Train Loss: 0.333\n",
            "(0.8605086596973007, 0.8462006079027355, 0.8776796973518285, 0.861652739090065, 0.8606810596737516)\n",
            "-----------------------------------------------\n",
            "Pred: 3332, Actual: 3172\n",
            "Epoch: 140, Train Loss: 0.328\n",
            "(0.8608207208612888, 0.8421368547418968, 0.8846153846153846, 0.8628536285362853, 0.8610596231078159)\n",
            "-----------------------------------------------\n",
            "Pred: 3231, Actual: 3172\n",
            "Epoch: 150, Train Loss: 0.325\n",
            "(0.8659697300670931, 0.8579387186629527, 0.8738965952080706, 0.8658441355614556, 0.8660493170665006)\n",
            "-----------------------------------------------\n",
            "Pred: 3215, Actual: 3172\n",
            "Epoch: 160, Train Loss: 0.323\n",
            "(0.8697144640349509, 0.8634525660964231, 0.8751576292559899, 0.8692656959448881, 0.8697691142881742)\n",
            "-----------------------------------------------\n",
            "Pred: 3217, Actual: 3172\n",
            "Epoch: 170, Train Loss: 0.321\n",
            "(0.8697144640349509, 0.8632266086415915, 0.8754728877679697, 0.8693066207544217, 0.8697722795342783)\n",
            "-----------------------------------------------\n",
            "Pred: 3229, Actual: 3172\n",
            "Epoch: 180, Train Loss: 0.320\n",
            "(0.8697144640349509, 0.8618767420253949, 0.8773644388398487, 0.869551632557413, 0.8697912710109036)\n",
            "-----------------------------------------------\n",
            "Pred: 3238, Actual: 3172\n",
            "Epoch: 190, Train Loss: 0.319\n",
            "(0.8698704946169449, 0.8610253242742434, 0.8789407313997478, 0.8698907956318254, 0.8699615612513104)\n",
            "-----------------------------------------------\n",
            "Pred: 3237, Actual: 3172\n",
            "Epoch: 200, Train Loss: 0.318\n",
            "(0.870026525198939, 0.8612913191226444, 0.8789407313997478, 0.8700265251989391, 0.8701160252611962)\n",
            "-----------------------------------------------\n"
          ]
        },
        {
          "name": "stderr",
          "output_type": "stream",
          "text": [
            "i:\\Anaconda\\envs\\covid_es_gnn\\lib\\site-packages\\sklearn\\metrics\\_classification.py:1469: UndefinedMetricWarning: Precision is ill-defined and being set to 0.0 due to no predicted samples. Use `zero_division` parameter to control this behavior.\n",
            "  _warn_prf(average, modifier, msg_start, len(result))\n"
          ]
        },
        {
          "name": "stdout",
          "output_type": "stream",
          "text": [
            "Pred: 0, Actual: 3136\n",
            "Epoch: 010, Train Loss: 0.653\n",
            "(0.5106880948665938, 0.0, 0.0, 0.0, 0.5)\n",
            "-----------------------------------------------\n"
          ]
        },
        {
          "name": "stderr",
          "output_type": "stream",
          "text": [
            "i:\\Anaconda\\envs\\covid_es_gnn\\lib\\site-packages\\sklearn\\metrics\\_classification.py:1469: UndefinedMetricWarning: Precision is ill-defined and being set to 0.0 due to no predicted samples. Use `zero_division` parameter to control this behavior.\n",
            "  _warn_prf(average, modifier, msg_start, len(result))\n"
          ]
        },
        {
          "name": "stdout",
          "output_type": "stream",
          "text": [
            "Pred: 0, Actual: 3136\n",
            "Epoch: 020, Train Loss: 0.875\n",
            "(0.5106880948665938, 0.0, 0.0, 0.0, 0.5)\n",
            "-----------------------------------------------\n",
            "Pred: 321, Actual: 3136\n",
            "Epoch: 030, Train Loss: 0.674\n",
            "(0.49149633328132314, 0.308411214953271, 0.031568877551020405, 0.05727509401214926, 0.4818705982622196)\n",
            "-----------------------------------------------\n",
            "Pred: 3121, Actual: 3136\n",
            "Epoch: 040, Train Loss: 0.664\n",
            "(0.8026213137775003, 0.799743671900032, 0.7959183673469388, 0.7978264343934792, 0.8024810290752414)\n",
            "-----------------------------------------------\n",
            "Pred: 3247, Actual: 3136\n",
            "Epoch: 050, Train Loss: 0.636\n",
            "(0.8207208612888126, 0.8059747459193102, 0.8345025510204082, 0.8199906000313332, 0.8210092956751903)\n",
            "-----------------------------------------------\n",
            "Pred: 2591, Actual: 3136\n",
            "Epoch: 060, Train Loss: 0.585\n",
            "(0.8013730691215478, 0.8595137012736396, 0.7101403061224489, 0.7777195739479658, 0.7994636758232165)\n",
            "-----------------------------------------------\n",
            "Pred: 3102, Actual: 3136\n",
            "Epoch: 070, Train Loss: 0.509\n",
            "(0.8492744577937276, 0.8497743391360413, 0.8405612244897959, 0.8451426739339531, 0.8490921001764592)\n",
            "-----------------------------------------------\n",
            "Pred: 3303, Actual: 3136\n",
            "Epoch: 080, Train Loss: 0.424\n",
            "(0.861288812607271, 0.8401453224341507, 0.8848852040816326, 0.861935083087436, 0.8617826570362334)\n",
            "-----------------------------------------------\n",
            "Pred: 3469, Actual: 3136\n",
            "Epoch: 090, Train Loss: 0.370\n",
            "(0.8575440786394133, 0.820409339867397, 0.9075255102040817, 0.861771385314156, 0.8585901305985273)\n",
            "-----------------------------------------------\n",
            "Pred: 3492, Actual: 3136\n",
            "Epoch: 100, Train Loss: 0.350\n",
            "(0.8595724762053363, 0.8201603665521191, 0.9132653061224489, 0.864212432106216, 0.8606962033209251)\n",
            "-----------------------------------------------\n",
            "Pred: 3473, Actual: 3136\n",
            "Epoch: 110, Train Loss: 0.343\n",
            "(0.8616008737712592, 0.8237834725021596, 0.9123086734693877, 0.8657890755031019, 0.862662127752109)\n",
            "-----------------------------------------------\n",
            "Pred: 3459, Actual: 3136\n",
            "Epoch: 120, Train Loss: 0.338\n",
            "(0.863473240755188, 0.8268285631685458, 0.9119897959183674, 0.8673237300985595, 0.864488634592242)\n",
            "-----------------------------------------------\n",
            "Pred: 3451, Actual: 3136\n",
            "Epoch: 130, Train Loss: 0.333\n",
            "(0.8650335465751288, 0.8290350623007824, 0.9123086734693877, 0.8686807347806285, 0.8660229587939667)\n",
            "-----------------------------------------------\n",
            "Pred: 3444, Actual: 3136\n",
            "Epoch: 140, Train Loss: 0.331\n",
            "(0.8658136994850991, 0.8304297328687572, 0.9119897959183674, 0.8693009118541033, 0.8667801103025995)\n",
            "-----------------------------------------------\n",
            "Pred: 3438, Actual: 3136\n",
            "Epoch: 150, Train Loss: 0.329\n",
            "(0.8667498829770635, 0.8318789994182665, 0.9119897959183674, 0.8700943109218132, 0.8676967005867425)\n",
            "-----------------------------------------------\n",
            "Pred: 3436, Actual: 3136\n",
            "Epoch: 160, Train Loss: 0.327\n",
            "(0.8676860664690279, 0.8329452852153667, 0.9126275510204082, 0.8709677419354839, 0.8686266383271916)\n",
            "-----------------------------------------------\n",
            "Pred: 3423, Actual: 3136\n",
            "Epoch: 170, Train Loss: 0.326\n",
            "(0.8684662193789983, 0.8349401110137307, 0.9113520408163265, 0.8714743101082482, 0.8693637686513652)\n",
            "-----------------------------------------------\n",
            "Pred: 3418, Actual: 3136\n",
            "Epoch: 180, Train Loss: 0.325\n",
            "(0.8692463722889686, 0.8361614979520188, 0.9113520408163265, 0.8721391516631065, 0.870127593888151)\n",
            "-----------------------------------------------\n",
            "Pred: 3401, Actual: 3136\n",
            "Epoch: 190, Train Loss: 0.325\n",
            "(0.8703385863629272, 0.8388709203175536, 0.9097576530612245, 0.8728774667278567, 0.871163580578886)\n",
            "-----------------------------------------------\n",
            "Pred: 3384, Actual: 3136\n",
            "Epoch: 200, Train Loss: 0.324\n",
            "(0.872054922764862, 0.8421985815602837, 0.9088010204081632, 0.8742331288343559, 0.8728239749153557)\n",
            "-----------------------------------------------\n"
          ]
        },
        {
          "name": "stderr",
          "output_type": "stream",
          "text": [
            "i:\\Anaconda\\envs\\covid_es_gnn\\lib\\site-packages\\sklearn\\metrics\\_classification.py:1469: UndefinedMetricWarning: Precision is ill-defined and being set to 0.0 due to no predicted samples. Use `zero_division` parameter to control this behavior.\n",
            "  _warn_prf(average, modifier, msg_start, len(result))\n"
          ]
        },
        {
          "name": "stdout",
          "output_type": "stream",
          "text": [
            "Pred: 0, Actual: 3225\n",
            "Epoch: 010, Train Loss: 2.906\n",
            "(0.49680137306912153, 0.0, 0.0, 0.0, 0.5)\n",
            "-----------------------------------------------\n",
            "Pred: 4781, Actual: 3225\n",
            "Epoch: 020, Train Loss: 0.749\n",
            "(0.7359962552660322, 0.6603221083455344, 0.9789147286821706, 0.7886585061204097, 0.7344322387129446)\n",
            "-----------------------------------------------\n",
            "Pred: 4008, Actual: 3225\n",
            "Epoch: 030, Train Loss: 0.590\n",
            "(0.8241535340926822, 0.7617265469061876, 0.9466666666666667, 0.8441863680353934, 0.8233647403685093)\n",
            "-----------------------------------------------\n",
            "Pred: 661, Actual: 3225\n",
            "Epoch: 040, Train Loss: 0.571\n",
            "(0.5777812451240443, 0.8925869894099848, 0.18294573643410852, 0.3036541430777148, 0.580323370729617)\n",
            "-----------------------------------------------\n",
            "Pred: 3309, Actual: 3225\n",
            "Epoch: 050, Train Loss: 0.488\n",
            "(0.8614448431892651, 0.8531278331822303, 0.8753488372093023, 0.8640955004591369, 0.8613553231272643)\n",
            "-----------------------------------------------\n",
            "Pred: 3241, Actual: 3225\n",
            "Epoch: 060, Train Loss: 0.395\n",
            "(0.8695584334529568, 0.8685590867016353, 0.8728682170542635, 0.8707083204454067, 0.8695371236025085)\n",
            "-----------------------------------------------\n",
            "Pred: 3463, Actual: 3225\n",
            "Epoch: 070, Train Loss: 0.339\n",
            "(0.8648775159931347, 0.8406006352873231, 0.9026356589147286, 0.8705143540669856, 0.8646344123719372)\n",
            "-----------------------------------------------\n",
            "Pred: 3387, Actual: 3225\n",
            "Epoch: 080, Train Loss: 0.326\n",
            "(0.8686222499609924, 0.8517862415116623, 0.8945736434108527, 0.8726557773744706, 0.868455163413969)\n",
            "-----------------------------------------------\n",
            "Pred: 3444, Actual: 3225\n",
            "Epoch: 090, Train Loss: 0.326\n",
            "(0.8662817912310813, 0.8437862950058072, 0.9010852713178295, 0.8714949767581346, 0.8660577110357991)\n",
            "-----------------------------------------------\n",
            "Pred: 3434, Actual: 3225\n",
            "Epoch: 100, Train Loss: 0.326\n",
            "(0.8665938523950695, 0.8450786255096098, 0.8998449612403101, 0.8716023426940983, 0.8663797670523158)\n",
            "-----------------------------------------------\n",
            "Pred: 3425, Actual: 3225\n",
            "Epoch: 110, Train Loss: 0.325\n",
            "(0.8664378218130754, 0.8458394160583942, 0.8982945736434108, 0.8712781954887217, 0.866232713957384)\n",
            "-----------------------------------------------\n",
            "Pred: 3425, Actual: 3225\n",
            "Epoch: 120, Train Loss: 0.325\n",
            "(0.8664378218130754, 0.8458394160583942, 0.8982945736434108, 0.8712781954887217, 0.866232713957384)\n",
            "-----------------------------------------------\n",
            "Pred: 3426, Actual: 3225\n",
            "Epoch: 130, Train Loss: 0.325\n",
            "(0.8665938523950695, 0.8458844133099825, 0.8986046511627906, 0.871447902571042, 0.8663877527170737)\n",
            "-----------------------------------------------\n",
            "Pred: 3426, Actual: 3225\n",
            "Epoch: 140, Train Loss: 0.325\n",
            "(0.8665938523950695, 0.8458844133099825, 0.8986046511627906, 0.871447902571042, 0.8663877527170737)\n",
            "-----------------------------------------------\n",
            "Pred: 3427, Actual: 3225\n",
            "Epoch: 150, Train Loss: 0.325\n",
            "(0.8667498829770635, 0.8459293843011381, 0.8989147286821706, 0.8716175586289839, 0.8665427914767637)\n",
            "-----------------------------------------------\n",
            "Pred: 3427, Actual: 3225\n",
            "Epoch: 160, Train Loss: 0.325\n",
            "(0.8667498829770635, 0.8459293843011381, 0.8989147286821706, 0.8716175586289839, 0.8665427914767637)\n",
            "-----------------------------------------------\n",
            "Pred: 3427, Actual: 3225\n",
            "Epoch: 170, Train Loss: 0.325\n",
            "(0.8667498829770635, 0.8459293843011381, 0.8989147286821706, 0.8716175586289839, 0.8665427914767637)\n",
            "-----------------------------------------------\n",
            "Pred: 3427, Actual: 3225\n",
            "Epoch: 180, Train Loss: 0.325\n",
            "(0.8667498829770635, 0.8459293843011381, 0.8989147286821706, 0.8716175586289839, 0.8665427914767637)\n",
            "-----------------------------------------------\n",
            "Pred: 3426, Actual: 3225\n",
            "Epoch: 190, Train Loss: 0.325\n",
            "(0.8669059135590576, 0.8461762988908348, 0.8989147286821706, 0.8717486092316945, 0.8666998266526431)\n",
            "-----------------------------------------------\n",
            "Pred: 3425, Actual: 3225\n",
            "Epoch: 200, Train Loss: 0.324\n",
            "(0.8670619441410516, 0.8464233576642336, 0.8989147286821706, 0.8718796992481204, 0.8668568618285225)\n",
            "-----------------------------------------------\n",
            "Pred: 6404, Actual: 3173\n",
            "Epoch: 010, Train Loss: 1.340\n",
            "(0.49586518957715714, 0.49547158026233606, 1.0, 0.6626292158295917, 0.5007725587144622)\n",
            "-----------------------------------------------\n",
            "Pred: 723, Actual: 3173\n",
            "Epoch: 020, Train Loss: 1.016\n",
            "(0.4435949446091434, 0.22821576763485477, 0.05200126063662149, 0.08470225872689938, 0.4397830777843182)\n",
            "-----------------------------------------------\n",
            "Pred: 6250, Actual: 3173\n",
            "Epoch: 030, Train Loss: 0.882\n",
            "(0.5186456545482915, 0.50704, 0.9987393633785061, 0.6726095723230394, 0.5233190018375843)\n",
            "-----------------------------------------------\n",
            "Pred: 779, Actual: 3173\n",
            "Epoch: 040, Train Loss: 0.776\n",
            "(0.4654392260883133, 0.337612323491656, 0.08288685786322092, 0.13309716599190283, 0.4617153695991012)\n",
            "-----------------------------------------------\n",
            "Pred: 4216, Actual: 3173\n",
            "Epoch: 050, Train Loss: 0.674\n",
            "(0.7751599313465439, 0.7054079696394687, 0.9372833280806807, 0.8049803762349438, 0.7767380793679053)\n",
            "-----------------------------------------------\n",
            "Pred: 4121, Actual: 3173\n",
            "Epoch: 060, Train Loss: 0.586\n",
            "(0.7853019191761585, 0.7180296044649357, 0.9325559407500787, 0.8113517959967096, 0.7867353251340009)\n",
            "-----------------------------------------------\n",
            "Pred: 3776, Actual: 3173\n",
            "Epoch: 070, Train Loss: 0.491\n",
            "(0.80605398658137, 0.7555614406779662, 0.8991490702804916, 0.8211253417757951, 0.8069601964505055)\n",
            "-----------------------------------------------\n",
            "Pred: 3476, Actual: 3173\n",
            "Epoch: 080, Train Loss: 0.437\n",
            "(0.8207208612888126, 0.7911392405063291, 0.8666876772770249, 0.827192058956234, 0.8211683132985866)\n",
            "-----------------------------------------------\n",
            "Pred: 3494, Actual: 3173\n",
            "Epoch: 090, Train Loss: 0.410\n",
            "(0.8360118583242315, 0.8036634230108758, 0.8849669082886857, 0.8423578821058948, 0.8364883985201155)\n",
            "-----------------------------------------------\n",
            "Pred: 3403, Actual: 3173\n",
            "Epoch: 100, Train Loss: 0.391\n",
            "(0.8467779684818224, 0.8219218336761681, 0.8815001575795777, 0.850669099756691, 0.8471159625969582)\n",
            "-----------------------------------------------\n",
            "Pred: 3368, Actual: 3173\n",
            "Epoch: 110, Train Loss: 0.378\n",
            "(0.8513028553596504, 0.8295724465558195, 0.8805546801134573, 0.8543036232991897, 0.8515875996364567)\n",
            "-----------------------------------------------\n",
            "Pred: 3324, Actual: 3173\n",
            "Epoch: 120, Train Loss: 0.366\n",
            "(0.8575440786394133, 0.8399518652226233, 0.8799243618027104, 0.8594736032014775, 0.8577619336825666)\n",
            "-----------------------------------------------\n",
            "Pred: 3305, Actual: 3173\n",
            "Epoch: 130, Train Loss: 0.358\n",
            "(0.8605086596973007, 0.8447806354009078, 0.8799243618027104, 0.8619944427292374, 0.8606976567975233)\n",
            "-----------------------------------------------\n",
            "Pred: 3277, Actual: 3173\n",
            "Epoch: 140, Train Loss: 0.351\n",
            "(0.8639413325011702, 0.8510833079035703, 0.87897888433659, 0.8648062015503876, 0.8640877116367746)\n",
            "-----------------------------------------------\n",
            "Pred: 3251, Actual: 3173\n",
            "Epoch: 150, Train Loss: 0.345\n",
            "(0.8658136994850991, 0.8557366964011074, 0.8767727702489757, 0.8661270236612703, 0.8659203777079241)\n",
            "-----------------------------------------------\n",
            "Pred: 3236, Actual: 3173\n",
            "Epoch: 160, Train Loss: 0.340\n",
            "(0.8697144640349509, 0.8612484548825711, 0.8783485660258431, 0.8697144640349508, 0.8697985104542071)\n",
            "-----------------------------------------------\n",
            "Pred: 3216, Actual: 3173\n",
            "Epoch: 170, Train Loss: 0.336\n",
            "(0.8728350756748323, 0.8666044776119403, 0.8783485660258431, 0.8724370010956332, 0.8728887453120563)\n",
            "-----------------------------------------------\n",
            "Pred: 3199, Actual: 3173\n",
            "Epoch: 180, Train Loss: 0.331\n",
            "(0.874551412076767, 0.8702719599874961, 0.8774030885597227, 0.8738229755178908, 0.8745791709794906)\n",
            "-----------------------------------------------\n",
            "Pred: 3238, Actual: 3173\n",
            "Epoch: 190, Train Loss: 0.325\n",
            "(0.8762677484787018, 0.8675108091414453, 0.8852820674440592, 0.8763063484635781, 0.8763554960211645)\n",
            "-----------------------------------------------\n",
            "Pred: 3210, Actual: 3173\n",
            "Epoch: 200, Train Loss: 0.320\n",
            "(0.8781401154626307, 0.8725856697819314, 0.8827607942010716, 0.8776437411875293, 0.8781850942575198)\n",
            "-----------------------------------------------\n",
            "Pred: 400, Actual: 3166\n",
            "Epoch: 010, Train Loss: 0.719\n",
            "(0.4769854891558746, 0.2675, 0.033796588755527476, 0.06001121704991586, 0.47172407297782537)\n",
            "-----------------------------------------------\n",
            "Pred: 155, Actual: 3166\n",
            "Epoch: 020, Train Loss: 0.679\n",
            "(0.5033546575128726, 0.44516129032258067, 0.021794061907770057, 0.04155374887082205, 0.497637703170968)\n",
            "-----------------------------------------------\n",
            "Pred: 1993, Actual: 3166\n",
            "Epoch: 030, Train Loss: 0.628\n",
            "(0.7661101575908879, 0.9182137481184145, 0.5780164245104232, 0.7094398139174258, 0.7638771607596826)\n",
            "-----------------------------------------------\n",
            "Pred: 2630, Actual: 3166\n",
            "Epoch: 040, Train Loss: 0.574\n",
            "(0.8430332345139647, 0.9106463878326996, 0.7564750473783954, 0.826432022084196, 0.8420056396312267)\n",
            "-----------------------------------------------\n",
            "Pred: 3673, Actual: 3166\n",
            "Epoch: 050, Train Loss: 0.442\n",
            "(0.8534872835075675, 0.8031581813231691, 0.9317751105495894, 0.8626992250328996, 0.8544166949602712)\n",
            "-----------------------------------------------\n",
            "Pred: 3456, Actual: 3166\n",
            "Epoch: 060, Train Loss: 0.346\n",
            "(0.863629271337182, 0.8315972222222222, 0.9077700568540745, 0.8680157052250075, 0.8641532985472963)\n",
            "-----------------------------------------------\n",
            "Pred: 3091, Actual: 3166\n",
            "Epoch: 070, Train Loss: 0.326\n",
            "(0.8718988921828679, 0.8793270786153349, 0.8584965255843335, 0.8687869586063609, 0.8717397829895149)\n",
            "-----------------------------------------------\n",
            "Pred: 3151, Actual: 3166\n",
            "Epoch: 080, Train Loss: 0.324\n",
            "(0.8734591980028086, 0.8736908917803872, 0.8695514845230575, 0.87161627354757, 0.8734128067080289)\n",
            "-----------------------------------------------\n",
            "Pred: 3242, Actual: 3166\n",
            "Epoch: 090, Train Loss: 0.323\n",
            "(0.87236698392885, 0.8621221468229487, 0.8828174352495262, 0.8723470661672909, 0.8724910487996012)\n",
            "-----------------------------------------------\n",
            "Pred: 3212, Actual: 3166\n",
            "Epoch: 100, Train Loss: 0.322\n",
            "(0.8736152285848027, 0.8667496886674969, 0.8793430195830702, 0.8730009407337723, 0.8736832273370176)\n",
            "-----------------------------------------------\n",
            "Pred: 3175, Actual: 3166\n",
            "Epoch: 110, Train Loss: 0.321\n",
            "(0.8737712591667967, 0.8711811023622047, 0.8736576121288693, 0.872417599747674, 0.8737699099805617)\n",
            "-----------------------------------------------\n",
            "Pred: 3206, Actual: 3166\n",
            "Epoch: 120, Train Loss: 0.320\n",
            "(0.8739272897487907, 0.867747972551466, 0.8787113076437144, 0.8731952291274325, 0.8739840842874755)\n",
            "-----------------------------------------------\n",
            "Pred: 3177, Actual: 3166\n",
            "Epoch: 130, Train Loss: 0.320\n",
            "(0.8737712591667967, 0.8709474346868115, 0.873973468098547, 0.872457827526407, 0.8737736597353666)\n",
            "-----------------------------------------------\n",
            "Pred: 3172, Actual: 3166\n",
            "Epoch: 140, Train Loss: 0.320\n",
            "(0.8739272897487907, 0.8716897856242118, 0.8733417561591914, 0.8725149889555064, 0.8739203384557905)\n",
            "-----------------------------------------------\n",
            "Pred: 3173, Actual: 3166\n",
            "Epoch: 150, Train Loss: 0.319\n",
            "(0.8737712591667967, 0.8714150646076269, 0.8733417561591914, 0.8723773465846348, 0.8737661602257566)\n",
            "-----------------------------------------------\n",
            "Pred: 3177, Actual: 3166\n",
            "Epoch: 160, Train Loss: 0.319\n",
            "(0.8740833203307848, 0.8712621970412339, 0.8742893240682249, 0.872773135740186, 0.8740857659502395)\n",
            "-----------------------------------------------\n",
            "Pred: 3168, Actual: 3166\n",
            "Epoch: 170, Train Loss: 0.319\n",
            "(0.8742393509127789, 0.8724747474747475, 0.8730259001895135, 0.8727502368171771, 0.8742249451610534)\n",
            "-----------------------------------------------\n",
            "Pred: 3169, Actual: 3166\n",
            "Epoch: 180, Train Loss: 0.319\n",
            "(0.8747074426587611, 0.8728305459135374, 0.8736576121288693, 0.8732438831886347, 0.8746949793607652)\n",
            "-----------------------------------------------\n",
            "Pred: 3501, Actual: 3166\n",
            "Epoch: 190, Train Loss: 0.334\n",
            "(0.8640973630831643, 0.8277634961439588, 0.9153506001263424, 0.8693565321733913, 0.864705827352718)\n",
            "-----------------------------------------------\n",
            "Pred: 3217, Actual: 3166\n",
            "Epoch: 200, Train Loss: 0.326\n",
            "(0.874395381494773, 0.8669567920422754, 0.8809222994314593, 0.8738837537208209, 0.8744728672612122)\n",
            "-----------------------------------------------\n",
            "Pred: 6409, Actual: 3235\n",
            "Epoch: 010, Train Loss: 0.956\n",
            "(0.5047589327508192, 0.5047589327508192, 1.0, 0.6708834508502697, 0.5)\n",
            "-----------------------------------------------\n",
            "Pred: 115, Actual: 3235\n",
            "Epoch: 020, Train Loss: 0.687\n",
            "(0.5100639725386176, 0.9130434782608695, 0.03245749613601236, 0.0626865671641791, 0.5146534487611379)\n",
            "-----------------------------------------------\n",
            "Pred: 4948, Actual: 3235\n",
            "Epoch: 030, Train Loss: 0.600\n",
            "(0.7090029645810579, 0.6384397736459175, 0.9765069551777434, 0.7720884761090064, 0.706432431590132)\n",
            "-----------------------------------------------\n",
            "Pred: 4242, Actual: 3235\n",
            "Epoch: 040, Train Loss: 0.552\n",
            "(0.7913871118739273, 0.7237152286657237, 0.9489953632148377, 0.8211849672328474, 0.7898726028424534)\n",
            "-----------------------------------------------\n",
            "Pred: 3992, Actual: 3235\n",
            "Epoch: 050, Train Loss: 0.499\n",
            "(0.8163520049929787, 0.7577655310621243, 0.9350850077279753, 0.837138508371385, 0.8152110608898224)\n",
            "-----------------------------------------------\n",
            "Pred: 3946, Actual: 3235\n",
            "Epoch: 060, Train Loss: 0.459\n",
            "(0.8291465127164924, 0.771160669031931, 0.9406491499227202, 0.8475142737780252, 0.8280750475511521)\n",
            "-----------------------------------------------\n",
            "Pred: 3831, Actual: 3235\n",
            "Epoch: 070, Train Loss: 0.412\n",
            "(0.845841784989858, 0.793265465935787, 0.9394126738794436, 0.8601754882536089, 0.8449426318357521)\n",
            "-----------------------------------------------\n",
            "Pred: 3721, Actual: 3235\n",
            "Epoch: 080, Train Loss: 0.352\n",
            "(0.8630051490092058, 0.8167159365761892, 0.9394126738794436, 0.8737780333525014, 0.8622709242113035)\n",
            "-----------------------------------------------\n",
            "Pred: 3771, Actual: 3235\n",
            "Epoch: 090, Train Loss: 0.343\n",
            "(0.85894835387736, 0.8090692124105012, 0.9431221020092736, 0.8709677419354839, 0.8581395009101189)\n",
            "-----------------------------------------------\n",
            "Pred: 3363, Actual: 3235\n",
            "Epoch: 100, Train Loss: 0.308\n",
            "(0.8845373693243875, 0.8709485578352661, 0.9054095826893354, 0.8878448014549865, 0.8843368014265831)\n",
            "-----------------------------------------------\n",
            "Pred: 3336, Actual: 3235\n",
            "Epoch: 110, Train Loss: 0.293\n",
            "(0.8893743173662038, 0.8785971223021583, 0.9060278207109738, 0.8921016588038351, 0.8892142884273206)\n",
            "-----------------------------------------------\n",
            "Pred: 3232, Actual: 3235\n",
            "Epoch: 120, Train Loss: 0.274\n",
            "(0.8977999687938836, 0.8991336633663366, 0.8982998454404946, 0.8987165610020103, 0.8977951653163407)\n",
            "-----------------------------------------------\n",
            "Pred: 3456, Actual: 3235\n",
            "Epoch: 130, Train Loss: 0.260\n",
            "(0.8959276018099548, 0.8715277777777778, 0.9310664605873261, 0.9003138544313257, 0.8955899410687103)\n",
            "-----------------------------------------------\n",
            "Pred: 3393, Actual: 3235\n",
            "Epoch: 140, Train Loss: 0.247\n",
            "(0.9070057731315337, 0.8888888888888888, 0.9323029366306028, 0.9100784550392275, 0.9067626844463663)\n",
            "-----------------------------------------------\n",
            "Pred: 3409, Actual: 3235\n",
            "Epoch: 150, Train Loss: 0.237\n",
            "(0.9119987517553441, 0.8917571135230273, 0.9397217928902627, 0.9151113786875377, 0.9117323520216909)\n",
            "-----------------------------------------------\n",
            "Pred: 3455, Actual: 3235\n",
            "Epoch: 160, Train Loss: 0.231\n",
            "(0.9157434857232017, 0.8900144717800289, 0.9505409582689336, 0.9192825112107624, 0.9154091054734713)\n",
            "-----------------------------------------------\n",
            "Pred: 3520, Actual: 3235\n",
            "Epoch: 170, Train Loss: 0.229\n",
            "(0.9112185988453737, 0.8786931818181818, 0.9561051004636785, 0.9157660991857883, 0.9107872698285626)\n",
            "-----------------------------------------------\n",
            "Pred: 3194, Actual: 3235\n",
            "Epoch: 180, Train Loss: 0.219\n",
            "(0.9246372288968638, 0.9308077645585473, 0.9190108191653786, 0.9248716752216518, 0.9246912949008999)\n",
            "-----------------------------------------------\n",
            "Pred: 3223, Actual: 3235\n",
            "Epoch: 190, Train Loss: 0.213\n",
            "(0.9266656264627867, 0.9289481849208812, 0.9255023183925811, 0.9272220501703313, 0.9266768050690063)\n",
            "-----------------------------------------------\n",
            "Pred: 3326, Actual: 3235\n",
            "Epoch: 200, Train Loss: 0.208\n",
            "(0.9271337182087689, 0.9161154539987973, 0.9418856259659969, 0.9288218259411676, 0.9269919623213726)\n",
            "-----------------------------------------------\n",
            "Pred: 4358, Actual: 3236\n",
            "Epoch: 010, Train Loss: 0.661\n",
            "(0.7413012950538306, 0.6810463515374025, 0.9171817058096415, 0.781669739267843, 0.7395552399202636)\n",
            "-----------------------------------------------\n",
            "Pred: 3532, Actual: 3236\n",
            "Epoch: 020, Train Loss: 0.584\n",
            "(0.8505227024496801, 0.822480181200453, 0.8977132262051916, 0.8584515366430261, 0.8500542178930149)\n",
            "-----------------------------------------------\n",
            "Pred: 3769, Actual: 3236\n",
            "Epoch: 030, Train Loss: 0.472\n",
            "(0.8410048369480418, 0.7941098434598036, 0.9249072929542645, 0.8545324768022842, 0.8401718941922283)\n",
            "-----------------------------------------------\n",
            "Pred: 3522, Actual: 3236\n",
            "Epoch: 040, Train Loss: 0.409\n",
            "(0.8580121703853956, 0.8302101078932425, 0.9035846724351051, 0.8653447765611127, 0.8575597487608869)\n",
            "-----------------------------------------------\n",
            "Pred: 3480, Actual: 3236\n",
            "Epoch: 050, Train Loss: 0.371\n",
            "(0.8630051490092058, 0.8387931034482758, 0.9020395550061805, 0.8692674210839785, 0.8626176344208336)\n",
            "-----------------------------------------------\n",
            "Pred: 3370, Actual: 3236\n",
            "Epoch: 060, Train Loss: 0.354\n",
            "(0.8692463722889686, 0.8557863501483679, 0.8912237330037083, 0.8731456251892218, 0.8690281917461024)\n",
            "-----------------------------------------------\n",
            "Pred: 3351, Actual: 3236\n",
            "Epoch: 070, Train Loss: 0.343\n",
            "(0.8734591980028086, 0.8618322888689943, 0.892459826946848, 0.876878700470624, 0.8732705690044672)\n",
            "-----------------------------------------------\n",
            "Pred: 3371, Actual: 3236\n",
            "Epoch: 080, Train Loss: 0.333\n",
            "(0.8778280542986425, 0.8638386235538416, 0.899876390605686, 0.881489329499016, 0.877609169144633)\n",
            "-----------------------------------------------\n",
            "Pred: 3390, Actual: 3236\n",
            "Epoch: 090, Train Loss: 0.327\n",
            "(0.8792323295365891, 0.8631268436578171, 0.904202719406675, 0.8831874434047692, 0.8789844356566938)\n",
            "-----------------------------------------------\n",
            "Pred: 3389, Actual: 3236\n",
            "Epoch: 100, Train Loss: 0.325\n",
            "(0.8793883601185832, 0.8633815284744762, 0.904202719406675, 0.8833207547169811, 0.8791420152343806)\n",
            "-----------------------------------------------\n",
            "Pred: 3400, Actual: 3236\n",
            "Epoch: 110, Train Loss: 0.323\n",
            "(0.8798564518645654, 0.8626470588235294, 0.9063658838071693, 0.8839662447257383, 0.879593279123881)\n",
            "-----------------------------------------------\n",
            "Pred: 3389, Actual: 3236\n",
            "Epoch: 120, Train Loss: 0.321\n",
            "(0.8815727882665002, 0.8654470345234583, 0.9063658838071693, 0.8854339622641509, 0.8813266544784348)\n",
            "-----------------------------------------------\n",
            "Pred: 3381, Actual: 3236\n",
            "Epoch: 130, Train Loss: 0.319\n",
            "(0.8821969105944765, 0.8669032830523514, 0.9057478368355995, 0.8858999546622337, 0.8819631084587704)\n",
            "-----------------------------------------------\n",
            "Pred: 3379, Actual: 3236\n",
            "Epoch: 140, Train Loss: 0.317\n",
            "(0.8825089717584647, 0.8674163953832494, 0.9057478368355995, 0.8861678004535146, 0.8822782676141439)\n",
            "-----------------------------------------------\n",
            "Pred: 3368, Actual: 3236\n",
            "Epoch: 150, Train Loss: 0.316\n",
            "(0.8829770635044468, 0.869061757719715, 0.9045117428924598, 0.8864324651726228, 0.8827632776863811)\n",
            "-----------------------------------------------\n",
            "Pred: 3369, Actual: 3236\n",
            "Epoch: 160, Train Loss: 0.315\n",
            "(0.8825089717584647, 0.8685069753636094, 0.904202719406675, 0.885995457986374, 0.8822936067881153)\n",
            "-----------------------------------------------\n",
            "Pred: 3346, Actual: 3236\n",
            "Epoch: 170, Train Loss: 0.314\n",
            "(0.8836011858324232, 0.872086072922893, 0.9017305315203955, 0.8866605894864783, 0.8834212065102764)\n",
            "-----------------------------------------------\n",
            "Pred: 3340, Actual: 3236\n",
            "Epoch: 180, Train Loss: 0.314\n",
            "(0.8848494304883757, 0.8739520958083832, 0.9020395550061805, 0.8877737226277372, 0.884678775296976)\n",
            "-----------------------------------------------\n",
            "Pred: 3376, Actual: 3236\n",
            "Epoch: 190, Train Loss: 0.313\n",
            "(0.8829770635044468, 0.8681872037914692, 0.9057478368355995, 0.8865698729582576, 0.8827510063472042)\n",
            "-----------------------------------------------\n",
            "Pred: 3381, Actual: 3236\n",
            "Epoch: 200, Train Loss: 0.312\n",
            "(0.8828210329224528, 0.8674948240165632, 0.9063658838071693, 0.886504458213692, 0.8825872910999288)\n",
            "-----------------------------------------------\n"
          ]
        },
        {
          "name": "stderr",
          "output_type": "stream",
          "text": [
            "i:\\Anaconda\\envs\\covid_es_gnn\\lib\\site-packages\\sklearn\\metrics\\_classification.py:1469: UndefinedMetricWarning: Precision is ill-defined and being set to 0.0 due to no predicted samples. Use `zero_division` parameter to control this behavior.\n",
            "  _warn_prf(average, modifier, msg_start, len(result))\n"
          ]
        },
        {
          "name": "stdout",
          "output_type": "stream",
          "text": [
            "Pred: 0, Actual: 3192\n",
            "Epoch: 010, Train Loss: 0.743\n",
            "(0.5019503822749258, 0.0, 0.0, 0.0, 0.5)\n",
            "-----------------------------------------------\n",
            "Pred: 667, Actual: 3192\n",
            "Epoch: 020, Train Loss: 0.624\n",
            "(0.5882352941176471, 0.9145427286356822, 0.19110275689223058, 0.3161440787768852, 0.586692192869491)\n",
            "-----------------------------------------------\n",
            "Pred: 3343, Actual: 3192\n",
            "Epoch: 030, Train Loss: 0.525\n",
            "(0.8737712591667967, 0.8564163924618606, 0.8969298245614035, 0.8762050497322111, 0.8738612442670244)\n",
            "-----------------------------------------------\n",
            "Pred: 3952, Actual: 3192\n",
            "Epoch: 040, Train Loss: 0.423\n",
            "(0.8386643782181308, 0.7730263157894737, 0.9570802005012531, 0.8552631578947368, 0.839124495650067)\n",
            "-----------------------------------------------\n",
            "Pred: 3646, Actual: 3192\n",
            "Epoch: 050, Train Loss: 0.363\n",
            "(0.8601965985333125, 0.8148656061437192, 0.9307644110275689, 0.8689675343667739, 0.8604707973695507)\n",
            "-----------------------------------------------\n",
            "Pred: 3529, Actual: 3192\n",
            "Epoch: 060, Train Loss: 0.333\n",
            "(0.8640973630831643, 0.8288466987815245, 0.9163533834586466, 0.8704061895551256, 0.8643004094787792)\n",
            "-----------------------------------------------\n",
            "Pred: 3343, Actual: 3192\n",
            "Epoch: 070, Train Loss: 0.327\n",
            "(0.8703385863629272, 0.8531259347891116, 0.893483709273183, 0.8728385615914308, 0.8704285192309341)\n",
            "-----------------------------------------------\n",
            "Pred: 3328, Actual: 3192\n",
            "Epoch: 080, Train Loss: 0.326\n",
            "(0.8711187392728975, 0.85546875, 0.8919172932330827, 0.8733128834355829, 0.8711995542945021)\n",
            "-----------------------------------------------\n",
            "Pred: 3360, Actual: 3192\n",
            "Epoch: 090, Train Loss: 0.325\n",
            "(0.8714308004368856, 0.8523809523809524, 0.8972431077694235, 0.8742368742368742, 0.8715310969372452)\n",
            "-----------------------------------------------\n",
            "Pred: 3358, Actual: 3192\n",
            "Epoch: 100, Train Loss: 0.323\n",
            "(0.87236698392885, 0.8534842167957117, 0.8978696741854637, 0.8751145038167939, 0.8724660773787126)\n",
            "-----------------------------------------------\n",
            "Pred: 3373, Actual: 3192\n",
            "Epoch: 110, Train Loss: 0.321\n",
            "(0.8740833203307848, 0.853542840201601, 0.9019423558897243, 0.8770753998476771, 0.8741915696141193)\n",
            "-----------------------------------------------\n",
            "Pred: 3364, Actual: 3192\n",
            "Epoch: 120, Train Loss: 0.319\n",
            "(0.8736152285848027, 0.8540428061831153, 0.900062656641604, 0.8764490543014032, 0.8737179929151446)\n",
            "-----------------------------------------------\n",
            "Pred: 3407, Actual: 3192\n",
            "Epoch: 130, Train Loss: 0.318\n",
            "(0.8747074426587611, 0.8506017023774581, 0.9078947368421053, 0.8783148961963935, 0.8748363954648823)\n",
            "-----------------------------------------------\n",
            "Pred: 3214, Actual: 3192\n",
            "Epoch: 140, Train Loss: 0.321\n",
            "(0.8823529411764706, 0.8792781580584941, 0.8853383458646616, 0.8822978457695909, 0.8823645412879417)\n",
            "-----------------------------------------------\n",
            "Pred: 3432, Actual: 3192\n",
            "Epoch: 150, Train Loss: 0.315\n",
            "(0.8739272897487907, 0.8473193473193473, 0.9110275689223057, 0.8780193236714976, 0.8740714468795551)\n",
            "-----------------------------------------------\n",
            "Pred: 3373, Actual: 3192\n",
            "Epoch: 160, Train Loss: 0.315\n",
            "(0.8750195038227493, 0.8544322561517936, 0.9028822055137845, 0.877989337395278, 0.8751277673512349)\n",
            "-----------------------------------------------\n",
            "Pred: 3322, Actual: 3192\n",
            "Epoch: 170, Train Loss: 0.314\n",
            "(0.8779840848806366, 0.8627332931968693, 0.8978696741854637, 0.879950875038379, 0.8780613524797384)\n",
            "-----------------------------------------------\n",
            "Pred: 3327, Actual: 3192\n",
            "Epoch: 180, Train Loss: 0.314\n",
            "(0.8781401154626307, 0.8623384430417794, 0.8988095238095238, 0.8801963491333027, 0.8782204286750447)\n",
            "-----------------------------------------------\n",
            "Pred: 3347, Actual: 3192\n",
            "Epoch: 190, Train Loss: 0.313\n",
            "(0.8778280542986425, 0.8598745144905886, 0.9016290726817042, 0.8802569200183514, 0.8779205357191547)\n",
            "-----------------------------------------------\n",
            "Pred: 3313, Actual: 3192\n",
            "Epoch: 200, Train Loss: 0.313\n",
            "(0.879076298954595, 0.8647751282825233, 0.8975563909774437, 0.8808608762490391, 0.879148105342623)\n",
            "-----------------------------------------------\n",
            "Pred: 6409, Actual: 3208\n",
            "Epoch: 010, Train Loss: 2.273\n",
            "(0.5005461070369792, 0.5005461070369792, 1.0, 0.6671519184776957, 0.5)\n",
            "-----------------------------------------------\n"
          ]
        },
        {
          "name": "stderr",
          "output_type": "stream",
          "text": [
            "i:\\Anaconda\\envs\\covid_es_gnn\\lib\\site-packages\\sklearn\\metrics\\_classification.py:1469: UndefinedMetricWarning: Precision is ill-defined and being set to 0.0 due to no predicted samples. Use `zero_division` parameter to control this behavior.\n",
            "  _warn_prf(average, modifier, msg_start, len(result))\n"
          ]
        },
        {
          "name": "stdout",
          "output_type": "stream",
          "text": [
            "Pred: 0, Actual: 3208\n",
            "Epoch: 020, Train Loss: 1.077\n",
            "(0.49945389296302073, 0.0, 0.0, 0.0, 0.5)\n",
            "-----------------------------------------------\n",
            "Pred: 6405, Actual: 3208\n",
            "Epoch: 030, Train Loss: 0.710\n",
            "(0.5011702293649555, 0.5008587041373926, 1.0, 0.6674295225215854, 0.500624804748516)\n",
            "-----------------------------------------------\n",
            "Pred: 875, Actual: 3208\n",
            "Epoch: 040, Train Loss: 0.646\n",
            "(0.6007177406771728, 0.8708571428571429, 0.23753117206982544, 0.3732549595885379, 0.6011148518893332)\n",
            "-----------------------------------------------\n",
            "Pred: 546, Actual: 3208\n",
            "Epoch: 050, Train Loss: 0.640\n",
            "(0.5684194102044, 0.9047619047619048, 0.15399002493765587, 0.26318593500266385, 0.5688725507381187)\n",
            "-----------------------------------------------\n",
            "Pred: 4264, Actual: 3208\n",
            "Epoch: 060, Train Loss: 0.617\n",
            "(0.7902948977999688, 0.7185741088180112, 0.9551122194513716, 0.8201284796573876, 0.7901146851708591)\n",
            "-----------------------------------------------\n",
            "Pred: 2509, Actual: 3208\n",
            "Epoch: 070, Train Loss: 0.576\n",
            "(0.8232173506007178, 0.913511359107214, 0.7144638403990025, 0.8018191359104424, 0.8233362625925035)\n",
            "-----------------------------------------------\n",
            "Pred: 3142, Actual: 3208\n",
            "Epoch: 080, Train Loss: 0.483\n",
            "(0.8605086596973007, 0.8682367918523234, 0.8503740648379052, 0.8592125984251969, 0.8605197409475375)\n",
            "-----------------------------------------------\n",
            "Pred: 3535, Actual: 3208\n",
            "Epoch: 090, Train Loss: 0.364\n",
            "(0.8475581213917928, 0.8155586987270156, 0.8986907730673317, 0.8551090019279253, 0.8475022125255434)\n",
            "-----------------------------------------------\n",
            "Pred: 3490, Actual: 3208\n",
            "Epoch: 100, Train Loss: 0.338\n",
            "(0.861132782025277, 0.8320916905444126, 0.9052369077306733, 0.8671245147805314, 0.8610845582077297)\n",
            "-----------------------------------------------\n",
            "Pred: 3422, Actual: 3208\n",
            "Epoch: 110, Train Loss: 0.321\n",
            "(0.8642533936651584, 0.8416130917592052, 0.8977556109725686, 0.8687782805429864, 0.8642167620623543)\n",
            "-----------------------------------------------\n",
            "Pred: 3395, Actual: 3208\n",
            "Epoch: 120, Train Loss: 0.315\n",
            "(0.8662817912310813, 0.8462444771723122, 0.895573566084788, 0.8702105103740724, 0.8662497633610444)\n",
            "-----------------------------------------------\n",
            "Pred: 3363, Actual: 3208\n",
            "Epoch: 130, Train Loss: 0.311\n",
            "(0.8703385863629272, 0.8534046981861433, 0.8946384039900249, 0.8735352305585146, 0.8703120167404046)\n",
            "-----------------------------------------------\n",
            "Pred: 3342, Actual: 3208\n",
            "Epoch: 140, Train Loss: 0.308\n",
            "(0.8726790450928382, 0.857869539198085, 0.8937032418952618, 0.8754198473282442, 0.8726560570613454)\n",
            "-----------------------------------------------\n",
            "Pred: 3325, Actual: 3208\n",
            "Epoch: 150, Train Loss: 0.306\n",
            "(0.8731471368388204, 0.8601503759398497, 0.8915211970074813, 0.8755548752487372, 0.8731270464887454)\n",
            "-----------------------------------------------\n",
            "Pred: 3301, Actual: 3208\n",
            "Epoch: 160, Train Loss: 0.305\n",
            "(0.8750195038227493, 0.8645864889427446, 0.8896508728179551, 0.8769396220617606, 0.8750035057623046)\n",
            "-----------------------------------------------\n",
            "Pred: 3302, Actual: 3208\n",
            "Epoch: 170, Train Loss: 0.304\n",
            "(0.8748634732407552, 0.8643246517262265, 0.8896508728179551, 0.8768049155145929, 0.8748473045751756)\n",
            "-----------------------------------------------\n",
            "Pred: 3294, Actual: 3208\n",
            "Epoch: 180, Train Loss: 0.303\n",
            "(0.8757996567327196, 0.8661202185792349, 0.8893391521197007, 0.8775761304214088, 0.8757848525359515)\n",
            "-----------------------------------------------\n",
            "Pred: 3291, Actual: 3208\n",
            "Epoch: 190, Train Loss: 0.303\n",
            "(0.8750195038227493, 0.8656943178365238, 0.8880922693266833, 0.8767502692721957, 0.8750052099523139)\n",
            "-----------------------------------------------\n",
            "Pred: 3289, Actual: 3208\n",
            "Epoch: 200, Train Loss: 0.302\n",
            "(0.8753315649867374, 0.8662207357859532, 0.8880922693266833, 0.8770201631522241, 0.8753176123265719)\n",
            "-----------------------------------------------\n"
          ]
        }
      ],
      "source": [
        "# Definindo dispositivo\n",
        "device = torch.device('cuda' if torch.cuda.is_available() else 'cpu')\n",
        "\n",
        "def monte_carlo_train(device, data, n_runs=10):\n",
        "    # Extraindo quantidade de características e classes\n",
        "    num_node_features = data.x.size(1)\n",
        "    num_classes =  len(np.unique(data.y))\n",
        "    \n",
        "    for run in range(n_runs):\n",
        "        # Instancia o modelo GAT\n",
        "        gat = GAT(num_node_features, num_classes).to(device)\n",
        "\n",
        "        # Roda o otimizador Adam\n",
        "        optimizer_gcn = torch.optim.Adam(gat.parameters(), lr=0.01, weight_decay=5e-4)\n",
        "\n",
        "        # Função custo\n",
        "        criterion = nn.CrossEntropyLoss()\n",
        "\n",
        "        # Treina classificador\n",
        "        train_epochs(gat, data, optimizer_gcn, criterion, run, n_epochs=200, n_runs=10)\n",
        "   \n",
        "\n",
        "monte_carlo_train(device, data)\n",
        "\n"
      ]
    },
    {
      "cell_type": "markdown",
      "metadata": {
        "id": "rYp6mg2MHwT-"
      },
      "source": [
        "# A Fazer"
      ]
    },
    {
      "cell_type": "markdown",
      "metadata": {
        "id": "ysJ0z_VzHyfa"
      },
      "source": [
        "* Testar o uso do Phik (https://towardsdatascience.com/phik-k-get-familiar-with-the-latest-correlation-coefficient-9ba0032b37e7)"
      ]
    }
  ],
  "metadata": {
    "colab": {
      "collapsed_sections": [
        "2N7dQsvSiaGU",
        "t_xBt_dKYlp4",
        "pEa71c636bhX"
      ],
      "provenance": [],
      "toc_visible": true
    },
    "kernelspec": {
      "display_name": "Python 3.10.13 64-bit ('covid_es_gnn')",
      "language": "python",
      "name": "python3"
    },
    "language_info": {
      "codemirror_mode": {
        "name": "ipython",
        "version": 3
      },
      "file_extension": ".py",
      "mimetype": "text/x-python",
      "name": "python",
      "nbconvert_exporter": "python",
      "pygments_lexer": "ipython3",
      "version": "3.10.13"
    },
    "vscode": {
      "interpreter": {
        "hash": "d18b4791e17a610633c3d6efe63d64f7bc6305f70aa7d49f5484cee67bbe0521"
      }
    }
  },
  "nbformat": 4,
  "nbformat_minor": 0
}
